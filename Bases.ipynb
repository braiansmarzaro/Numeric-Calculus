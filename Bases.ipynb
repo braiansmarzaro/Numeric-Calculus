{
 "cells": [
  {
   "cell_type": "markdown",
   "metadata": {},
   "source": [
    "#Um número de base n de 3 dígitos abc pode ser escrito como a*n² + b*n^1 + c*n^0"
   ]
  },
  {
   "cell_type": "code",
   "execution_count": 9,
   "metadata": {},
   "outputs": [
    {
     "name": "stdout",
     "output_type": "stream",
     "text": [
      "1010\n",
      "0b1010\n"
     ]
    }
   ],
   "source": [
    "#Decimal para Binário\n",
    "#Decimal to Binary\n",
    "num=10\n",
    "print(f'{num:b}') # Ou pode ser usada a função bin(num) -> base2:str\n",
    "print(bin(num))\n",
    "#O processo é identico para oct(base 8) e hexadecimal(base 16)\n"
   ]
  },
  {
   "cell_type": "code",
   "execution_count": 10,
   "metadata": {},
   "outputs": [
    {
     "name": "stdout",
     "output_type": "stream",
     "text": [
      "a\n",
      "0xa\n"
     ]
    }
   ],
   "source": [
    "#Decimal to Hexadecimal\n",
    "num=10\n",
    "print(f'{num:x}') #O case da resposta depende do case de X (lower ou upper)\n",
    "print(hex(num))"
   ]
  },
  {
   "cell_type": "code",
   "execution_count": 7,
   "metadata": {},
   "outputs": [
    {
     "name": "stdout",
     "output_type": "stream",
     "text": [
      "170\n"
     ]
    }
   ],
   "source": [
    "#Qualquer numero para decimal\n",
    "num='AA' #Número: string\n",
    "base=16 #Base: int\n",
    "dec = int(num,base)\n",
    "print(dec)"
   ]
  },
  {
   "cell_type": "markdown",
   "metadata": {},
   "source": [
    "#Números decimais em Binário"
   ]
  },
  {
   "cell_type": "markdown",
   "metadata": {},
   "source": [
    "##Um número decimal é a parte de potência negativa da base, por exemplo 0.5 pode ser escrito como 2^-1\n",
    "https://prnt.sc/1w07ssh\n",
    "\n",
    "Slide 13 do Bloco 1\n",
    "\n",
    "Para se obter a conversão do decimal manualmente, basta multiplicar o número pela base e retirar a parte inteira, como mostra o slide 13"
   ]
  },
  {
   "cell_type": "code",
   "execution_count": 10,
   "metadata": {},
   "outputs": [
    {
     "name": "stdout",
     "output_type": "stream",
     "text": [
      "['1000', 0] 0.22\n",
      "['1000', 0, 0] 0.44\n",
      "['1000', 0, 0, 0] 0.88\n",
      "['1000', 0, 0, 0, 1] 0.76\n",
      "['1000', 0, 0, 0, 1, 1] 0.52\n",
      "['1000', 0, 0, 0, 1, 1, 1] 0.04\n",
      "['1000', 0, 0, 0, 1, 1, 1, 0] 0.08\n",
      "['1000', 0, 0, 0, 1, 1, 1, 0, 0] 0.16\n",
      "['1000', 0, 0, 0, 1, 1, 1, 0, 0, 0] 0.32\n",
      "['1000', 0, 0, 0, 1, 1, 1, 0, 0, 0, 0] 0.64\n",
      "['1000', 0, 0, 0, 1, 1, 1, 0, 0, 0, 0, 1] 0.28\n",
      "['1000', 0, 0, 0, 1, 1, 1, 0, 0, 0, 0, 1, 0] 0.56\n",
      "['1000', 0, 0, 0, 1, 1, 1, 0, 0, 0, 0, 1, 0, 1] 0.12\n",
      "['1000', 0, 0, 0, 1, 1, 1, 0, 0, 0, 0, 1, 0, 1, 0] 0.24\n",
      "['1000', 0, 0, 0, 1, 1, 1, 0, 0, 0, 0, 1, 0, 1, 0, 0] 0.48\n",
      "['1000', 0, 0, 0, 1, 1, 1, 0, 0, 0, 0, 1, 0, 1, 0, 0, 0] 0.96\n",
      "['1000', 0, 0, 0, 1, 1, 1, 0, 0, 0, 0, 1, 0, 1, 0, 0, 0, 1] 0.92\n",
      "['1000', 0, 0, 0, 1, 1, 1, 0, 0, 0, 0, 1, 0, 1, 0, 0, 0, 1, 1] 0.84\n",
      "['1000', 0, 0, 0, 1, 1, 1, 0, 0, 0, 0, 1, 0, 1, 0, 0, 0, 1, 1, 1] 0.68\n",
      "['1000', 0, 0, 0, 1, 1, 1, 0, 0, 0, 0, 1, 0, 1, 0, 0, 0, 1, 1, 1, 1] 0.36\n",
      "['1000', 0, 0, 0, 1, 1, 1, 0, 0, 0, 0, 1, 0, 1, 0, 0, 0, 1, 1, 1, 1, 0] 0.72\n",
      "Dizima encontrada\n",
      "10000001110000101000111101 Dizima\n"
     ]
    }
   ],
   "source": [
    "def dectofloat_binary(num: float) -> str:\n",
    "    binary = f'{int(num):b}'\n",
    "    remain = num%1\n",
    "    remainlist=[]\n",
    "    result =[binary]\n",
    "    while remain!=0:\n",
    "        \n",
    "        remain*=2\n",
    "        result += [int(remain)]\n",
    "        remain%=1\n",
    "        if float(f'{remain:.2f}') in remainlist:\n",
    "            print('Dizima encontrada')\n",
    "            result+=[' Dizima']\n",
    "            break\n",
    "        remainlist+=[float(f'{remain:.2f}')]\n",
    "\n",
    "        print(result,remainlist[-1])\n",
    "    result = ''.join(list(map(str,result)))\n",
    "    return result\n",
    "\n",
    "print(dectofloat_binary(8.11))\n",
    "\n"
   ]
  },
  {
   "cell_type": "code",
   "execution_count": null,
   "metadata": {},
   "outputs": [],
   "source": []
  }
 ],
 "metadata": {
  "interpreter": {
   "hash": "9c464d06a4b2d4767f115b1ab41e495990683f3b61f9428babbb6293818e2cac"
  },
  "kernelspec": {
   "display_name": "Python 3.10.0 64-bit",
   "name": "python3"
  },
  "language_info": {
   "codemirror_mode": {
    "name": "ipython",
    "version": 3
   },
   "file_extension": ".py",
   "mimetype": "text/x-python",
   "name": "python",
   "nbconvert_exporter": "python",
   "pygments_lexer": "ipython3",
   "version": "3.10.0"
  },
  "orig_nbformat": 4
 },
 "nbformat": 4,
 "nbformat_minor": 2
}
