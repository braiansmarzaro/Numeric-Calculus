{
 "cells": [
  {
   "cell_type": "markdown",
   "metadata": {},
   "source": [
    "Um número de base n de 3 dígitos abc pode ser escrito como a*n² + b*n^1 + c*n^0"
   ]
  },
  {
   "cell_type": "code",
   "execution_count": 9,
   "metadata": {},
   "outputs": [
    {
     "name": "stdout",
     "output_type": "stream",
     "text": [
      "1010\n",
      "0b1010\n"
     ]
    }
   ],
   "source": [
    "#Decimal para Binário\n",
    "#Decimal to Binary\n",
    "num=10\n",
    "print(f'{num:b}') # Ou pode ser usada a função bin(num) -> base2:str\n",
    "print(bin(num))\n",
    "#O processo é identico para oct(base 8) e hexadecimal(base 16)\n"
   ]
  },
  {
   "cell_type": "code",
   "execution_count": 10,
   "metadata": {},
   "outputs": [
    {
     "name": "stdout",
     "output_type": "stream",
     "text": [
      "a\n",
      "0xa\n"
     ]
    }
   ],
   "source": [
    "#Decimal to Hexadecimal\n",
    "num=10\n",
    "print(f'{num:x}') #O case da resposta depende do case de X (lower ou upper)\n",
    "print(hex(num))"
   ]
  },
  {
   "cell_type": "code",
   "execution_count": 7,
   "metadata": {},
   "outputs": [
    {
     "name": "stdout",
     "output_type": "stream",
     "text": [
      "170\n"
     ]
    }
   ],
   "source": [
    "#Qualquer numero para decimal\n",
    "num='AA' #Número: string\n",
    "base=16 #Base: int\n",
    "dec = int(num,base)\n",
    "print(dec)"
   ]
  },
  {
   "cell_type": "code",
   "execution_count": null,
   "metadata": {},
   "outputs": [],
   "source": []
  }
 ],
 "metadata": {
  "interpreter": {
   "hash": "9c464d06a4b2d4767f115b1ab41e495990683f3b61f9428babbb6293818e2cac"
  },
  "kernelspec": {
   "display_name": "Python 3.10.0 64-bit",
   "name": "python3"
  },
  "language_info": {
   "codemirror_mode": {
    "name": "ipython",
    "version": 3
   },
   "file_extension": ".py",
   "mimetype": "text/x-python",
   "name": "python",
   "nbconvert_exporter": "python",
   "pygments_lexer": "ipython3",
   "version": "3.10.0"
  },
  "orig_nbformat": 4
 },
 "nbformat": 4,
 "nbformat_minor": 2
}
