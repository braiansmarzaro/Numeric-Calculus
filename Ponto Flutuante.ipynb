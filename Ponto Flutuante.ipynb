{
 "cells": [
  {
   "cell_type": "markdown",
   "metadata": {},
   "source": [
    "#Slide 32"
   ]
  },
  {
   "cell_type": "markdown",
   "metadata": {},
   "source": [
    "##Arredondamento\n",
    "A mantissa(região dos números à direita do ponto), possui um limite n de caracteres (15 no python), sendo necessário arredondar caso o numero possua >n caracteres\n",
    "\n",
    "O arredondamento segue o sentido do round. Para o ultimo número =5, o arredondamente visa deixar o ultimo número par, ou seja, se o penultimo era par, arredonda pra baixo, caso contrário, para cima."
   ]
  },
  {
   "cell_type": "code",
   "execution_count": 10,
   "metadata": {},
   "outputs": [
    {
     "name": "stdout",
     "output_type": "stream",
     "text": [
      "0.3\n",
      "0.2\n"
     ]
    }
   ],
   "source": [
    "#A função round não respeita a paridade do ultimo número, no caso de finalizar com 5 arredonda sempre pra baixo\n",
    "\n",
    "print(round(0.35,1))\n",
    "\n",
    "print(round(0.25,1))\n"
   ]
  },
  {
   "cell_type": "markdown",
   "metadata": {},
   "source": [
    "#Range da Aritmética de PF\n",
    "\n",
    "##Descrição do sistema : \n",
    "\n",
    "    Um número 𝑥 em um sistema de Ponto Flutuante 𝐹𝑃(𝛽, 𝑛, 𝑒1, 𝑒2) é:\n",
    "    𝑥 = ± 0, 𝑑1𝑑2 ⋯ 𝑑𝑛 . 𝛽\n",
    "    𝑒\n",
    "    𝛽 é a base;\n",
    "    𝑑𝑖 com 0 ≤ 𝑑𝑖 ≤ 𝛽 − 1 são os dígitos da parte fracionária (mantissa), 𝑑1 ≠ 0;\n",
    "    𝑛 é o número de dígitos na mantissa;\n",
    "    e é um expoente inteiro.\n",
    "    𝑒1 e 𝑒2são o menor e o maior expoente possível, respectivamente, para o sistema.\n",
    "\n",
    "#O menor número em um sistema 𝐹𝑃(𝛽, 𝑛, 𝑒1, 𝑒2) é 0,1 * 𝛽**e1 e o maior número é 0,aa...(n a's), onde a = 𝛽-1"
   ]
  },
  {
   "cell_type": "markdown",
   "metadata": {},
   "source": [
    "Exemplo: Quantos números podem ser representados de forma exata no\n",
    "sistema 𝐹𝑃(2, 3, −1,2)? _base binária_\n",
    "\n",
    "Sabendo que o d1 precisa ser no mínimo 1 e que temos 3 numeros na mantissa, a quantidade de valores positivos é a permutação de n entre 0 e 1, sendo o primeiro algarismo 1, ou seja 1.2.2 = 4. Esse valor é ainda multiplicado pela quantidade possível de potências da base, no caso o range [-1,2], ou seja, o total é 4.4 = 16\n",
    "\n",
    "A análise é análoga aos negativos. Dessa forma, temos 16 positivos, 16 negativos e o zero. Total de 33 valores\n",
    "\n",
    "Em um sistema qualquer 𝐹𝑃(𝛽, 𝑛, 𝑒1, 𝑒2), a quantidade de valores representáveis 𝑁 é:\n",
    "𝑁 = 2. 𝛽 − 1 . 𝛽^(𝑛−1). (𝑒2 − 𝑒1 + 1) + 1 "
   ]
  },
  {
   "cell_type": "markdown",
   "metadata": {},
   "source": [
    "Rever slide 36 a respeito do tamanho da palavra e diferenças observadas na mantissa e no expoente\n",
    "\n",
    "A distribuição dos valores não é uniforme na reta, visto a diferença no expoente"
   ]
  },
  {
   "cell_type": "markdown",
   "metadata": {},
   "source": [
    "#\"O erro por arredondamento é proporcional ao módulo do número\""
   ]
  },
  {
   "cell_type": "markdown",
   "metadata": {},
   "source": [
    "Slide 37 Bloco 1\n",
    "#Erro absoluto\n",
    "\n",
    "Erro absoluto (𝐸𝐴) – Medir quão próximo uma quantidade 𝑥ҧestá do valor\n",
    "exato 𝑥, ou seja, medir a exatidão de uma quantidade\n",
    "|𝐸𝐴| = |𝑥 − 𝑥ҧ|\n",
    "\n",
    "#Erro relativo\n",
    "\n",
    "Erro relativo (𝐸𝑅) – É o quociente entre o erro absoluto é o valor real\n",
    "(𝑥 ≠ 0)\n",
    "|𝐸𝑅| = |𝑥 − 𝑥ҧ| / x\n",
    "\n",
    "Limitante 𝜀 – estimativa para o módulo do erro absoluto\n",
    "\n",
    "𝐸𝐴 ≤ 𝜀\n",
    "𝑥 = 𝑥ҧ± 𝜀 ⇒ 𝑥 ∈ (𝑥ҧ− 𝜀, 𝑥ҧ+ 𝜀)\n"
   ]
  },
  {
   "cell_type": "code",
   "execution_count": 3,
   "metadata": {},
   "outputs": [
    {
     "ename": "TypeError",
     "evalue": "'float' object cannot be interpreted as an integer",
     "output_type": "error",
     "traceback": [
      "\u001b[1;31m---------------------------------------------------------------------------\u001b[0m",
      "\u001b[1;31mTypeError\u001b[0m                                 Traceback (most recent call last)",
      "\u001b[1;32m~\\AppData\\Local\\Temp/ipykernel_6368/1082309639.py\u001b[0m in \u001b[0;36m<module>\u001b[1;34m\u001b[0m\n\u001b[0;32m      6\u001b[0m \u001b[0mb\u001b[0m\u001b[1;33m=\u001b[0m\u001b[1;36m10\u001b[0m\u001b[1;33m\u001b[0m\u001b[1;33m\u001b[0m\u001b[0m\n\u001b[0;32m      7\u001b[0m \u001b[0mn\u001b[0m\u001b[1;33m=\u001b[0m\u001b[1;36m3\u001b[0m\u001b[1;33m\u001b[0m\u001b[1;33m\u001b[0m\u001b[0m\n\u001b[1;32m----> 8\u001b[1;33m \u001b[0mspace\u001b[0m\u001b[1;33m=\u001b[0m\u001b[0mnp\u001b[0m\u001b[1;33m.\u001b[0m\u001b[0mlinspace\u001b[0m\u001b[1;33m(\u001b[0m\u001b[1;36m0.1\u001b[0m\u001b[1;33m,\u001b[0m\u001b[0mfloat\u001b[0m\u001b[1;33m(\u001b[0m\u001b[1;34m'0.'\u001b[0m\u001b[1;33m+\u001b[0m\u001b[1;34mf'{b-1}'\u001b[0m\u001b[1;33m*\u001b[0m\u001b[0mn\u001b[0m\u001b[1;33m)\u001b[0m\u001b[1;33m,\u001b[0m\u001b[0mfloat\u001b[0m\u001b[1;33m(\u001b[0m\u001b[1;34m'0.'\u001b[0m\u001b[1;33m+\u001b[0m\u001b[1;34m'0'\u001b[0m\u001b[1;33m*\u001b[0m\u001b[1;33m(\u001b[0m\u001b[0mn\u001b[0m\u001b[1;33m-\u001b[0m\u001b[1;36m1\u001b[0m\u001b[1;33m)\u001b[0m\u001b[1;33m+\u001b[0m\u001b[1;34m'1'\u001b[0m\u001b[1;33m)\u001b[0m\u001b[1;33m)\u001b[0m\u001b[1;33m\u001b[0m\u001b[1;33m\u001b[0m\u001b[0m\n\u001b[0m",
      "\u001b[1;32m<__array_function__ internals>\u001b[0m in \u001b[0;36mlinspace\u001b[1;34m(*args, **kwargs)\u001b[0m\n",
      "\u001b[1;32m~\\AppData\\Local\\Programs\\Python\\Python310\\lib\\site-packages\\numpy\\core\\function_base.py\u001b[0m in \u001b[0;36mlinspace\u001b[1;34m(start, stop, num, endpoint, retstep, dtype, axis)\u001b[0m\n\u001b[0;32m    118\u001b[0m \u001b[1;33m\u001b[0m\u001b[0m\n\u001b[0;32m    119\u001b[0m     \"\"\"\n\u001b[1;32m--> 120\u001b[1;33m     \u001b[0mnum\u001b[0m \u001b[1;33m=\u001b[0m \u001b[0moperator\u001b[0m\u001b[1;33m.\u001b[0m\u001b[0mindex\u001b[0m\u001b[1;33m(\u001b[0m\u001b[0mnum\u001b[0m\u001b[1;33m)\u001b[0m\u001b[1;33m\u001b[0m\u001b[1;33m\u001b[0m\u001b[0m\n\u001b[0m\u001b[0;32m    121\u001b[0m     \u001b[1;32mif\u001b[0m \u001b[0mnum\u001b[0m \u001b[1;33m<\u001b[0m \u001b[1;36m0\u001b[0m\u001b[1;33m:\u001b[0m\u001b[1;33m\u001b[0m\u001b[1;33m\u001b[0m\u001b[0m\n\u001b[0;32m    122\u001b[0m         \u001b[1;32mraise\u001b[0m \u001b[0mValueError\u001b[0m\u001b[1;33m(\u001b[0m\u001b[1;34m\"Number of samples, %s, must be non-negative.\"\u001b[0m \u001b[1;33m%\u001b[0m \u001b[0mnum\u001b[0m\u001b[1;33m)\u001b[0m\u001b[1;33m\u001b[0m\u001b[1;33m\u001b[0m\u001b[0m\n",
      "\u001b[1;31mTypeError\u001b[0m: 'float' object cannot be interpreted as an integer"
     ]
    }
   ],
   "source": [
    "#Range de um sistema FP(𝛽, 𝑛, 𝑒1, 𝑒2)\n",
    "from matplotlib import pyplot as plt\n",
    "import numpy as np\n",
    "\n",
    "#.1*b**e1 >>> .'b-1'*n *b**e1\n",
    "b=10\n",
    "n=3\n",
    "space=np.linspace(0.1,float('0.'+f'{b-1}'*n),float('0.'+'0'*(n-1)+'1'))\n"
   ]
  }
 ],
 "metadata": {
  "interpreter": {
   "hash": "9c464d06a4b2d4767f115b1ab41e495990683f3b61f9428babbb6293818e2cac"
  },
  "kernelspec": {
   "display_name": "Python 3.10.0 64-bit",
   "name": "python3"
  },
  "language_info": {
   "codemirror_mode": {
    "name": "ipython",
    "version": 3
   },
   "file_extension": ".py",
   "mimetype": "text/x-python",
   "name": "python",
   "nbconvert_exporter": "python",
   "pygments_lexer": "ipython3",
   "version": "3.10.0"
  },
  "orig_nbformat": 4
 },
 "nbformat": 4,
 "nbformat_minor": 2
}
