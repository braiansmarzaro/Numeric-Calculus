{
 "cells": [
  {
   "cell_type": "markdown",
   "metadata": {},
   "source": [
    "Fazer os exercícios 1c, 2, 5, 8, 10, 13, 16"
   ]
  },
  {
   "cell_type": "code",
   "execution_count": 161,
   "metadata": {},
   "outputs": [],
   "source": [
    "import numpy as np\n",
    "import matplotlib.pyplot as plt\n",
    "import sympy\n",
    "from sympy import diff, sin, exp \n",
    "from sympy.abc import x,y \n",
    "from sympy.utilities.lambdify import lambdify, implemented_function\n"
   ]
  },
  {
   "cell_type": "code",
   "execution_count": 162,
   "metadata": {},
   "outputs": [],
   "source": [
    "def trapezio(xk,yk,x0,x1,func,cor='red'):\n",
    "    assert x1>x0\n",
    "    xk = np.array(xk,dtype=np.float64)\n",
    "    yk = np.array(yk,dtype=np.float64)\n",
    "\n",
    "    dx = x1-x0\n",
    "    area =((func(x0))+func(x1)) *dx/2\n",
    "    print(area)\n",
    "    plt.plot(xk,yk)\n",
    "    plt.grid()\n",
    "    \n",
    "    plt.fill_between(np.array([x0,x1],dtype=np.float64),np.array([func(x0),func(x1)],dtype=np.float64),color = cor)\n",
    "    #plt.yticks(np.arange(0,max(yk),max(yk)/15))\n",
    "    return area"
   ]
  },
  {
   "cell_type": "code",
   "execution_count": 163,
   "metadata": {},
   "outputs": [],
   "source": [
    "def trapezios_repetidos(xk,yk,func,inicio,fim,points):\n",
    "    \"\"\"Gera o gráfico e valor da integral com base na lista de pontos definida\n",
    "\n",
    "    Args:\n",
    "        xk (list)\n",
    "        yk (list) \n",
    "        points (int): Quantidade de pontos em que o intervalo será dividido\n",
    "\n",
    "    Returns:\n",
    "        _type_: _description_\n",
    "    \"\"\"\n",
    "    space = np.linspace(inicio,fim,points+1)\n",
    "    print(space)\n",
    "    soma = 0\n",
    "    cores = ('r','green','yellow','purple','orange','blue')\n",
    "    for i,c in enumerate(space):\n",
    "        if i == 0: continue\n",
    "\n",
    "        soma += trapezio(xk,yk,space[i-1],c,func,cor = cores[i%len(cores)])\n",
    "    plt.show()\n",
    "    #erro = (space[1]-space[0])**3/12*points\n",
    "    #print(f'{erro=}')\n",
    "    return soma"
   ]
  },
  {
   "cell_type": "markdown",
   "metadata": {},
   "source": [
    "# 1)\n",
    "## c)"
   ]
  },
  {
   "cell_type": "code",
   "execution_count": 164,
   "metadata": {},
   "outputs": [],
   "source": [
    "x4 = np.linspace(2,14,4)\n",
    "x6 = np.linspace(2,14,6)\n",
    "xlist = np.linspace(2,14,24)\n",
    "\n",
    "lam_f = lambda i: 1/i**.5\n",
    "\n",
    "y4=[lam_f(w) for w in x4]\n",
    "y4 = np.array(y4,dtype=np.float64)\n",
    "\n",
    "y6=[lam_f(w) for w in x6]\n",
    "y6 = np.array(y6,dtype=np.float64)\n",
    "\n",
    "ylist = [lam_f(w) for w in xlist]\n",
    "ylist = np.array(ylist,dtype=np.float64)"
   ]
  },
  {
   "cell_type": "markdown",
   "metadata": {},
   "source": [
    "### Trapézios - 4 divisões"
   ]
  },
  {
   "cell_type": "code",
   "execution_count": 165,
   "metadata": {},
   "outputs": [
    {
     "name": "stdout",
     "output_type": "stream",
     "text": [
      "[ 2.  5.  8. 11. 14.]\n",
      "1.731480565029758\n",
      "1.2011504791398475\n",
      "0.9825971027565561\n",
      "0.853158879735282\n"
     ]
    },
    {
     "data": {
      "image/png": "[encoded data removed]",
      "text/plain": [
       "<Figure size 432x288 with 1 Axes>"
      ]
     },
     "metadata": {
      "needs_background": "light"
     },
     "output_type": "display_data"
    },
    {
     "data": {
      "text/plain": [
       "4.768387026661443"
      ]
     },
     "execution_count": 165,
     "metadata": {},
     "output_type": "execute_result"
    }
   ],
   "source": [
    "trapezios_repetidos(xlist,ylist,lam_f,x4[0],x4[-1],4)"
   ]
  },
  {
   "cell_type": "markdown",
   "metadata": {},
   "source": [
    "### Trapézios - 6 divisões"
   ]
  },
  {
   "cell_type": "code",
   "execution_count": 166,
   "metadata": {},
   "outputs": [
    {
     "name": "stdout",
     "output_type": "stream",
     "text": [
      "[ 2.  4.  6.  8. 10. 12. 14.]\n",
      "1.2071067811865475\n",
      "0.9082482904638631\n",
      "0.7618016810571369\n",
      "0.6697811566101117\n",
      "0.6049029006116509\n",
      "0.5559363765072374\n"
     ]
    },
    {
     "data": {
      "image/png": "[encoded data removed]",
      "text/plain": [
       "<Figure size 432x288 with 1 Axes>"
      ]
     },
     "metadata": {
      "needs_background": "light"
     },
     "output_type": "display_data"
    },
    {
     "data": {
      "text/plain": [
       "4.707777186436548"
      ]
     },
     "execution_count": 166,
     "metadata": {},
     "output_type": "execute_result"
    }
   ],
   "source": [
    "trapezios_repetidos(xlist,ylist,lam_f,x6[0],x6[-1],6)"
   ]
  },
  {
   "cell_type": "code",
   "execution_count": 167,
   "metadata": {},
   "outputs": [],
   "source": [
    "def simpson(xk,func,intervalos=6):\n",
    "\n",
    "    def passo(xk,func):\n",
    "        h = xk[1]-xk[0]\n",
    "        return (func(xk[0])+4*func(xk[len(xk)//2])+func(xk[-1]))*h/3\n",
    "    \n",
    "    xk = np.linspace(xk[0],xk[-1],intervalos+1,dtype = 'float64')\n",
    "    print(xk)\n",
    "    soma = 0\n",
    "    for c in range(0,len(xk)-1,2):\n",
    "        print(xk[c:c+3])\n",
    "        soma+=passo(xk[c:c+3],func)\n",
    "    return soma\n"
   ]
  },
  {
   "cell_type": "markdown",
   "metadata": {},
   "source": [
    "### Simpson - 4 divisões"
   ]
  },
  {
   "cell_type": "code",
   "execution_count": 168,
   "metadata": {},
   "outputs": [
    {
     "name": "stdout",
     "output_type": "stream",
     "text": [
      "[ 2.  5.  8. 11. 14.]\n",
      "[2. 5. 8.]\n",
      "[ 8. 11. 14.]\n"
     ]
    },
    {
     "data": {
      "text/plain": [
       "4.676374564596406"
      ]
     },
     "execution_count": 168,
     "metadata": {},
     "output_type": "execute_result"
    }
   ],
   "source": [
    "\n",
    "simpson(xlist,lam_f,4)\n"
   ]
  },
  {
   "cell_type": "markdown",
   "metadata": {},
   "source": [
    "### Simpson - 6 divisões"
   ]
  },
  {
   "cell_type": "code",
   "execution_count": 169,
   "metadata": {},
   "outputs": [
    {
     "name": "stdout",
     "output_type": "stream",
     "text": [
      "[ 2.  4.  6.  8. 10. 12. 14.]\n",
      "[2. 4. 6.]\n",
      "[ 6.  8. 10.]\n",
      "[10. 12. 14.]\n"
     ]
    },
    {
     "data": {
      "text/plain": [
       "4.6614894912084806"
      ]
     },
     "execution_count": 169,
     "metadata": {},
     "output_type": "execute_result"
    }
   ],
   "source": [
    "simpson(xlist,lam_f,6)\n"
   ]
  },
  {
   "cell_type": "markdown",
   "metadata": {},
   "source": [
    "# 5)"
   ]
  },
  {
   "cell_type": "code",
   "execution_count": 170,
   "metadata": {},
   "outputs": [
    {
     "name": "stdout",
     "output_type": "stream",
     "text": [
      "[0. 2. 4.]\n",
      "[0. 2. 4.]\n"
     ]
    },
    {
     "data": {
      "text/plain": [
       "172.0"
      ]
     },
     "execution_count": 170,
     "metadata": {},
     "output_type": "execute_result"
    }
   ],
   "source": [
    "funcao = lambda x:3*x**3-3*x+1\n",
    "simpson(range(5),funcao,2)"
   ]
  },
  {
   "cell_type": "code",
   "execution_count": 171,
   "metadata": {},
   "outputs": [
    {
     "name": "stdout",
     "output_type": "stream",
     "text": [
      "[0. 1. 2. 3. 4.]\n",
      "1.0\n",
      "10.0\n",
      "46.0\n",
      "127.0\n"
     ]
    },
    {
     "data": {
      "image/png": "[encoded data removed]",
      "text/plain": [
       "<Figure size 432x288 with 1 Axes>"
      ]
     },
     "metadata": {
      "needs_background": "light"
     },
     "output_type": "display_data"
    },
    {
     "data": {
      "text/plain": [
       "184.0"
      ]
     },
     "execution_count": 171,
     "metadata": {},
     "output_type": "execute_result"
    }
   ],
   "source": [
    "space = np.linspace(0,4,10)\n",
    "trapezios_repetidos(space,[funcao(w) for w in space],funcao,0,4,4)"
   ]
  },
  {
   "cell_type": "markdown",
   "metadata": {},
   "source": [
    "# 8)"
   ]
  },
  {
   "cell_type": "code",
   "execution_count": 172,
   "metadata": {},
   "outputs": [
    {
     "data": {
      "text/plain": [
       "10"
      ]
     },
     "execution_count": 172,
     "metadata": {},
     "output_type": "execute_result"
    },
    {
     "data": {
      "image/png": "[encoded data removed]",
      "text/plain": [
       "<Figure size 432x288 with 1 Axes>"
      ]
     },
     "metadata": {
      "needs_background": "light"
     },
     "output_type": "display_data"
    }
   ],
   "source": [
    "def retangulo_esq(xk,yk,x0,x1,func,cor='red'):\n",
    "    assert x1>x0\n",
    "    xk = np.array(xk,dtype=np.float64)\n",
    "    yk = np.array(yk,dtype=np.float64)\n",
    "\n",
    "    dx = x1-x0\n",
    "    area =(func(x0))*dx\n",
    "    plt.plot(xk,yk)\n",
    "    plt.grid()\n",
    "    \n",
    "    plt.fill_between(np.array([x0,x1],dtype=np.float64),np.array([func(x0)]*2,dtype=np.float64),color = cor)\n",
    "    #plt.yticks(np.arange(0,max(yk),max(yk)/15))\n",
    "    return area\n",
    "soma=0\n",
    "for c in range(5):\n",
    "    soma+=retangulo_esq(range(6),range(6),c,c+1,lambda x:x)\n",
    "soma"
   ]
  },
  {
   "cell_type": "code",
   "execution_count": 173,
   "metadata": {},
   "outputs": [
    {
     "name": "stdout",
     "output_type": "stream",
     "text": [
      "0.5\n",
      "1.5\n",
      "2.5\n",
      "3.5\n",
      "4.5\n",
      "12.5\n"
     ]
    },
    {
     "data": {
      "image/png": "[encoded data removed]",
      "text/plain": [
       "<Figure size 432x288 with 1 Axes>"
      ]
     },
     "metadata": {
      "needs_background": "light"
     },
     "output_type": "display_data"
    }
   ],
   "source": [
    "def retangulo_pm(xk,yk,x0,x1,func,cor='red'):\n",
    "    assert x1>x0\n",
    "    xk = np.array(xk,dtype=np.float64)\n",
    "    yk = np.array(yk,dtype=np.float64)\n",
    "\n",
    "    dx = x1-x0\n",
    "    area =((func(x0))+func(x1)) *dx/2\n",
    "    print(area)\n",
    "    plt.plot(xk,yk)\n",
    "    plt.grid()\n",
    "    \n",
    "    plt.fill_between(np.array([x0,x1],dtype=np.float64),np.array([((func(x0))+func(x1))/2]*2,dtype=np.float64),color = cor)\n",
    "    #plt.yticks(np.arange(0,max(yk),max(yk)/15))\n",
    "    return area\n",
    "soma=0\n",
    "for c in range(5):\n",
    "    soma+=retangulo_pm(range(6),range(6),c,c+1,lambda x:x)\n",
    "print(soma)"
   ]
  },
  {
   "cell_type": "markdown",
   "metadata": {},
   "source": [
    "# 10)"
   ]
  },
  {
   "cell_type": "code",
   "execution_count": 187,
   "metadata": {},
   "outputs": [
    {
     "name": "stdout",
     "output_type": "stream",
     "text": [
      "Poly(-0.0489692195929408*x**2 + 1.00320193492703*x, x, domain='RR')\n"
     ]
    },
    {
     "data": {
      "text/plain": [
       "[<matplotlib.lines.Line2D at 0x1ba889d0940>]"
      ]
     },
     "execution_count": 187,
     "metadata": {},
     "output_type": "execute_result"
    },
    {
     "data": {
      "image/png": "[encoded data removed]",
      "text/plain": [
       "<Figure size 432x288 with 1 Axes>"
      ]
     },
     "metadata": {
      "needs_background": "light"
     },
     "output_type": "display_data"
    }
   ],
   "source": [
    "def Lagrange(xk, yk, grau=2,show=False, a=0, b=10, step=.1):\n",
    "    \"\"\"\n",
    "    Returns:\n",
    "        Y=[Sympy.Poly]: O polinômio final da soma das expressões de Lagrange\n",
    "        L=[List]: Todas as expressões Ln geradas\n",
    "    \"\"\"\n",
    "\n",
    "    x = sympy.symbols('x')\n",
    "    if len(xk) != len(yk):\n",
    "        return -1  # Error\n",
    "    Pk = 0\n",
    "\n",
    "    \n",
    "    L = []\n",
    "    for k in range(grau+1):\n",
    "        Lk = 1\n",
    "        for j in range(grau+1):\n",
    "            if j != k:\n",
    "                Lk *= ((x-xk[j]) / (xk[k]-xk[j]))  # Cada fração\n",
    "\n",
    "        #Junta os polis de lagrange em uma função\n",
    "        Pk += Lk*yk[k]  # Total\n",
    "        L.append(Lk) # Guarda todos os polis de lagrange\n",
    "\n",
    "\n",
    "    L = [sympy.Poly(n) for n in L]\n",
    "    Pk = sympy.Poly(Pk)\n",
    "    \n",
    "    #Imprime o polinômio\n",
    "    sympy.pprint(sympy.pretty(Pk))\n",
    "\n",
    "    #mostrar o grafico dos polinomios\n",
    "    if show:\n",
    "        plt.figure(figsize=(8, 6), dpi=80)\n",
    "\n",
    "        Lcoeffs = [z.all_coeffs() for z in L]\n",
    "        # get the polynomial function\n",
    "        P = [poly(z[::-1]) for z in Lcoeffs]\n",
    "\n",
    "        margin = np.arange(a, b, step)\n",
    "\n",
    "\n",
    "        for z in P:\n",
    "            plt.plot(margin, z(margin))\n",
    "\n",
    "        plt.plot(xk, np.ones(len(xk)), 'ko', xk, np.zeros(len(xk)), 'ko')\n",
    "        plt.title('Polinômios de Lagrange')\n",
    "        plt.xlabel('x')\n",
    "        plt.ylabel('y')\n",
    "        plt.grid()\n",
    "        plt.legend([f'L{n}' for n in range(grau+1)])\n",
    "        plt.show()\n",
    "\n",
    "    return Pk, L\n",
    "\n",
    "\n",
    "xi = np.arange(0, np.pi/4, np.pi/4/8)\n",
    "yi = np.sin(xi)\n",
    "lag10 = Lagrange(xi,yi,b=np.pi/4,step=8)[0]\n",
    "plt.plot(xi,[lag10.subs(x,z) for z in xi])"
   ]
  },
  {
   "cell_type": "code",
   "execution_count": null,
   "metadata": {},
   "outputs": [],
   "source": [
    "simpson(xi, lag10)"
   ]
  },
  {
   "cell_type": "markdown",
   "metadata": {},
   "source": [
    "# 13)"
   ]
  },
  {
   "cell_type": "code",
   "execution_count": 210,
   "metadata": {},
   "outputs": [
    {
     "name": "stdout",
     "output_type": "stream",
     "text": [
      "Poly(0.984375*x**5 - 0.898437499999773*x**4 + 0.827083333333007*x**3 + 0.78593\n",
      "         7500000102*x**2 + 1.01934166666667*x + 1.0, x, domain='RR')          \n",
      "[0.         0.16666667 0.33333333 0.5        0.66666667 0.83333333\n",
      " 1.        ]\n",
      "[0.         0.16666667 0.33333333]\n",
      "[0.33333333 0.5        0.66666667]\n",
      "[0.66666667 0.83333333 1.        ]\n"
     ]
    },
    {
     "data": {
      "text/latex": [
       "$\\displaystyle 1.96295658436214$"
      ],
      "text/plain": [
       "1.96295658436214"
      ]
     },
     "execution_count": 210,
     "metadata": {},
     "output_type": "execute_result"
    }
   ],
   "source": [
    "x13 = np.linspace(0,1,6)\n",
    "y13 = [1,1.2408,1.5735,2.0333,2.6965,3.7183]\n",
    "func13,_ = Lagrange(x13,y13,grau=5)\n",
    "\n",
    "simpson(x13,func13)"
   ]
  },
  {
   "cell_type": "code",
   "execution_count": 213,
   "metadata": {},
   "outputs": [
    {
     "name": "stdout",
     "output_type": "stream",
     "text": [
      "[0.   0.25 0.5  0.75 1.  ]\n",
      "[0.   0.25 0.5 ]\n",
      "[0.5  0.75 1.  ]\n"
     ]
    },
    {
     "data": {
      "text/plain": [
       "0.7853921568627451"
      ]
     },
     "execution_count": 213,
     "metadata": {},
     "output_type": "execute_result"
    }
   ],
   "source": [
    "x14=np.linspace(0,1,11)\n",
    "func = lambda x: 1/(1+x**2)\n",
    "simpson(x14,func,4)"
   ]
  },
  {
   "cell_type": "code",
   "execution_count": 214,
   "metadata": {},
   "outputs": [
    {
     "data": {
      "text/plain": [
       "0.7853981633974483"
      ]
     },
     "execution_count": 214,
     "metadata": {},
     "output_type": "execute_result"
    }
   ],
   "source": [
    "np.pi/4"
   ]
  }
 ],
 "metadata": {
  "interpreter": {
   "hash": "9c464d06a4b2d4767f115b1ab41e495990683f3b61f9428babbb6293818e2cac"
  },
  "kernelspec": {
   "display_name": "Python 3.10.0 64-bit",
   "language": "python",
   "name": "python3"
  },
  "language_info": {
   "codemirror_mode": {
    "name": "ipython",
    "version": 3
   },
   "file_extension": ".py",
   "mimetype": "text/x-python",
   "name": "python",
   "nbconvert_exporter": "python",
   "pygments_lexer": "ipython3",
   "version": "3.10.0"
  },
  "orig_nbformat": 4
 },
 "nbformat": 4,
 "nbformat_minor": 2
}
