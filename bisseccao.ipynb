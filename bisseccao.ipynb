{
 "cells": [
  {
   "cell_type": "code",
   "execution_count": 4,
   "metadata": {},
   "outputs": [
    {
     "name": "stdout",
     "output_type": "stream",
     "text": [
      "[0, 5.0]\n",
      "[0, 2.5]\n",
      "[1.25, 2.5]\n",
      "[1.875, 2.5]\n",
      "[1.875, 2.1875]\n",
      "[1.875, 2.03125]\n",
      "[1.953125, 2.03125]\n",
      "[1.9921875, 2.03125]\n",
      "[1.9921875, 2.01171875]\n",
      "[1.9921875, 2.001953125]\n",
      "[1.9970703125, 2.001953125]\n",
      "[1.99951171875, 2.001953125]\n",
      "[1.99951171875, 2.000732421875]\n",
      "[1.99951171875, 2.0001220703125]\n",
      "[1.99981689453125, 2.0001220703125]\n",
      "[1.999969482421875, 2.0001220703125]\n",
      "[1.999969482421875, 2.0000457763671875]\n",
      "[1.999969482421875, 2.0000076293945312]\n",
      "[1.9999885559082031, 2.0000076293945312]\n",
      "[1.9999980926513672, 2.0000076293945312]\n"
     ]
    }
   ],
   "source": [
    "#O metodo da bissecção\n",
    "\n",
    "def bisseccaoraiz(func,a,b,precisao):\n",
    "    '''retorna a raiz aproximada da precisão através do método da bissecção, \n",
    "    que aproxima se utilizando dos conhecimentos em cálculo, como a teoria da continuidade e do ponto médio\n",
    "    '''\n",
    "\n",
    "    #É necessário que a func seja contínua entre a,b e que haja uma raiz entre os dois pontos\n",
    "    intervalo=[a,b]\n",
    "    \n",
    "\n",
    "    while intervalo[1]-intervalo[0]>precisao:\n",
    "        fa = func(intervalo[0])\n",
    "        fb = func(intervalo[1])\n",
    "\n",
    "\n",
    "        x1 = (intervalo[1]+intervalo[0])/2\n",
    "        if fa*func(x1)<0:\n",
    "            intervalo[1]=x1\n",
    "        else:\n",
    "            intervalo[0]=x1\n",
    "\n",
    "        print(intervalo)\n",
    "\n",
    "f=lambda x :x**2-4\n",
    "\n",
    "bisseccaoraiz(f,0,10,.00001)"
   ]
  },
  {
   "cell_type": "code",
   "execution_count": 24,
   "metadata": {},
   "outputs": [
    {
     "data": {
      "image/png": "[encoded data removed]",
      "text/plain": [
       "<Figure size 432x288 with 1 Axes>"
      ]
     },
     "metadata": {
      "needs_background": "light"
     },
     "output_type": "display_data"
    }
   ],
   "source": [
    "import math\n",
    "import matplotlib.pyplot as plt\n",
    "import numpy as np\n",
    "\n",
    "def bisseccaoraiz(func,a,b,precisao):\n",
    "    '''retorna a raiz aproximada da precisão através do método da bissecção, \n",
    "    que aproxima se utilizando dos conhecimentos em cálculo, como a teoria da continuidade e do ponto médio\n",
    "    '''\n",
    "\n",
    "    #É necessário que a func seja contínua entre a,b e que haja uma raiz entre os dois pontos\n",
    "    intervalo=[a,b]\n",
    "\n",
    "    if func(a)*func(b)<0:\n",
    "        while abs(intervalo[1]-intervalo[0])>precisao:\n",
    "            fa = func(intervalo[0])\n",
    "            fb = func(intervalo[1])\n",
    "\n",
    "            x1 = (intervalo[1]+intervalo[0])/2\n",
    "            if fa*func(x1)<0:\n",
    "                intervalo[1]=x1\n",
    "            else:\n",
    "                intervalo[0]=x1\n",
    "\n",
    "            print(intervalo)\n",
    "        return\n",
    "    print('O método da bissecção é inválido quando não temos f(a)*f(b)<0')\n",
    "    \n",
    "    \n",
    "def func(t,desloc=tensao,v=15,r=1000,c=100e-6):\n",
    "    return v*(1-math.e**(-t/(r*c)))-desloc\n",
    "\n",
    "    \n",
    "\n",
    "tensao = float(input(\"Insira a tensao que deseja mensurar: \"))\n",
    "r=1000\n",
    "c=100e-6\n",
    "\n",
    "interval = np.linspace(0,5*r*c,50)\n",
    "plt.plot(interval,[func(x,desloc=0) for x in interval])\n",
    "plt.plot(interval,[tensao]*len(interval))\n",
    "plt.plot(interval,[func(x,) for x in interval])\n",
    "plt.title(\"Curva de carga do capacitor\")\n",
    "plt.xlabel(\"Tempo(s)\"),plt.ylabel(\"Tensão no capacitor(V)\")\n",
    "plt.legend([\"Curva original\",\"Tensão desejada\",\"Curva transladada\"])\n",
    "plt.grid()\n",
    "plt.show()\n",
    "\n",
    "a = float(input(\"Digite o valor da extremidade inferior do intervalo: \"))\n",
    "b = float(input(\"Digite o valor da extremidade superior do intervalo: \"))\n",
    "prec = float(input(\"Insira a precisão necessária: \"))\n",
    "\n",
    "bisseccaoraiz(func,a,b,prec)"
   ]
  },
  {
   "cell_type": "code",
   "execution_count": null,
   "metadata": {},
   "outputs": [],
   "source": [
    "#definir a derivada\n",
    "def flinha(t,r=r,c=c):\n",
    "    return (math.e**(-t/(c*r))*v)/(c*r)\n",
    "\n",
    "#definir o metodo de newton-raphson\n",
    "def newtonRaphson():\n",
    "    ap1 = float(input(\"entre com aprox 1: \"))\n",
    "    ite = int(input(\"quantas iteracoes? \"))\n",
    "    \n",
    "    for _ in range(ite):\n",
    "        ap2 = ap1 -f(ap1)/flinha(ap1)\n",
    "        ap1 = ap2 #atribuindo ao final de cada iteracao o valor de ap2, assim na proxima, o valor muda\n",
    "        \n",
    "    print(\"A raiz calculada ap = \", ap2)\n",
    "    print(\"f(x) = \", f(ap2))"
   ]
  }
 ],
 "metadata": {
  "interpreter": {
   "hash": "9c464d06a4b2d4767f115b1ab41e495990683f3b61f9428babbb6293818e2cac"
  },
  "kernelspec": {
   "display_name": "Python 3.10.0 64-bit",
   "language": "python",
   "name": "python3"
  },
  "language_info": {
   "codemirror_mode": {
    "name": "ipython",
    "version": 3
   },
   "file_extension": ".py",
   "mimetype": "text/x-python",
   "name": "python",
   "nbconvert_exporter": "python",
   "pygments_lexer": "ipython3",
   "version": "3.10.0"
  },
  "orig_nbformat": 4
 },
 "nbformat": 4,
 "nbformat_minor": 2
}
