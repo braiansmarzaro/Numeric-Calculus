{
 "cells": [
  {
   "cell_type": "code",
   "execution_count": 18,
   "metadata": {},
   "outputs": [
    {
     "name": "stdout",
     "output_type": "stream",
     "text": [
      "[0.025, 0.03]\n",
      "[0.0275, 0.03]\n",
      "[0.0275, 0.028749999999999998]\n",
      "[0.028124999999999997, 0.028749999999999998]\n",
      "[0.028437499999999998, 0.028749999999999998]\n",
      "[0.028593749999999998, 0.028749999999999998]\n",
      "[0.028671875, 0.028749999999999998]\n",
      "[0.0287109375, 0.028749999999999998]\n",
      "[0.028730468749999998, 0.028749999999999998]\n",
      "[0.028730468749999998, 0.028740234375]\n",
      "0.028735351562499997\n"
     ]
    },
    {
     "data": {
      "image/png": "[encoded data removed]",
      "text/plain": [
       "<Figure size 432x288 with 1 Axes>"
      ]
     },
     "metadata": {
      "needs_background": "light"
     },
     "output_type": "display_data"
    },
    {
     "name": "stdout",
     "output_type": "stream",
     "text": [
      "[0.02873409]\n"
     ]
    }
   ],
   "source": [
    "#O metodo da bissecção\n",
    "\n",
    "def bisseccaoraiz(func,a,b,precisao):\n",
    "    '''retorna a raiz aproximada da precisão através do método da bissecção, \n",
    "    que aproxima se utilizando dos conhecimentos em cálculo, como a teoria da continuidade e do ponto médio\n",
    "    '''\n",
    "\n",
    "    #É necessário que a func seja contínua entre a,b e que haja uma raiz entre os dois pontos\n",
    "    intervalo=[a,b]\n",
    "    \n",
    "\n",
    "    while intervalo[1]-intervalo[0]>precisao:\n",
    "        fa = func(intervalo[0])\n",
    "        fb = func(intervalo[1])\n",
    "\n",
    "\n",
    "        x1 = (intervalo[1]+intervalo[0])/2\n",
    "        if fa*func(x1)<0:\n",
    "            intervalo[1]=x1\n",
    "        else:\n",
    "            intervalo[0]=x1\n",
    "\n",
    "        print(intervalo)\n",
    "    \n",
    "    print(sum(intervalo)/2)\n",
    "\n",
    "import numpy as np\n",
    "import matplotlib.pyplot as plt\n",
    "from scipy.optimize import fsolve\n",
    "from math import sqrt,log10\n",
    "# Define the expression whose roots we want to find\n",
    "\n",
    "ed = 0.004\n",
    "Re = 3.54*10**5\n",
    "\n",
    "func = lambda f : (-2*log10((ed/3.7) + (2.51/(Re*sqrt(f)))))-1/sqrt(f)\n",
    "bisseccaoraiz(func,.02,.03,.00001)\n",
    "x = np.linspace(0.02, 0.04, 200)\n",
    "\n",
    "plt.plot(x, [func(z) for z in x])\n",
    "plt.xlabel(\"f\")\n",
    "plt.ylabel(\"expression value\")\n",
    "plt.grid()\n",
    "plt.show()\n",
    "\n",
    "# Use the numerical solver to find the roots\n",
    "\n",
    "initial_guess = 0.028\n",
    "solution = fsolve(func, initial_guess)\n",
    "print(solution)"
   ]
  },
  {
   "cell_type": "code",
   "execution_count": 24,
   "metadata": {},
   "outputs": [
    {
     "data": {
      "image/png": "[encoded data removed]",
      "text/plain": [
       "<Figure size 432x288 with 1 Axes>"
      ]
     },
     "metadata": {
      "needs_background": "light"
     },
     "output_type": "display_data"
    }
   ],
   "source": [
    "import math\n",
    "import matplotlib.pyplot as plt\n",
    "import numpy as np\n",
    "\n",
    "def bisseccaoraiz(func,a,b,precisao):\n",
    "    '''retorna a raiz aproximada da precisão através do método da bissecção, \n",
    "    que aproxima se utilizando dos conhecimentos em cálculo, como a teoria da continuidade e do ponto médio\n",
    "    '''\n",
    "\n",
    "    #É necessário que a func seja contínua entre a,b e que haja uma raiz entre os dois pontos\n",
    "    intervalo=[a,b]\n",
    "\n",
    "    if func(a)*func(b)<0:\n",
    "        while abs(intervalo[1]-intervalo[0])>precisao:\n",
    "            fa = func(intervalo[0])\n",
    "            fb = func(intervalo[1])\n",
    "\n",
    "            x1 = (intervalo[1]+intervalo[0])/2\n",
    "            if fa*func(x1)<0:\n",
    "                intervalo[1]=x1\n",
    "            else:\n",
    "                intervalo[0]=x1\n",
    "\n",
    "            print(intervalo)\n",
    "        return\n",
    "    print('O método da bissecção é inválido quando não temos f(a)*f(b)<0')\n",
    "    \n",
    "    \n",
    "def func(t,desloc=tensao,v=15,r=1000,c=100e-6):\n",
    "    return v*(1-math.e**(-t/(r*c)))-desloc\n",
    "\n",
    "    \n",
    "\n",
    "tensao = float(input(\"Insira a tensao que deseja mensurar: \"))\n",
    "r=1000\n",
    "c=100e-6\n",
    "\n",
    "interval = np.linspace(0,5*r*c,50)\n",
    "plt.plot(interval,[func(x,desloc=0) for x in interval])\n",
    "plt.plot(interval,[tensao]*len(interval))\n",
    "plt.plot(interval,[func(x,) for x in interval])\n",
    "plt.title(\"Curva de carga do capacitor\")\n",
    "plt.xlabel(\"Tempo(s)\"),plt.ylabel(\"Tensão no capacitor(V)\")\n",
    "plt.legend([\"Curva original\",\"Tensão desejada\",\"Curva transladada\"])\n",
    "plt.grid()\n",
    "plt.show()\n",
    "\n",
    "a = float(input(\"Digite o valor da extremidade inferior do intervalo: \"))\n",
    "b = float(input(\"Digite o valor da extremidade superior do intervalo: \"))\n",
    "prec = float(input(\"Insira a precisão necessária: \"))\n",
    "\n",
    "bisseccaoraiz(func,a,b,prec)"
   ]
  },
  {
   "cell_type": "code",
   "execution_count": null,
   "metadata": {},
   "outputs": [],
   "source": [
    "#definir a derivada\n",
    "def flinha(t,r=r,c=c):\n",
    "    return (math.e**(-t/(c*r))*v)/(c*r)\n",
    "\n",
    "#definir o metodo de newton-raphson\n",
    "def newtonRaphson():\n",
    "    ap1 = float(input(\"entre com aprox 1: \"))\n",
    "    ite = int(input(\"quantas iteracoes? \"))\n",
    "    \n",
    "    for _ in range(ite):\n",
    "        ap2 = ap1 -f(ap1)/flinha(ap1)\n",
    "        ap1 = ap2 #atribuindo ao final de cada iteracao o valor de ap2, assim na proxima, o valor muda\n",
    "        \n",
    "    print(\"A raiz calculada ap = \", ap2)\n",
    "    print(\"f(x) = \", f(ap2))"
   ]
  }
 ],
 "metadata": {
  "interpreter": {
   "hash": "9c464d06a4b2d4767f115b1ab41e495990683f3b61f9428babbb6293818e2cac"
  },
  "kernelspec": {
   "display_name": "Python 3.10.0 64-bit",
   "language": "python",
   "name": "python3"
  },
  "language_info": {
   "codemirror_mode": {
    "name": "ipython",
    "version": 3
   },
   "file_extension": ".py",
   "mimetype": "text/x-python",
   "name": "python",
   "nbconvert_exporter": "python",
   "pygments_lexer": "ipython3",
   "version": "3.10.0"
  },
  "orig_nbformat": 4
 },
 "nbformat": 4,
 "nbformat_minor": 2
}
