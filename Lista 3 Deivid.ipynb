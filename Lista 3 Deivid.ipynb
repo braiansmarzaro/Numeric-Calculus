{
 "cells": [
  {
   "cell_type": "markdown",
   "metadata": {},
   "source": [
    "# Imports Base"
   ]
  },
  {
   "cell_type": "code",
   "execution_count": 59,
   "metadata": {},
   "outputs": [],
   "source": [
    "import numpy as np\n",
    "from fractions import Fraction\n",
    "import sympy as sy\n",
    "import matplotlib.pyplot as plt"
   ]
  },
  {
   "cell_type": "markdown",
   "metadata": {},
   "source": [
    "# 1)"
   ]
  },
  {
   "cell_type": "code",
   "execution_count": 60,
   "metadata": {},
   "outputs": [],
   "source": [
    "#Realiza o método de eliminação de gauss iterativamente. Considera que não há zeros na diagonal principal\n",
    "def pivotamento(mat):\n",
    "    def pivot(mat,col=0,row=0):\n",
    "\n",
    "        #Elimina a chance do elemento divisor ser 0\n",
    "        r=1        \n",
    "        while mat[row,col] == 0:\n",
    "            mat[:,col],mat[:,col+r] = mat[:,col+r].copy(),mat[:,col].copy()\n",
    "            r+=1\n",
    "\n",
    "        mat[row] = mat[row]/mat[row,col]\n",
    "\n",
    "        for l in range(row+1,len(mat)):\n",
    "            mat[l] = mat[l] - mat[l,col]/mat[row,col] * mat[row]\n",
    "            \n",
    "    for r in range(len(mat)): #Realiza o pivotamento para cada elemento da diagonal\n",
    "        pivot(mat,r,r)\n",
    "        #print('\\n',mat) #Printa passo a passo\n",
    "\n",
    "#Algoritmo utilizado na questão 2\n"
   ]
  },
  {
   "cell_type": "markdown",
   "metadata": {},
   "source": [
    "# 2)"
   ]
  },
  {
   "cell_type": "code",
   "execution_count": 61,
   "metadata": {},
   "outputs": [
    {
     "data": {
      "text/plain": [
       "array([[ 2.,  2.,  1.,  1.,  7.],\n",
       "       [ 1., -1.,  2., -1.,  1.],\n",
       "       [ 3.,  2., -3., -2.,  4.],\n",
       "       [ 4.,  3.,  2.,  1., 12.]], dtype=float32)"
      ]
     },
     "execution_count": 61,
     "metadata": {},
     "output_type": "execute_result"
    }
   ],
   "source": [
    "#Cria a matriz do exercício\n",
    "mat = np.array([2,2,1,1,7,\n",
    "                1,-1,2,-1,1,\n",
    "                3,2,-3,-2,4,\n",
    "                4,3,2,1,12],dtype=np.float32).reshape(4,5)\n",
    "mat"
   ]
  },
  {
   "cell_type": "code",
   "execution_count": 62,
   "metadata": {},
   "outputs": [
    {
     "data": {
      "text/plain": [
       "array([[ 1.        ,  1.        ,  0.5       ,  0.5       ,  3.5       ],\n",
       "       [-0.        ,  1.        , -0.75      ,  0.75      ,  1.25      ],\n",
       "       [-0.        , -0.        ,  1.        ,  0.52380955,  1.        ],\n",
       "       [ 0.        ,  0.        ,  0.        ,  1.        ,  0.        ]],\n",
       "      dtype=float32)"
      ]
     },
     "execution_count": 62,
     "metadata": {},
     "output_type": "execute_result"
    }
   ],
   "source": [
    "pivotamento(mat)\n",
    "mat"
   ]
  },
  {
   "cell_type": "markdown",
   "metadata": {},
   "source": [
    "# 3)"
   ]
  },
  {
   "cell_type": "code",
   "execution_count": 63,
   "metadata": {},
   "outputs": [
    {
     "data": {
      "text/plain": [
       "[[2, -2, 0, 0, 0, 0, 0, 0, 0, 0],\n",
       " [-1, 2, -1, 0, 0, 0, 0, 0, 0, 0],\n",
       " [0, -1, 2, -1, 0, 0, 0, 0, 0, 0],\n",
       " [0, 0, -1, 2, -1, 0, 0, 0, 0, 0],\n",
       " [0, 0, 0, -1, 2, -1, 0, 0, 0, 0],\n",
       " [0, 0, 0, 0, -1, 2, -1, 0, 0, 0],\n",
       " [0, 0, 0, 0, 0, -1, 2, -1, 0, 0],\n",
       " [0, 0, 0, 0, 0, 0, -1, 2, -1, 0],\n",
       " [0, 0, 0, 0, 0, 0, 0, -1, 2, -1],\n",
       " [0, 0, 0, 0, 0, 0, 0, 0, -1, 2]]"
      ]
     },
     "execution_count": 63,
     "metadata": {},
     "output_type": "execute_result"
    }
   ],
   "source": [
    "n=10\n",
    "mat3 = [[0]*n for _ in range(n)]\n",
    "mat3[0][:2] = [2,-2]\n",
    "mat3[n-1][-2:] = [-1,2]\n",
    "for l in range(1,n-1): #linha\n",
    "    mat3[l][l-1] = -1\n",
    "    mat3[l][l] = 2\n",
    "    mat3[l][l+1] = -1\n",
    "    \n",
    "mat3"
   ]
  },
  {
   "cell_type": "code",
   "execution_count": null,
   "metadata": {},
   "outputs": [],
   "source": []
  },
  {
   "cell_type": "markdown",
   "metadata": {},
   "source": [
    "# Fatoração LDU"
   ]
  },
  {
   "cell_type": "code",
   "execution_count": 64,
   "metadata": {},
   "outputs": [],
   "source": [
    "def LDU(A):\n",
    "    U = np.copy(A)\n",
    "    D = np.diagflat(np.diagonal(U))\n",
    "    n = np.shape(U)[0] #nº de Linhas da matriz\n",
    "    L = np.eye(n) #Identidade\n",
    "    cont = 0 \n",
    "    for j in np.arange(n-1): #Pelas colunas\n",
    "\n",
    "        for i in np.arange(j+1,n):  #Pelas linhas\n",
    "\n",
    "            L[i,j] = U[i,j]/U[j,j] #representa o m # no L são salvos os multiplicadores da posição pelo pivot\n",
    "            U[i] = U[i] - L[i,j]*U[j]\n",
    "    \n",
    "\n",
    "    return L, D, U\n",
    "\n"
   ]
  },
  {
   "cell_type": "code",
   "execution_count": 65,
   "metadata": {},
   "outputs": [],
   "source": [
    "x = np.array([[1,2],[3,4]])\n"
   ]
  },
  {
   "cell_type": "markdown",
   "metadata": {},
   "source": [
    "Fatora LDU:\n",
    "\n",
    "Fatora Ly = B\n",
    "descobre um vetor y, que substitui o resultado\n",
    "Dz = y\n",
    "\n",
    "encontra um vetor z\n",
    "Ux = z\n",
    "\n",
    "Encontra finalmente x"
   ]
  },
  {
   "cell_type": "markdown",
   "metadata": {},
   "source": [
    "# 5)\n",
    "    Estratégia de pivoteamento parcial\n",
    "    No início de cada eliminação de Gauss, trocando as linhas se necessário,\n",
    "    escolher para o pivô o maior 𝑎𝑖𝑗 da coluna 𝑗 (com 𝑖 ≥ 𝑗)."
   ]
  },
  {
   "cell_type": "code",
   "execution_count": 66,
   "metadata": {},
   "outputs": [
    {
     "ename": "SyntaxError",
     "evalue": "'return' outside function (Temp/ipykernel_11132/1288390526.py, line 12)",
     "output_type": "error",
     "traceback": [
      "\u001b[1;36m  File \u001b[1;32m\"C:\\Users\\smar_\\AppData\\Local\\Temp/ipykernel_11132/1288390526.py\"\u001b[1;36m, line \u001b[1;32m12\u001b[0m\n\u001b[1;33m    return(np.where(np.abs(matriz5[:,col])==abs(c))[0][0])\u001b[0m\n\u001b[1;37m    ^\u001b[0m\n\u001b[1;31mSyntaxError\u001b[0m\u001b[1;31m:\u001b[0m 'return' outside function\n"
     ]
    }
   ],
   "source": [
    "matriz5 = np.array([0,1,2,3,4,\n",
    "                    2,0,1,-1,0,\n",
    "                    3,-2,0,1,2,\n",
    "                    0,1,-2,0,2,\n",
    "                    1,3,-2,1,0\n",
    "                    ],dtype=np.float32).reshape(5,5)\n",
    "col = 1\n",
    "ordenada=np.sort(np.abs(matriz5[:,col]))[::-1]\n",
    "\n",
    "for i,c in enumerate(ordenada):\n",
    "    if np.where(np.abs(matriz5[:,col])==abs(c))[0][0]>=col:\n",
    "        return(np.where(np.abs(matriz5[:,col])==abs(c))[0][0])"
   ]
  },
  {
   "cell_type": "code",
   "execution_count": null,
   "metadata": {},
   "outputs": [],
   "source": [
    "def gauss_pivotparcial(mat,steps=False):\n",
    "\n",
    "    def maiorargpivot(mat,col):\n",
    "        \"\"\"Descobre o maior pivot da coluna atual e retorna seu index, \n",
    "        para realizar a permutação\n",
    "\n",
    "        Args:\n",
    "            mat ([np.ndarray]): [numpy matrix]\n",
    "            col ([int]): [column index]\n",
    "        \n",
    "        Returns:\n",
    "            Maior index da coluna\n",
    "        \"\"\"\n",
    "        ordenada=np.sort(np.abs(mat[:,col]))[::-1]\n",
    "\n",
    "        for i,c in enumerate(ordenada):\n",
    "            if np.where(np.abs(mat[:,col])==abs(c))[0][0]>=col: #Caso o maior valor esteja em posição válida para se tornar o novo pivot\n",
    "                return(np.where(np.abs(mat[:,col])==abs(c))[0][0]) #Retorna a posição\n",
    "\n",
    "\n",
    "    def pivotparcial(mat:np.array,row=0,col=0): \n",
    "\n",
    "        maior = maiorargpivot(mat,col) #Encontra o maior elemento da linha\n",
    "\n",
    "        if row<maior:\n",
    "            mat[row],mat[maior] = mat[maior].copy(),mat[row].copy()\n",
    "\n",
    "        mat[row] = mat[row]/mat[row,col]\n",
    "        for l in range(row+1,len(mat)):\n",
    "            if mat[l,col]!= 0:\n",
    "                mat[l] = mat[l] - mat[l,col]/mat[row,col] * mat[row]\n",
    "    \n",
    "    for c in range(len(mat)-1):\n",
    "        pivotparcial(mat,c,c)\n",
    "        if steps:\n",
    "            print(mat)\n",
    "    print(mat)\n",
    "    "
   ]
  },
  {
   "cell_type": "code",
   "execution_count": null,
   "metadata": {},
   "outputs": [
    {
     "name": "stdout",
     "output_type": "stream",
     "text": [
      "[[ 1.         -0.6666667   0.          0.33333334  0.6666667 ]\n",
      " [ 0.          1.         -0.54545456  0.18181817 -0.18181819]\n",
      " [ 0.          0.          1.          1.1071428   1.6428571 ]\n",
      " [ 0.          0.          0.          1.4285715   4.5714283 ]\n",
      " [ 0.          0.          0.         -3.8214285  -3.9285712 ]]\n"
     ]
    },
    {
     "data": {
      "text/plain": [
       "array([ 2.14457831,  0.6626506 , -0.57831325,  0.71084337,  1.59036145])"
      ]
     },
     "execution_count": 24,
     "metadata": {},
     "output_type": "execute_result"
    }
   ],
   "source": [
    "matriz5 = np.array([0,1,2,3,4,\n",
    "                    2,0,1,-1,0,\n",
    "                    3,-2,0,1,2,\n",
    "                    0,1,-2,0,2,\n",
    "                    1,3,-2,1,0\n",
    "                    ],dtype=np.float32).reshape(5,5)\n",
    "print(matriz)\n",
    "res5 = np.array([8,3,9,5,6])\n",
    "\n",
    "#gauss_pivotparcial(matriz)\n",
    "\n",
    "np.linalg.solve(matriz5,res5)"
   ]
  },
  {
   "cell_type": "markdown",
   "metadata": {},
   "source": [
    "# Fatoração LU\n",
    "# 6)"
   ]
  },
  {
   "cell_type": "code",
   "execution_count": null,
   "metadata": {},
   "outputs": [],
   "source": [
    "def fatoraLU(A):  \n",
    "    U = np.copy(A) \n",
    "    n = np.shape(U)[0] #nº de Linhas da matriz\n",
    "    L = np.eye(n) #Identidade\n",
    "    cont = 0 \n",
    "    for j in np.arange(n-1): #Pelas colunas\n",
    "        '''while U[j,j]==0:\n",
    "            print(U[j])\n",
    "            cont+=1\n",
    "            U[j],U[j+cont] = U[j+cont].copy(),U[j].copy()'''\n",
    "\n",
    "        for i in np.arange(j+1,n):  #Pelas linhas\n",
    "\n",
    "            L[i,j] = U[i,j]/U[j,j] #representa o m # no L são salvos os multiplicadores da posição pelo pivot\n",
    "            U[i] = U[i] - L[i,j]*U[j]\n",
    "            \n",
    "            \n",
    "            \n",
    "\n",
    "    return L, U\n",
    "\n",
    "def solveL(L,b):\n",
    "\n",
    "    y = np.zeros(L.shape[1])\n",
    "    for i in range(len(b)+1):\n",
    "        soma = 0\n",
    "        for j in range(i):\n",
    "            soma += L[i][j]*y[j]\n",
    "\n",
    "        y[i] = b[i]-soma\n",
    "\n",
    "    return y\n",
    "\n",
    "def solveU(U,y):\n",
    "    n = len(y)-1\n",
    "#Vetor cheio de 0 de n de tamanho  \n",
    "    x = np.zeros(y.shape)\n",
    "    x[n] = b[n]/U[n][n]\n",
    "\n",
    "    for i in range(n-1,0,-1):\n",
    "        soma = 0\n",
    "        for j in range(i-1,n+2):\n",
    "            soma = soma + U[i][j]*x[j]\n",
    "\n",
    "        x[i] = (b[i]-soma)/U[i][i]\n",
    "\n",
    "    return x\n",
    "\n"
   ]
  },
  {
   "cell_type": "code",
   "execution_count": null,
   "metadata": {},
   "outputs": [
    {
     "name": "stdout",
     "output_type": "stream",
     "text": [
      "[[1.         0.         0.         0.        ]\n",
      " [0.5        1.         0.         0.        ]\n",
      " [1.5        0.5        1.         0.        ]\n",
      " [2.         0.5        0.14285715 1.        ]]\n",
      "[[ 2.0000000e+00  2.0000000e+00  1.0000000e+00  1.0000000e+00]\n",
      " [ 0.0000000e+00 -2.0000000e+00  1.5000000e+00 -1.5000000e+00]\n",
      " [ 0.0000000e+00  0.0000000e+00 -5.2500000e+00 -2.7500000e+00]\n",
      " [ 0.0000000e+00  0.0000000e+00  5.9604645e-08  1.4285716e-01]]\n",
      "[[ 2.          2.          1.          1.        ]\n",
      " [ 1.         -1.          2.         -1.        ]\n",
      " [ 3.          2.         -3.         -2.        ]\n",
      " [ 4.          3.          2.00000003  1.        ]]\n"
     ]
    }
   ],
   "source": [
    "#Resolvendo a questão 2 por LU\n",
    "#Recria a matriz do exercício\n",
    "mat = np.array([2,2,1,1,\n",
    "                1,-1,2,-1,\n",
    "                3,2,-3,-2,\n",
    "                4,3,2,1],dtype='float32').reshape(4,4)\n",
    "\n",
    "l,u = fatoraLU(mat)\n",
    "print(l)\n",
    "print(u)\n",
    "\n",
    "#Conferindo\n",
    "print(l@u)\n"
   ]
  },
  {
   "cell_type": "markdown",
   "metadata": {},
   "source": [
    "# 8)"
   ]
  },
  {
   "cell_type": "code",
   "execution_count": null,
   "metadata": {},
   "outputs": [],
   "source": [
    "mat8 = np.array([2,4,0,4,6,3,-6,-10,0]).reshape(3,3)\n",
    "l,u = fatoraLU(mat8)\n"
   ]
  },
  {
   "cell_type": "code",
   "execution_count": null,
   "metadata": {},
   "outputs": [
    {
     "name": "stdout",
     "output_type": "stream",
     "text": [
      "l:\n",
      " [[ 1.  0.  0.]\n",
      " [ 2.  1.  0.]\n",
      " [-3. -1.  1.]]\n",
      "u:\n",
      " [[ 2  4  0]\n",
      " [ 0 -2  3]\n",
      " [ 0  0  3]]\n"
     ]
    }
   ],
   "source": [
    "#i)\n",
    "resulti = np.array([2,1,-6])\n",
    "\n",
    "#ii)\n",
    "resultii = np.array([1]*3)\n",
    "\n",
    "#iii) \n",
    "resultiii = np.array([2,2,0])\n",
    "\n",
    "#iv)\n",
    "resultiv = np.array([1,2,3])\n",
    "\n",
    "print('l:\\n',l)\n",
    "print('u:\\n',u)"
   ]
  },
  {
   "cell_type": "code",
   "execution_count": null,
   "metadata": {},
   "outputs": [
    {
     "data": {
      "text/plain": [
       "array([-5.5,  3. ,  2. ])"
      ]
     },
     "execution_count": 31,
     "metadata": {},
     "output_type": "execute_result"
    }
   ],
   "source": [
    "np.linalg.solve(mat8,resultiv)"
   ]
  },
  {
   "cell_type": "markdown",
   "metadata": {},
   "source": [
    "# Gauss - Jacobi\n",
    "\n",
    "    Transformar Ax = b em x = Cx + g\n",
    "    x**(k+1) = Cx**(k) + g\n",
    "\n",
    "    - Transforma A em uma matriz Diagonal + Matriz Diagonal nula\n",
    "    - Manipular\n",
    "\n",
    "https://prnt.sc/26i6nc6 Cálculos\n",
    "\n",
    "https://prnt.sc/26i6nvb Resumo\n",
    "\n"
   ]
  },
  {
   "cell_type": "code",
   "execution_count": null,
   "metadata": {},
   "outputs": [
    {
     "name": "stdout",
     "output_type": "stream",
     "text": [
      "[ 0.94 -1.86  0.91]\n",
      "[ 0.981 -1.97   0.97 ]\n",
      "[ 0.997  -1.9902  0.9948]\n",
      "[ 0.99856 -1.99836  0.99766]\n",
      "[ 0.999906 -1.999244  0.999796]\n",
      "[ 0.9998692 -1.9999404  0.999792 ]\n",
      "[ 1.00000888 -1.99993224  1.00000828]\n",
      "[ 0.99998562 -2.00000343  0.9999779 ]\n"
     ]
    },
    {
     "data": {
      "text/plain": [
       "array([ 0.99998562, -2.00000343,  0.9999779 ])"
      ]
     },
     "execution_count": 40,
     "metadata": {},
     "output_type": "execute_result"
    }
   ],
   "source": [
    "def jacobi(A,x:np.ndarray,b:np.ndarray,precisao:float,xlist=None):\n",
    "    \"\"\"Realiza o método iterativo de Gauss-Jacobi para aproximar o valor de x uma vez\n",
    "\n",
    "    Args:\n",
    "        A (np.matrix): Original coef matrix of Ax = b\n",
    "        x (np.ndarray): Inicial guess of the values that satisfies the linear system\n",
    "        b (np.ndarray): Vector of results from the linear system\n",
    "    \"\"\"\n",
    "\n",
    "    def maiorargpivot(mat,col):\n",
    "\n",
    "        \"\"\"Descobre o maior pivot da coluna atual e retorna seu index, \n",
    "        para realizar a permutação\n",
    "\n",
    "        Args:\n",
    "            mat ([np.ndarray]): [numpy matrix]\n",
    "            col ([int]): [column index]\n",
    "        \n",
    "        Returns:\n",
    "            Maior index da coluna\n",
    "        \"\"\"\n",
    "        ordenada=np.sort(np.abs(mat[:,col]))[::-1]\n",
    "\n",
    "        for i,c in enumerate(ordenada):\n",
    "            if np.where(np.abs(mat[:,col])==abs(c))[0][0]>=col: #Caso o maior valor esteja em posição válida para se tornar o novo pivot\n",
    "                return(np.where(np.abs(mat[:,col])==abs(c))[0][0]) #Retorna a posição\n",
    "    \n",
    "    if xlist is None:\n",
    "        xlist = []\n",
    "    if len(xlist)>1 and max(abs(xlist[-1] - xlist[-2]))<precisao: #Critério de parada\n",
    "        return x\n",
    "    \n",
    "    # Organiza a matriz de forma a satisfazer o critério de convergência da melhor forma\n",
    "    for ind,l in enumerate(A):\n",
    "        maior_da_coluna = maiorargpivot(A,ind)\n",
    "        if maior_da_coluna!= ind:\n",
    "            A[ind],A[maior_da_coluna] = A[maior_da_coluna].copy(),l.copy()\n",
    "\n",
    "    \n",
    "    # diagflat cria uma matriz com apenas a diagonal definida, restante 0. np.diagonal obtém um vetor que representa a diagonal da Matriz\n",
    "    \n",
    "    D = np.diagflat(np.diagonal(A)) #Matriz Diagonal com restante 0\n",
    "    M = A - D #Matriz com a diagonal zerada\n",
    "    Dinv = np.diagflat(1/np.diagonal(A)) #np.linalg.inv(D)\n",
    "    C = -(Dinv@M)\n",
    "    g = (Dinv@b)\n",
    "    x = C@x + g #Próximo x\n",
    "\n",
    "    print(x)\n",
    "    xlist.append(x)\n",
    "    \n",
    "    return jacobi(A,x,b,precisao,xlist) #Recursão\n",
    "\n",
    "\n",
    "exemplejacobi = np.array([10,2,1,1,5,1,2,3,10]).reshape(3,3)\n",
    "res = np.array([7,-8,6])\n",
    "jacobi(exemplejacobi,np.array([.7,-1.5,.6]),res,.0001)\n"
   ]
  },
  {
   "cell_type": "markdown",
   "metadata": {},
   "source": [
    "# Gauss - Seidel"
   ]
  },
  {
   "cell_type": "code",
   "execution_count": 122,
   "metadata": {},
   "outputs": [
    {
     "name": "stdout",
     "output_type": "stream",
     "text": [
      "[ 0.7 -1.5  0.6]\n",
      "[ 0.94   -1.908   0.9844]\n"
     ]
    },
    {
     "data": {
      "text/plain": [
       "array([ 0.98316  , -1.993512 ,  1.0014216])"
      ]
     },
     "execution_count": 122,
     "metadata": {},
     "output_type": "execute_result"
    }
   ],
   "source": [
    "def seidel(A,x:np.ndarray,b:np.ndarray,precisao:float,xlist=None):\n",
    "    \"\"\"Realiza o método iterativo de Gauss-Jacobi para aproximar o valor de x uma vez\n",
    "\n",
    "    Args:\n",
    "        A (np.matrix): Original coef matrix of Ax = b\n",
    "        x (np.ndarray): Initial guess of the values that satisfies the linear system\n",
    "        b (np.ndarray): Vector of results from the linear system\n",
    "    \"\"\"\n",
    "    \n",
    "    def maiorargpivot(mat,col):\n",
    "\n",
    "        \"\"\"Descobre o maior pivot da coluna atual e retorna seu index, \n",
    "        para realizar a permutação\n",
    "\n",
    "        Args:\n",
    "            mat ([np.ndarray]): [numpy matrix]\n",
    "            col ([int]): [column index]\n",
    "        \n",
    "        Returns:\n",
    "            Maior index da coluna\n",
    "        \"\"\"\n",
    "        ordenada=np.sort(np.abs(mat[:,col]))[::-1]\n",
    "\n",
    "        for i,c in enumerate(ordenada):\n",
    "            if np.where(np.abs(mat[:,col])==abs(c))[0][0]>=col: #Caso o maior valor esteja em posição válida para se tornar o novo pivot\n",
    "                return(np.where(np.abs(mat[:,col])==abs(c))[0][0]) #Retorna a posição\n",
    "    # Organiza a matriz de forma a satisfazer o critério de convergência da melhor forma\n",
    "    \n",
    "    if xlist is None:\n",
    "        xlist = []\n",
    "\n",
    "    for ind,l in enumerate(A):\n",
    "        maior_da_coluna = maiorargpivot(A,ind)\n",
    "        if maior_da_coluna!= ind:\n",
    "            A[ind],A[maior_da_coluna] = A[maior_da_coluna].copy(),l.copy()\n",
    "\n",
    "    if len(xlist)>1 and max(np.abs(xlist[-1] - xlist[-2]))<precisao: #Critério de parada\n",
    "        return xlist[-1]\n",
    "\n",
    "    # diagflat cria uma matriz com apenas a diagonal definida, restante 0. np.diagonal obtém um vetor que representa a diagonal da Matriz\n",
    "    D = np.diagflat(np.diagonal(A)) #Matriz Diagonal com restante 0\n",
    "    M = A - D # Matriz com a diagonal zerada\n",
    "    Dinv = np.diagflat(1/np.diagonal(A))\n",
    "    C = -(Dinv@M) # @ Representa uma multiplicação de matrizes, equivale a np.matmul (https://numpy.org/doc/stable/reference/generated/numpy.matmul.html)\n",
    "    g = (Dinv@b)\n",
    "\n",
    "    print(x)\n",
    "\n",
    "    #Iteração \n",
    "    for n in range(len(x)):\n",
    "        #Para cada iteração, utiliza o valor ja calculado, que foi salvo em x\n",
    "        x[n] = (Dinv[n,n]*(b[n]-sum(M[n]*x)))\n",
    "        \n",
    "    xlist.append(x)\n",
    "\n",
    "\n",
    "    return seidel(A,x,b,precisao,xlist) #Recursão\n",
    "\n",
    "\n",
    "exempleseidel = np.array([10,2,1,1,5,1,2,3,10],dtype = 'float').reshape(3,3)\n",
    "res = np.array([7,-8,6],dtype='float')\n",
    "seidel(exempleseidel,np.array([.7,-1.5,.6],dtype='float'),res,.001)\n",
    "\n"
   ]
  },
  {
   "cell_type": "code",
   "execution_count": 118,
   "metadata": {},
   "outputs": [
    {
     "name": "stdout",
     "output_type": "stream",
     "text": [
      "[-0.24    0.408  -0.3844]\n",
      "True\n"
     ]
    }
   ],
   "source": [
    "a1=np.array([ 0.7 ,-1.5,  0.6])\n",
    "a2=np.array([ 0.94,   -1.908  , 0.9844])\n",
    "print((a1-a2))\n",
    "print(np.max(abs(a1-a2))<.5)"
   ]
  },
  {
   "cell_type": "markdown",
   "metadata": {},
   "source": [
    "# 12)"
   ]
  },
  {
   "cell_type": "code",
   "execution_count": null,
   "metadata": {},
   "outputs": [
    {
     "name": "stdout",
     "output_type": "stream",
     "text": [
      "[49.00000146 20.0000006   8.33333358  3.33333343]\n",
      "[49.00000166 19.11111225  7.77777824  2.77777794]\n",
      "[48.70370553 18.9259272   7.29629695  2.59259282]\n",
      "[48.64197718 18.66666805  7.17284022  2.43209906]\n",
      "[48.55555746 18.60493969  7.03292258  2.39094681]\n",
      "[48.53498134 18.5294939   6.99862904  2.3443076 ]\n",
      "[48.50983275 18.51120401  6.95793404  2.33287642]\n",
      "[48.50373612 18.48925615  6.94802702  2.31931142]\n",
      "[48.49642016 18.4839216   6.93618939  2.31600907]\n",
      "[48.49464198 18.47753707  6.93331043  2.3120632 ]\n",
      "[48.4925138  18.47598469  6.92986696  2.31110355]\n",
      "[48.49199634 18.47412747  6.92902962  2.30995572]\n",
      "[48.49137727 18.47367587  6.92802794  2.30967661]\n",
      "[48.49122674 18.47313562  6.92778437  2.30934271]\n"
     ]
    },
    {
     "data": {
      "text/plain": [
       "array([48.49122674, 18.47313562,  6.92778437,  2.30934271])"
      ]
     },
     "execution_count": 84,
     "metadata": {},
     "output_type": "execute_result"
    }
   ],
   "source": [
    "lkc = np.array([3,-1,0,0,\n",
    "-1,3,-1,0,\n",
    "0,-1,3,-1,\n",
    "0,0,-1,3],dtype=np.float32).reshape(4,4)\n",
    "\n",
    "chute = np.array([50,20,10,5])\n",
    "b = np.array([127,0,0,0]) \n",
    "\n",
    "jacobi(lkc,chute,b,precisao =.001)\n",
    "\n"
   ]
  },
  {
   "cell_type": "markdown",
   "metadata": {},
   "source": [
    "# 13)"
   ]
  },
  {
   "cell_type": "code",
   "execution_count": 130,
   "metadata": {},
   "outputs": [
    {
     "name": "stdout",
     "output_type": "stream",
     "text": [
      "[ 3.  1.  0. -1.]\n",
      "[1.75       1.3125     0.87500001 1.234375  ]\n",
      "[0.89453125 0.92871094 0.99726564 0.95512696]\n"
     ]
    }
   ],
   "source": [
    "mat13 = np.array([4,1,1,1,\n",
    "                2,-8,1,-1,\n",
    "                1,2,-5,1,\n",
    "                1,1,1,-4],dtype='float32').reshape(4,4)\n",
    "\n",
    "b13 = np.array([7,-6,-1,-1],dtype='float32')\n",
    "print(seidel(mat13,x=np.array([3,1,0,-1],dtype='float'),b=b13,precisao=10**-4))"
   ]
  },
  {
   "cell_type": "markdown",
   "metadata": {},
   "source": [
    "# 14)"
   ]
  },
  {
   "cell_type": "code",
   "execution_count": 131,
   "metadata": {},
   "outputs": [
    {
     "name": "stdout",
     "output_type": "stream",
     "text": [
      "[2.00000003 1.44444446 3.42857163 3.00000005]\n",
      "[0.51746026 2.47619056 2.47619063 4.43968269]\n",
      "[1.39269842 1.6835979  3.32970548 3.6511112 ]\n",
      "[0.73505964 2.2213304  2.76471674 4.24073184]\n",
      "[1.18652577 1.84401817 3.16363658 3.83216095]\n",
      "[0.8697812  2.10841562 2.88519679 4.11759258]\n",
      "[1.09112294 1.92393768 3.08006188 3.91783223]\n",
      "[0.93632924 2.05308157 2.94392552 4.0574557 ]\n",
      "[1.04453726 1.96284721 3.03916532 3.95982727]\n",
      "[0.96886878 2.02596111 2.97259961 4.02808769]\n",
      "[1.02176993 1.98184218 3.01915141 3.9803615 ]\n",
      "[0.98478019 2.01269318 2.98660724 4.01373105]\n",
      "[1.01064197 1.99112418 3.00936326 3.99039966]\n",
      "[0.99255948 2.0062055  2.99345329 4.00671262]\n",
      "[1.00520232 1.99566114 3.00457756 3.99530686]\n",
      "[0.99636259 2.00303369 2.99679976 4.00328159]\n",
      "[1.00254317 1.99787896 3.00223791 3.99770579]\n",
      "[0.9982218  2.00148308 2.99843566 4.0016043 ]\n",
      "[1.00124323 1.99896315 3.00109414 3.99887852]\n",
      "[0.99913069 2.00072505 2.99923538 4.00078434]\n",
      "[1.00060774 1.99949316 3.000535   3.99945182]\n",
      "[0.99957501 2.00035448 2.99962632 4.0003835 ]\n",
      "[1.00029708 1.99975226 3.00026165 3.99973209]\n"
     ]
    },
    {
     "data": {
      "text/plain": [
       "array([1.00029708, 1.99975226, 3.00026165, 3.99973209])"
      ]
     },
     "execution_count": 131,
     "metadata": {},
     "output_type": "execute_result"
    }
   ],
   "source": [
    "mat14 = np.array([5,-1,2,-1,1,9,-3,4,0,3,-7,2,-2,2,-3,10],dtype='float32').reshape(4,4)\n",
    "b14= np.array([5,26,-7,33])\n",
    "x14=np.array([0,3,1,4])\n",
    "jacobi(mat14,x=x14,b=b14,precisao = 10**-3)"
   ]
  }
 ],
 "metadata": {
  "interpreter": {
   "hash": "9c464d06a4b2d4767f115b1ab41e495990683f3b61f9428babbb6293818e2cac"
  },
  "kernelspec": {
   "display_name": "Python 3.10.0 64-bit",
   "language": "python",
   "name": "python3"
  },
  "language_info": {
   "codemirror_mode": {
    "name": "ipython",
    "version": 3
   },
   "file_extension": ".py",
   "mimetype": "text/x-python",
   "name": "python",
   "nbconvert_exporter": "python",
   "pygments_lexer": "ipython3",
   "version": "3.10.0"
  },
  "orig_nbformat": 4
 },
 "nbformat": 4,
 "nbformat_minor": 2
}
