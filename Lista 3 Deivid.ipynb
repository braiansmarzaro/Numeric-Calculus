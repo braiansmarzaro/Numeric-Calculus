{
 "cells": [
  {
   "cell_type": "markdown",
   "metadata": {},
   "source": [
    "# Imports Base"
   ]
  },
  {
   "cell_type": "code",
   "execution_count": 59,
   "metadata": {},
   "outputs": [],
   "source": [
    "import numpy as np\n",
    "from fractions import Fraction\n",
    "import sympy as sy\n"
   ]
  },
  {
   "cell_type": "markdown",
   "metadata": {},
   "source": [
    "# 1)"
   ]
  },
  {
   "cell_type": "code",
   "execution_count": 60,
   "metadata": {},
   "outputs": [],
   "source": [
    "#Realiza o método de eliminação de gauss iterativamente. Considera que não há zeros na diagonal principal\n",
    "def pivotamento(mat):\n",
    "    def pivot(mat,col=0,row=0):\n",
    "\n",
    "        #Elimina a chance do elemento divisor ser 0\n",
    "        r=1        \n",
    "        while mat[row,col] == 0:\n",
    "            mat[:,col],mat[:,col+r] = mat[:,col+r].copy(),mat[:,col].copy()\n",
    "            r+=1\n",
    "\n",
    "        mat[row] = mat[row]/mat[row,col]\n",
    "\n",
    "        for l in range(row+1,len(mat)):\n",
    "            mat[l] = mat[l] - mat[l,col]/mat[row,col] * mat[row]\n",
    "            \n",
    "    for r in range(len(mat)): #Realiza o pivotamento para cada elemento da diagonal\n",
    "        pivot(mat,r,r)\n",
    "        #print('\\n',mat) #Printa passo a passo\n",
    "\n",
    "#Algoritmo utilizado na questão 2\n"
   ]
  },
  {
   "cell_type": "markdown",
   "metadata": {},
   "source": [
    "# 2)"
   ]
  },
  {
   "cell_type": "code",
   "execution_count": 61,
   "metadata": {},
   "outputs": [
    {
     "data": {
      "text/plain": [
       "array([[ 2.,  2.,  1.,  1.,  7.],\n",
       "       [ 1., -1.,  2., -1.,  1.],\n",
       "       [ 3.,  2., -3., -2.,  4.],\n",
       "       [ 4.,  3.,  2.,  1., 12.]], dtype=float32)"
      ]
     },
     "execution_count": 61,
     "metadata": {},
     "output_type": "execute_result"
    }
   ],
   "source": [
    "#Cria a matriz do exercício\n",
    "mat = np.array([2,2,1,1,7,\n",
    "                1,-1,2,-1,1,\n",
    "                3,2,-3,-2,4,\n",
    "                4,3,2,1,12],dtype=np.float32).reshape(4,5)\n",
    "mat"
   ]
  },
  {
   "cell_type": "code",
   "execution_count": 62,
   "metadata": {},
   "outputs": [
    {
     "data": {
      "text/plain": [
       "array([[ 1.        ,  1.        ,  0.5       ,  0.5       ,  3.5       ],\n",
       "       [-0.        ,  1.        , -0.75      ,  0.75      ,  1.25      ],\n",
       "       [-0.        , -0.        ,  1.        ,  0.52380955,  1.        ],\n",
       "       [ 0.        ,  0.        ,  0.        ,  1.        ,  0.        ]],\n",
       "      dtype=float32)"
      ]
     },
     "execution_count": 62,
     "metadata": {},
     "output_type": "execute_result"
    }
   ],
   "source": [
    "pivotamento(mat)\n",
    "mat"
   ]
  },
  {
   "cell_type": "markdown",
   "metadata": {},
   "source": [
    "# 3)"
   ]
  },
  {
   "cell_type": "code",
   "execution_count": 63,
   "metadata": {},
   "outputs": [
    {
     "data": {
      "text/plain": [
       "[[2, -2, 0, 0, 0, 0, 0, 0, 0, 0],\n",
       " [-1, 2, -1, 0, 0, 0, 0, 0, 0, 0],\n",
       " [0, -1, 2, -1, 0, 0, 0, 0, 0, 0],\n",
       " [0, 0, -1, 2, -1, 0, 0, 0, 0, 0],\n",
       " [0, 0, 0, -1, 2, -1, 0, 0, 0, 0],\n",
       " [0, 0, 0, 0, -1, 2, -1, 0, 0, 0],\n",
       " [0, 0, 0, 0, 0, -1, 2, -1, 0, 0],\n",
       " [0, 0, 0, 0, 0, 0, -1, 2, -1, 0],\n",
       " [0, 0, 0, 0, 0, 0, 0, -1, 2, -1],\n",
       " [0, 0, 0, 0, 0, 0, 0, 0, -1, 2]]"
      ]
     },
     "execution_count": 63,
     "metadata": {},
     "output_type": "execute_result"
    }
   ],
   "source": [
    "n=10\n",
    "mat3 = [[0]*n for _ in range(n)]\n",
    "mat3[0][:2] = [2,-2]\n",
    "mat3[n-1][-2:] = [-1,2]\n",
    "for l in range(1,n-1): #linha\n",
    "    mat3[l][l-1] = -1\n",
    "    mat3[l][l] = 2\n",
    "    mat3[l][l+1] = -1\n",
    "    \n",
    "mat3"
   ]
  },
  {
   "cell_type": "code",
   "execution_count": null,
   "metadata": {},
   "outputs": [],
   "source": []
  },
  {
   "cell_type": "markdown",
   "metadata": {},
   "source": [
    "# Fatoração LDU"
   ]
  },
  {
   "cell_type": "code",
   "execution_count": 64,
   "metadata": {},
   "outputs": [],
   "source": [
    "def LDU(A):\n",
    "    U = np.copy(A)\n",
    "    D = np.diagflat(np.diagonal(U))\n",
    "    n = np.shape(U)[0] #nº de Linhas da matriz\n",
    "    L = np.eye(n) #Identidade\n",
    "    cont = 0 \n",
    "    for j in np.arange(n-1): #Pelas colunas\n",
    "\n",
    "        for i in np.arange(j+1,n):  #Pelas linhas\n",
    "\n",
    "            L[i,j] = U[i,j]/U[j,j] #representa o m # no L são salvos os multiplicadores da posição pelo pivot\n",
    "            U[i] = U[i] - L[i,j]*U[j]\n",
    "    \n",
    "\n",
    "    return L, D, U\n",
    "\n"
   ]
  },
  {
   "cell_type": "code",
   "execution_count": 65,
   "metadata": {},
   "outputs": [],
   "source": [
    "x = np.array([[1,2],[3,4]])\n"
   ]
  },
  {
   "cell_type": "markdown",
   "metadata": {},
   "source": [
    "Fatora LDU:\n",
    "\n",
    "Fatora Ly = B\n",
    "descobre um vetor y, que substitui o resultado\n",
    "Dz = y\n",
    "\n",
    "encontra um vetor z\n",
    "Ux = z\n",
    "\n",
    "Encontra finalmente x"
   ]
  },
  {
   "cell_type": "markdown",
   "metadata": {},
   "source": [
    "# 5)\n",
    "    Estratégia de pivoteamento parcial\n",
    "    No início de cada eliminação de Gauss, trocando as linhas se necessário,\n",
    "    escolher para o pivô o maior 𝑎𝑖𝑗 da coluna 𝑗 (com 𝑖 ≥ 𝑗)."
   ]
  },
  {
   "cell_type": "code",
   "execution_count": 66,
   "metadata": {},
   "outputs": [
    {
     "ename": "SyntaxError",
     "evalue": "'return' outside function (Temp/ipykernel_11132/1288390526.py, line 12)",
     "output_type": "error",
     "traceback": [
      "\u001b[1;36m  File \u001b[1;32m\"C:\\Users\\smar_\\AppData\\Local\\Temp/ipykernel_11132/1288390526.py\"\u001b[1;36m, line \u001b[1;32m12\u001b[0m\n\u001b[1;33m    return(np.where(np.abs(matriz5[:,col])==abs(c))[0][0])\u001b[0m\n\u001b[1;37m    ^\u001b[0m\n\u001b[1;31mSyntaxError\u001b[0m\u001b[1;31m:\u001b[0m 'return' outside function\n"
     ]
    }
   ],
   "source": [
    "matriz5 = np.array([0,1,2,3,4,\n",
    "                    2,0,1,-1,0,\n",
    "                    3,-2,0,1,2,\n",
    "                    0,1,-2,0,2,\n",
    "                    1,3,-2,1,0\n",
    "                    ],dtype=np.float32).reshape(5,5)\n",
    "col = 1\n",
    "ordenada=np.sort(np.abs(matriz5[:,col]))[::-1]\n",
    "\n",
    "for i,c in enumerate(ordenada):\n",
    "    if np.where(np.abs(matriz5[:,col])==abs(c))[0][0]>=col:\n",
    "        return(np.where(np.abs(matriz5[:,col])==abs(c))[0][0])"
   ]
  },
  {
   "cell_type": "code",
   "execution_count": null,
   "metadata": {},
   "outputs": [],
   "source": [
    "def gauss_pivotparcial(mat,steps=False):\n",
    "\n",
    "    def maiorargpivot(mat,col):\n",
    "        \"\"\"Descobre o maior pivot da coluna atual e retorna seu index, \n",
    "        para realizar a permutação\n",
    "\n",
    "        Args:\n",
    "            mat ([np.ndarray]): [numpy matrix]\n",
    "            col ([int]): [column index]\n",
    "        \n",
    "        Returns:\n",
    "            Maior index da coluna\n",
    "        \"\"\"\n",
    "        ordenada=np.sort(np.abs(mat[:,col]))[::-1]\n",
    "\n",
    "        for i,c in enumerate(ordenada):\n",
    "            if np.where(np.abs(mat[:,col])==abs(c))[0][0]>=col: #Caso o maior valor esteja em posição válida para se tornar o novo pivot\n",
    "                return(np.where(np.abs(mat[:,col])==abs(c))[0][0]) #Retorna a posição\n",
    "\n",
    "\n",
    "    def pivotparcial(mat:np.array,row=0,col=0): \n",
    "\n",
    "        maior = maiorargpivot(mat,col) #Encontra o maior elemento da linha\n",
    "\n",
    "        if row<maior:\n",
    "            mat[row],mat[maior] = mat[maior].copy(),mat[row].copy()\n",
    "\n",
    "        mat[row] = mat[row]/mat[row,col]\n",
    "        for l in range(row+1,len(mat)):\n",
    "            if mat[l,col]!= 0:\n",
    "                mat[l] = mat[l] - mat[l,col]/mat[row,col] * mat[row]\n",
    "    \n",
    "    for c in range(len(mat)-1):\n",
    "        pivotparcial(mat,c,c)\n",
    "        if steps:\n",
    "            print(mat)\n",
    "    print(mat)\n",
    "    "
   ]
  },
  {
   "cell_type": "code",
   "execution_count": null,
   "metadata": {},
   "outputs": [
    {
     "name": "stdout",
     "output_type": "stream",
     "text": [
      "[[ 1.         -0.6666667   0.          0.33333334  0.6666667 ]\n",
      " [ 0.          1.         -0.54545456  0.18181817 -0.18181819]\n",
      " [ 0.          0.          1.          1.1071428   1.6428571 ]\n",
      " [ 0.          0.          0.          1.4285715   4.5714283 ]\n",
      " [ 0.          0.          0.         -3.8214285  -3.9285712 ]]\n"
     ]
    },
    {
     "data": {
      "text/plain": [
       "array([ 2.14457831,  0.6626506 , -0.57831325,  0.71084337,  1.59036145])"
      ]
     },
     "execution_count": 24,
     "metadata": {},
     "output_type": "execute_result"
    }
   ],
   "source": [
    "matriz5 = np.array([0,1,2,3,4,\n",
    "                    2,0,1,-1,0,\n",
    "                    3,-2,0,1,2,\n",
    "                    0,1,-2,0,2,\n",
    "                    1,3,-2,1,0\n",
    "                    ],dtype=np.float32).reshape(5,5)\n",
    "print(matriz)\n",
    "res5 = np.array([8,3,9,5,6])\n",
    "\n",
    "#gauss_pivotparcial(matriz)\n",
    "\n",
    "np.linalg.solve(matriz5,res5)"
   ]
  },
  {
   "cell_type": "markdown",
   "metadata": {},
   "source": [
    "# Fatoração LU\n",
    "# 6)"
   ]
  },
  {
   "cell_type": "code",
   "execution_count": null,
   "metadata": {},
   "outputs": [],
   "source": [
    "def fatoraLU(A):  \n",
    "    U = np.copy(A) \n",
    "    n = np.shape(U)[0] #nº de Linhas da matriz\n",
    "    L = np.eye(n) #Identidade\n",
    "    cont = 0 \n",
    "    for j in np.arange(n-1): #Pelas colunas\n",
    "        '''while U[j,j]==0:\n",
    "            print(U[j])\n",
    "            cont+=1\n",
    "            U[j],U[j+cont] = U[j+cont].copy(),U[j].copy()'''\n",
    "\n",
    "        for i in np.arange(j+1,n):  #Pelas linhas\n",
    "\n",
    "            L[i,j] = U[i,j]/U[j,j] #representa o m # no L são salvos os multiplicadores da posição pelo pivot\n",
    "            U[i] = U[i] - L[i,j]*U[j]\n",
    "            \n",
    "            \n",
    "            \n",
    "\n",
    "    return L, U\n",
    "\n",
    "def solveL(L,b):\n",
    "\n",
    "    y = np.zeros(L.shape[1])\n",
    "    for i in range(len(b)+1):\n",
    "        soma = 0\n",
    "        for j in range(i):\n",
    "            soma += L[i][j]*y[j]\n",
    "\n",
    "        y[i] = b[i]-soma\n",
    "\n",
    "    return y\n",
    "\n",
    "def solveU(U,y):\n",
    "    n = len(y)-1\n",
    "#Vetor cheio de 0 de n de tamanho  \n",
    "    x = np.zeros(y.shape)\n",
    "    x[n] = b[n]/U[n][n]\n",
    "\n",
    "    for i in range(n-1,0,-1):\n",
    "        soma = 0\n",
    "        for j in range(i-1,n+2):\n",
    "            soma = soma + U[i][j]*x[j]\n",
    "\n",
    "        x[i] = (b[i]-soma)/U[i][i]\n",
    "\n",
    "    return x\n",
    "\n"
   ]
  },
  {
   "cell_type": "code",
   "execution_count": null,
   "metadata": {},
   "outputs": [
    {
     "name": "stdout",
     "output_type": "stream",
     "text": [
      "[[1.         0.         0.         0.        ]\n",
      " [0.5        1.         0.         0.        ]\n",
      " [1.5        0.5        1.         0.        ]\n",
      " [2.         0.5        0.14285715 1.        ]]\n",
      "[[ 2.0000000e+00  2.0000000e+00  1.0000000e+00  1.0000000e+00]\n",
      " [ 0.0000000e+00 -2.0000000e+00  1.5000000e+00 -1.5000000e+00]\n",
      " [ 0.0000000e+00  0.0000000e+00 -5.2500000e+00 -2.7500000e+00]\n",
      " [ 0.0000000e+00  0.0000000e+00  5.9604645e-08  1.4285716e-01]]\n",
      "[[ 2.          2.          1.          1.        ]\n",
      " [ 1.         -1.          2.         -1.        ]\n",
      " [ 3.          2.         -3.         -2.        ]\n",
      " [ 4.          3.          2.00000003  1.        ]]\n"
     ]
    }
   ],
   "source": [
    "#Resolvendo a questão 2 por LU\n",
    "#Recria a matriz do exercício\n",
    "mat = np.array([2,2,1,1,\n",
    "                1,-1,2,-1,\n",
    "                3,2,-3,-2,\n",
    "                4,3,2,1],dtype='float32').reshape(4,4)\n",
    "\n",
    "l,u = fatoraLU(mat)\n",
    "print(l)\n",
    "print(u)\n",
    "\n",
    "#Conferindo\n",
    "print(l@u)\n"
   ]
  },
  {
   "cell_type": "markdown",
   "metadata": {},
   "source": [
    "# 8)"
   ]
  },
  {
   "cell_type": "code",
   "execution_count": null,
   "metadata": {},
   "outputs": [],
   "source": [
    "mat8 = np.array([2,4,0,4,6,3,-6,-10,0]).reshape(3,3)\n",
    "l,u = fatoraLU(mat8)\n"
   ]
  },
  {
   "cell_type": "code",
   "execution_count": null,
   "metadata": {},
   "outputs": [
    {
     "name": "stdout",
     "output_type": "stream",
     "text": [
      "l:\n",
      " [[ 1.  0.  0.]\n",
      " [ 2.  1.  0.]\n",
      " [-3. -1.  1.]]\n",
      "u:\n",
      " [[ 2  4  0]\n",
      " [ 0 -2  3]\n",
      " [ 0  0  3]]\n"
     ]
    }
   ],
   "source": [
    "#i)\n",
    "resulti = np.array([2,1,-6])\n",
    "\n",
    "#ii)\n",
    "resultii = np.array([1]*3)\n",
    "\n",
    "#iii) \n",
    "resultiii = np.array([2,2,0])\n",
    "\n",
    "#iv)\n",
    "resultiv = np.array([1,2,3])\n",
    "\n",
    "print('l:\\n',l)\n",
    "print('u:\\n',u)"
   ]
  },
  {
   "cell_type": "code",
   "execution_count": null,
   "metadata": {},
   "outputs": [
    {
     "data": {
      "text/plain": [
       "array([-5.5,  3. ,  2. ])"
      ]
     },
     "execution_count": 31,
     "metadata": {},
     "output_type": "execute_result"
    }
   ],
   "source": [
    "np.linalg.solve(mat8,resultiv)"
   ]
  },
  {
   "cell_type": "markdown",
   "metadata": {},
   "source": [
    "# Gauss - Jacobi\n",
    "\n",
    "    Transformar Ax = b em x = Cx + g\n",
    "    x**(k+1) = Cx**(k) + g\n",
    "\n",
    "    - Transforma A em uma matriz Diagonal + Matriz Diagonal nula\n",
    "    - Manipular\n",
    "\n",
    "https://prnt.sc/26i6nc6 Cálculos\n",
    "\n",
    "https://prnt.sc/26i6nvb Resumo\n",
    "\n"
   ]
  },
  {
   "cell_type": "code",
   "execution_count": null,
   "metadata": {},
   "outputs": [
    {
     "name": "stdout",
     "output_type": "stream",
     "text": [
      "[ 0.94 -1.86  0.91]\n",
      "[ 0.981 -1.97   0.97 ]\n",
      "[ 0.997  -1.9902  0.9948]\n",
      "[ 0.99856 -1.99836  0.99766]\n",
      "[ 0.999906 -1.999244  0.999796]\n",
      "[ 0.9998692 -1.9999404  0.999792 ]\n",
      "[ 1.00000888 -1.99993224  1.00000828]\n",
      "[ 0.99998562 -2.00000343  0.9999779 ]\n"
     ]
    },
    {
     "data": {
      "text/plain": [
       "array([ 0.99998562, -2.00000343,  0.9999779 ])"
      ]
     },
     "execution_count": 40,
     "metadata": {},
     "output_type": "execute_result"
    }
   ],
   "source": [
    "def jacobi(A,x:np.ndarray,b:np.ndarray,precisao:float,xlist=None):\n",
    "    \"\"\"Realiza o método iterativo de Gauss-Jacobi para aproximar o valor de x uma vez\n",
    "\n",
    "    Args:\n",
    "        A (np.matrix): Original coef matrix of Ax = b\n",
    "        x (np.ndarray): Inicial guess of the values that satisfies the linear system\n",
    "        b (np.ndarray): Vector of results from the linear system\n",
    "    \"\"\"\n",
    "\n",
    "    def maiorargpivot(mat,col):\n",
    "\n",
    "        \"\"\"Descobre o maior pivot da coluna atual e retorna seu index, \n",
    "        para realizar a permutação\n",
    "\n",
    "        Args:\n",
    "            mat ([np.ndarray]): [numpy matrix]\n",
    "            col ([int]): [column index]\n",
    "        \n",
    "        Returns:\n",
    "            Maior index da coluna\n",
    "        \"\"\"\n",
    "        ordenada=np.sort(np.abs(mat[:,col]))[::-1]\n",
    "\n",
    "        for i,c in enumerate(ordenada):\n",
    "            if np.where(np.abs(mat[:,col])==abs(c))[0][0]>=col: #Caso o maior valor esteja em posição válida para se tornar o novo pivot\n",
    "                return(np.where(np.abs(mat[:,col])==abs(c))[0][0]) #Retorna a posição\n",
    "    \n",
    "    if xlist is None:\n",
    "        xlist = []\n",
    "    if len(xlist)>1 and max(abs(xlist[-1] - xlist[-2]))<precisao: #Critério de parada\n",
    "        return x\n",
    "    \n",
    "    # Organiza a matriz de forma a satisfazer o critério de convergência da melhor forma\n",
    "    for ind,l in enumerate(A):\n",
    "        maior_da_coluna = maiorargpivot(A,ind)\n",
    "        if maior_da_coluna!= ind:\n",
    "            A[ind],A[maior_da_coluna] = A[maior_da_coluna].copy(),l.copy()\n",
    "\n",
    "    \n",
    "    # diagflat cria uma matriz com apenas a diagonal definida, restante 0. np.diagonal obtém um vetor que representa a diagonal da Matriz\n",
    "    \n",
    "    D = np.diagflat(np.diagonal(A)) #Matriz Diagonal com restante 0\n",
    "    M = A - D #Matriz com a diagonal zerada\n",
    "    Dinv = np.diagflat(1/np.diagonal(A)) #np.linalg.inv(D)\n",
    "    C = -(Dinv@M)\n",
    "    g = (Dinv@b)\n",
    "    x = C@x + g #Próximo x\n",
    "\n",
    "    print(x)\n",
    "    xlist.append(x)\n",
    "    \n",
    "    return jacobi(A,x,b,precisao,xlist) #Recursão\n",
    "\n",
    "\n",
    "exemplejacobi = np.array([10,2,1,1,5,1,2,3,10]).reshape(3,3)\n",
    "res = np.array([7,-8,6])\n",
    "jacobi(exemplejacobi,np.array([.7,-1.5,.6]),res,.0001)\n"
   ]
  },
  {
   "cell_type": "code",
   "execution_count": 83,
   "metadata": {},
   "outputs": [
    {
     "name": "stdout",
     "output_type": "stream",
     "text": [
      "[ 0.7 -1.5  0.6]\n",
      "dinv 0.1\n",
      "bn,mn,x 7 [0. 2. 1.] [ 0.94000001 -1.5         0.6       ]\n",
      "bn-sum 9.4\n",
      "mult 0.9400000140070915\n",
      "\n",
      "dinv 0.2\n",
      "bn,mn,x -8 [1. 0. 1.] [ 0.94000001 -1.90800003  0.6       ]\n",
      "bn-sum -9.540000014\n",
      "mult -1.9080000312314156\n",
      "\n",
      "dinv 0.1\n",
      "bn,mn,x 6 [2. 3. 0.] [ 0.94000001 -1.90800003  0.98440002]\n",
      "bn-sum 9.8440000656\n",
      "mult 0.9844000212287032\n",
      "\n",
      "[ 0.94000001 -1.90800003  0.98440002]\n",
      "dinv 0.1\n",
      "bn,mn,x 7 [0. 2. 1.] [ 0.98316002 -1.90800003  0.98440002]\n",
      "bn-sum 9.8316000412\n",
      "mult 0.9831600187702256\n",
      "\n",
      "dinv 0.2\n",
      "bn,mn,x -8 [1. 0. 1.] [ 0.98316002 -1.99351204  0.98440002]\n",
      "bn-sum -9.96756004\n",
      "mult -1.993512037705644\n",
      "\n",
      "dinv 0.1\n",
      "bn,mn,x 6 [2. 3. 0.] [ 0.98316002 -1.99351204  1.00142162]\n",
      "bn-sum 10.014216075499998\n",
      "mult 1.0014216224723447\n",
      "\n"
     ]
    },
    {
     "data": {
      "text/plain": [
       "array([ 1., -2.,  1.])"
      ]
     },
     "execution_count": 83,
     "metadata": {},
     "output_type": "execute_result"
    }
   ],
   "source": [
    "def seidel(A,x:np.ndarray,b:np.ndarray,precisao:float,xlist=None):\n",
    "    \"\"\"Realiza o método iterativo de Gauss-Jacobi para aproximar o valor de x uma vez\n",
    "\n",
    "    Args:\n",
    "        A (np.matrix): Original coef matrix of Ax = b\n",
    "        x (np.ndarray): Initial guess of the values that satisfies the linear system\n",
    "        b (np.ndarray): Vector of results from the linear system\n",
    "    \"\"\"\n",
    "    \n",
    "    def maiorargpivot(mat,col):\n",
    "\n",
    "        \"\"\"Descobre o maior pivot da coluna atual e retorna seu index, \n",
    "        para realizar a permutação\n",
    "\n",
    "        Args:\n",
    "            mat ([np.ndarray]): [numpy matrix]\n",
    "            col ([int]): [column index]\n",
    "        \n",
    "        Returns:\n",
    "            Maior index da coluna\n",
    "        \"\"\"\n",
    "        ordenada=np.sort(np.abs(mat[:,col]))[::-1]\n",
    "\n",
    "        for i,c in enumerate(ordenada):\n",
    "            if np.where(np.abs(mat[:,col])==abs(c))[0][0]>=col: #Caso o maior valor esteja em posição válida para se tornar o novo pivot\n",
    "                return(np.where(np.abs(mat[:,col])==abs(c))[0][0]) #Retorna a posição\n",
    "    # Organiza a matriz de forma a satisfazer o critério de convergência da melhor forma\n",
    "    \n",
    "    if xlist is None:\n",
    "        xlist = []\n",
    "\n",
    "    for ind,l in enumerate(A):\n",
    "        maior_da_coluna = maiorargpivot(A,ind)\n",
    "        if maior_da_coluna!= ind:\n",
    "            A[ind],A[maior_da_coluna] = A[maior_da_coluna].copy(),l.copy()\n",
    "\n",
    "    if len(xlist)>1 and max(abs(xlist[-1] - xlist[-2]))<precisao: #Critério de parada\n",
    "       \n",
    "        return x\n",
    "\n",
    "    # diagflat cria uma matriz com apenas a diagonal definida, restante 0. np.diagonal obtém um vetor que representa a diagonal da Matriz\n",
    "    D = np.diagflat(np.diagonal(A)) #Matriz Diagonal com restante 0\n",
    "    M = A - D # Matriz com a diagonal zerada\n",
    "    Dinv = np.diagflat(1/np.diagonal(A))\n",
    "    C = -(Dinv@M) # @ Representa uma multiplicação de matrizes, equivale a np.matmul (https://numpy.org/doc/stable/reference/generated/numpy.matmul.html)\n",
    "    g = (Dinv@b)\n",
    "\n",
    "    print(x)\n",
    "\n",
    "    #Iteração \n",
    "    for n in range(len(x)):\n",
    "        #Para cada iteração, utiliza o valor ja calculado, que foi salvo em x\n",
    "        x[n] = round(Dinv[n,n]*(b[n]-sum(M[n]*x)),10)\n",
    "        print('dinv',Dinv[n,n])\n",
    "        print('bn,mn,x',b[n],M[n],x)\n",
    "        print('bn-sum',b[n]-sum(M[n]*x))\n",
    "        print('mult',Dinv[n,n]*(b[n]-sum(M[n]*x)))\n",
    "        print()\n",
    "    xlist.append(x)\n",
    "\n",
    "\n",
    "    return seidel(A,x,b,precisao,xlist) #Recursão\n",
    "\n",
    "\n",
    "exempleseidel = np.array([10,2,1,1,5,1,2,3,10],dtype = 'float32').reshape(3,3)\n",
    "res = np.array([7,-8,6])\n",
    "seidel(exempleseidel,np.array([.7,-1.5,.6]),res,.00001)\n",
    "np.linalg.solve(exempleseidel,res)\n",
    "\n"
   ]
  },
  {
   "cell_type": "markdown",
   "metadata": {},
   "source": [
    "# 12)"
   ]
  },
  {
   "cell_type": "code",
   "execution_count": null,
   "metadata": {},
   "outputs": [
    {
     "name": "stdout",
     "output_type": "stream",
     "text": [
      "[49.00000146 20.0000006   8.33333358  3.33333343]\n",
      "[49.00000166 19.11111225  7.77777824  2.77777794]\n",
      "[48.70370553 18.9259272   7.29629695  2.59259282]\n",
      "[48.64197718 18.66666805  7.17284022  2.43209906]\n",
      "[48.55555746 18.60493969  7.03292258  2.39094681]\n",
      "[48.53498134 18.5294939   6.99862904  2.3443076 ]\n",
      "[48.50983275 18.51120401  6.95793404  2.33287642]\n",
      "[48.50373612 18.48925615  6.94802702  2.31931142]\n",
      "[48.49642016 18.4839216   6.93618939  2.31600907]\n",
      "[48.49464198 18.47753707  6.93331043  2.3120632 ]\n",
      "[48.4925138  18.47598469  6.92986696  2.31110355]\n",
      "[48.49199634 18.47412747  6.92902962  2.30995572]\n",
      "[48.49137727 18.47367587  6.92802794  2.30967661]\n",
      "[48.49122674 18.47313562  6.92778437  2.30934271]\n"
     ]
    },
    {
     "data": {
      "text/plain": [
       "array([48.49122674, 18.47313562,  6.92778437,  2.30934271])"
      ]
     },
     "execution_count": 84,
     "metadata": {},
     "output_type": "execute_result"
    }
   ],
   "source": [
    "lkc = np.array([3,-1,0,0,\n",
    "-1,3,-1,0,\n",
    "0,-1,3,-1,\n",
    "0,0,-1,3],dtype=np.float32).reshape(4,4)\n",
    "\n",
    "chute = np.array([50,20,10,5])\n",
    "b = np.array([127,0,0,0]) \n",
    "\n",
    "jacobi(lkc,chute,b,precisao =.001)\n",
    "\n"
   ]
  },
  {
   "cell_type": "markdown",
   "metadata": {},
   "source": [
    "# 13)"
   ]
  },
  {
   "cell_type": "code",
   "execution_count": 84,
   "metadata": {},
   "outputs": [
    {
     "name": "stdout",
     "output_type": "stream",
     "text": [
      "[ 3  1  0 -1]\n",
      "dinv 0.25\n",
      "bn,mn,x 7 [0. 1. 1. 1.] [ 1  1  0 -1]\n",
      "bn-sum 7.0\n",
      "mult 1.75\n",
      "\n",
      "dinv -0.125\n",
      "bn,mn,x -6 [ 2.  0.  1. -1.] [ 1  1  0 -1]\n",
      "bn-sum -9.0\n",
      "mult 1.125\n",
      "\n",
      "dinv -0.2\n",
      "bn,mn,x -1 [1. 2. 0. 1.] [ 1  1  0 -1]\n",
      "bn-sum -3.0\n",
      "mult 0.6000000089406967\n",
      "\n",
      "dinv -0.25\n",
      "bn,mn,x -1 [1. 1. 1. 0.] [1 1 0 0]\n",
      "bn-sum -3.0\n",
      "mult 0.75\n",
      "\n",
      "[1 1 0 0]\n",
      "dinv 0.25\n",
      "bn,mn,x 7 [0. 1. 1. 1.] [1 1 0 0]\n",
      "bn-sum 6.0\n",
      "mult 1.5\n",
      "\n",
      "dinv -0.125\n",
      "bn,mn,x -6 [ 2.  0.  1. -1.] [1 1 0 0]\n",
      "bn-sum -8.0\n",
      "mult 1.0\n",
      "\n",
      "dinv -0.2\n",
      "bn,mn,x -1 [1. 2. 0. 1.] [1 1 0 0]\n",
      "bn-sum -4.0\n",
      "mult 0.800000011920929\n",
      "\n",
      "dinv -0.25\n",
      "bn,mn,x -1 [1. 1. 1. 0.] [1 1 0 0]\n",
      "bn-sum -3.0\n",
      "mult 0.75\n",
      "\n"
     ]
    },
    {
     "data": {
      "text/plain": [
       "array([1., 1., 1., 1.])"
      ]
     },
     "execution_count": 84,
     "metadata": {},
     "output_type": "execute_result"
    }
   ],
   "source": [
    "mat13 = np.array([4,1,1,1,\n",
    "                2,-8,1,-1,\n",
    "                1,2,-5,1,\n",
    "                1,1,1,-4],dtype='float32').reshape(4,4)\n",
    "\n",
    "b13 = np.array([7,-6,-1,-1])\n",
    "seidel(mat13,x=np.array([3,1,0,-1]),b=b13,precisao=10**-4)\n",
    "np.linalg.solve(mat13,b13)"
   ]
  },
  {
   "cell_type": "markdown",
   "metadata": {},
   "source": [
    "# 14)"
   ]
  },
  {
   "cell_type": "code",
   "execution_count": null,
   "metadata": {},
   "outputs": [
    {
     "name": "stdout",
     "output_type": "stream",
     "text": [
      "[1.00000001 1.77777782 3.71428593 4.30000009]\n",
      "[0.72984122 2.10476197 2.9904764  4.25873031]\n",
      "[1.07650791 1.9118519  3.11882111 3.92215885]\n",
      "[0.91927372 2.06570226 2.93998207 4.06857762]\n",
      "[1.05086316 1.95848471 3.04775188 3.95270899]\n",
      "[0.963138   2.03128409 2.96869618 4.03280134]\n",
      "[1.02533863 1.97908283 3.02277945 3.97697972]\n",
      "[0.98210075 2.01500902 2.98445844 4.01608508]\n",
      "[1.01243546 1.9896594  3.01102834 3.98875596]\n",
      "[0.99127175 2.00729178 2.99235589 4.0078638 ]\n",
      "[1.00608877 1.99492679 3.00537201 3.99450284]\n",
      "[0.99573714 2.00355736 2.99625531 4.00384408]\n",
      "[1.00297818 1.99751698 3.00262306 3.99731263]\n",
      "[0.99791671 2.00173787 2.99816819 4.00187924]\n",
      "[1.00145616 1.99878569 3.00128189 3.99868631]\n",
      "[0.99898166 2.0008494  2.99910441 4.00091874]\n",
      "[1.00071188 1.99940633 3.00062669 3.99935786]\n",
      "[0.99950217 2.00041523 2.99956226 4.0004492 ]\n",
      "[1.000348   1.99970979 3.00030646 3.99968615]\n"
     ]
    },
    {
     "data": {
      "text/plain": [
       "array([1., 2., 3., 4.])"
      ]
     },
     "execution_count": 41,
     "metadata": {},
     "output_type": "execute_result"
    }
   ],
   "source": [
    "mat14 = np.array([5,-1,2,-1,1,9,-3,4,0,3,-7,2,-2,2,-3,10],dtype='float32').reshape(4,4)\n",
    "b14= np.array([5,26,-7,33])\n",
    "x14=np.array([2,3,4,5])\n",
    "jacobi(mat14,x=x14,b=b14,precisao = 10**-3)\n",
    "np.linalg.solve(mat14,b14)"
   ]
  }
 ],
 "metadata": {
  "interpreter": {
   "hash": "9c464d06a4b2d4767f115b1ab41e495990683f3b61f9428babbb6293818e2cac"
  },
  "kernelspec": {
   "display_name": "Python 3.10.0 64-bit",
   "language": "python",
   "name": "python3"
  },
  "language_info": {
   "codemirror_mode": {
    "name": "ipython",
    "version": 3
   },
   "file_extension": ".py",
   "mimetype": "text/x-python",
   "name": "python",
   "nbconvert_exporter": "python",
   "pygments_lexer": "ipython3",
   "version": "3.10.0"
  },
  "orig_nbformat": 4
 },
 "nbformat": 4,
 "nbformat_minor": 2
}
