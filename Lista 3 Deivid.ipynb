{
 "cells": [
  {
   "cell_type": "markdown",
   "metadata": {},
   "source": [
    "# Imports Base"
   ]
  },
  {
   "cell_type": "code",
   "execution_count": 64,
   "metadata": {},
   "outputs": [],
   "source": [
    "import numpy as np\n",
    "from fractions import Fraction\n",
    "import sympy as sy\n",
    "import matplotlib.pyplot as plt"
   ]
  },
  {
   "cell_type": "markdown",
   "metadata": {},
   "source": [
    "# 1)"
   ]
  },
  {
   "cell_type": "code",
   "execution_count": 65,
   "metadata": {},
   "outputs": [],
   "source": [
    "#Realiza o método de eliminação de gauss iterativamente. Considera que não há zeros na diagonal principal\n",
    "def pivotamento(mat):\n",
    "    def pivot(mat,col=0,row=0):\n",
    "\n",
    "        #Elimina a chance do elemento divisor ser 0\n",
    "        r=1        \n",
    "        while mat[row,col] == 0:\n",
    "            mat[:,col],mat[:,col+r] = mat[:,col+r].copy(),mat[:,col].copy()\n",
    "            r+=1\n",
    "\n",
    "        mat[row] = mat[row]/mat[row,col]\n",
    "\n",
    "        for l in range(row+1,len(mat)):\n",
    "            mat[l] = mat[l] - mat[l,col]/mat[row,col] * mat[row]\n",
    "            \n",
    "    for r in range(len(mat)): #Realiza o pivotamento para cada elemento da diagonal\n",
    "        pivot(mat,r,r)\n",
    "        #print('\\n',mat) #Printa passo a passo\n",
    "\n",
    "#Algoritmo utilizado na questão 2\n"
   ]
  },
  {
   "cell_type": "markdown",
   "metadata": {},
   "source": [
    "# 2)"
   ]
  },
  {
   "cell_type": "code",
   "execution_count": 66,
   "metadata": {},
   "outputs": [
    {
     "data": {
      "text/plain": [
       "array([[ 2.,  2.,  1.,  1.,  7.],\n",
       "       [ 1., -1.,  2., -1.,  1.],\n",
       "       [ 3.,  2., -3., -2.,  4.],\n",
       "       [ 4.,  3.,  2.,  1., 12.]], dtype=float32)"
      ]
     },
     "execution_count": 66,
     "metadata": {},
     "output_type": "execute_result"
    }
   ],
   "source": [
    "#Cria a matriz do exercício\n",
    "mat = np.array([2,2,1,1,7,\n",
    "                1,-1,2,-1,1,\n",
    "                3,2,-3,-2,4,\n",
    "                4,3,2,1,12],dtype=np.float32).reshape(4,5)\n",
    "mat"
   ]
  },
  {
   "cell_type": "code",
   "execution_count": 67,
   "metadata": {},
   "outputs": [
    {
     "data": {
      "text/plain": [
       "array([[ 1.        ,  1.        ,  0.5       ,  0.5       ,  3.5       ],\n",
       "       [-0.        ,  1.        , -0.75      ,  0.75      ,  1.25      ],\n",
       "       [-0.        , -0.        ,  1.        ,  0.52380955,  1.        ],\n",
       "       [ 0.        ,  0.        ,  0.        ,  1.        ,  0.        ]],\n",
       "      dtype=float32)"
      ]
     },
     "execution_count": 67,
     "metadata": {},
     "output_type": "execute_result"
    }
   ],
   "source": [
    "pivotamento(mat)\n",
    "mat"
   ]
  },
  {
   "cell_type": "markdown",
   "metadata": {},
   "source": [
    "# 3)"
   ]
  },
  {
   "cell_type": "code",
   "execution_count": 68,
   "metadata": {},
   "outputs": [
    {
     "data": {
      "text/plain": [
       "array([[ 2., -2.,  0.,  0.,  0.,  0.,  0.,  0.,  0.,  0.,  1.],\n",
       "       [-1.,  2., -1.,  0.,  0.,  0.,  0.,  0.,  0.,  0.,  0.],\n",
       "       [ 0., -1.,  2., -1.,  0.,  0.,  0.,  0.,  0.,  0.,  0.],\n",
       "       [ 0.,  0., -1.,  2., -1.,  0.,  0.,  0.,  0.,  0.,  0.],\n",
       "       [ 0.,  0.,  0., -1.,  2., -1.,  0.,  0.,  0.,  0.,  0.],\n",
       "       [ 0.,  0.,  0.,  0., -1.,  2., -1.,  0.,  0.,  0.,  0.],\n",
       "       [ 0.,  0.,  0.,  0.,  0., -1.,  2., -1.,  0.,  0.,  0.],\n",
       "       [ 0.,  0.,  0.,  0.,  0.,  0., -1.,  2., -1.,  0.,  0.],\n",
       "       [ 0.,  0.,  0.,  0.,  0.,  0.,  0., -1.,  2., -1.,  0.],\n",
       "       [ 0.,  0.,  0.,  0.,  0.,  0.,  0.,  0., -1.,  2.,  0.]],\n",
       "      dtype=float32)"
      ]
     },
     "execution_count": 68,
     "metadata": {},
     "output_type": "execute_result"
    }
   ],
   "source": [
    "#Gerando a matriz aumentada\n",
    "n=10\n",
    "mat3 = [[0]*(n+1) for _ in range(n)]\n",
    "mat3[0][:2] = [2,-2]\n",
    "mat3[0][-1] = 1\n",
    "mat3[n-1][-3:-1] = [-1,2]\n",
    "for l in range(1,n-1): #linha\n",
    "    mat3[l][l-1] = -1\n",
    "    mat3[l][l] = 2\n",
    "    mat3[l][l+1] = -1\n",
    "    \n",
    "mat3=np.array(mat3,dtype=np.float32)\n",
    "mat3\n"
   ]
  },
  {
   "cell_type": "code",
   "execution_count": 69,
   "metadata": {},
   "outputs": [
    {
     "data": {
      "text/plain": [
       "array([[ 1. , -1. ,  0. ,  0. ,  0. ,  0. ,  0. ,  0. ,  0. ,  0. ,  0.5],\n",
       "       [ 0. ,  1. , -1. ,  0. ,  0. ,  0. ,  0. ,  0. ,  0. ,  0. ,  0.5],\n",
       "       [ 0. ,  0. ,  1. , -1. ,  0. ,  0. ,  0. ,  0. ,  0. ,  0. ,  0.5],\n",
       "       [ 0. ,  0. ,  0. ,  1. , -1. ,  0. ,  0. ,  0. ,  0. ,  0. ,  0.5],\n",
       "       [ 0. ,  0. ,  0. ,  0. ,  1. , -1. ,  0. ,  0. ,  0. ,  0. ,  0.5],\n",
       "       [ 0. ,  0. ,  0. ,  0. ,  0. ,  1. , -1. ,  0. ,  0. ,  0. ,  0.5],\n",
       "       [ 0. ,  0. ,  0. ,  0. ,  0. ,  0. ,  1. , -1. ,  0. ,  0. ,  0.5],\n",
       "       [ 0. ,  0. ,  0. ,  0. ,  0. ,  0. ,  0. ,  1. , -1. ,  0. ,  0.5],\n",
       "       [ 0. ,  0. ,  0. ,  0. ,  0. ,  0. ,  0. ,  0. ,  1. , -1. ,  0.5],\n",
       "       [ 0. ,  0. ,  0. ,  0. ,  0. ,  0. ,  0. ,  0. ,  0. ,  1. ,  0.5]],\n",
       "      dtype=float32)"
      ]
     },
     "execution_count": 69,
     "metadata": {},
     "output_type": "execute_result"
    }
   ],
   "source": [
    "#Pivotando utilizando de sua estrutura\n",
    "def pivot_tridiagonal(mat):\n",
    "    def pivot(mat,row,col):\n",
    "\n",
    "        mat[row] = mat[row].copy()/mat[row,col]\n",
    "        for l in range(row+1,len(mat)):\n",
    "            if mat[l,col]!= 0:\n",
    "                mat[l] = mat[l] - mat[l,col]/mat[row,col] * mat[row]\n",
    "\n",
    "    for r in range(len(mat)):\n",
    "        pivot(mat,r,r)\n",
    "pivot_tridiagonal(mat3)\n",
    "mat3\n"
   ]
  },
  {
   "cell_type": "markdown",
   "metadata": {},
   "source": [
    "# Fatoração LDU"
   ]
  },
  {
   "cell_type": "markdown",
   "metadata": {},
   "source": [
    "Fatora LDU:\n",
    "\n",
    "Fatora Ly = B\n",
    "descobre um vetor y, que substitui o resultado\n",
    "Dz = y\n",
    "\n",
    "encontra um vetor z\n",
    "Ux = z\n",
    "\n",
    "Encontra finalmente x"
   ]
  },
  {
   "cell_type": "markdown",
   "metadata": {},
   "source": [
    "# 5)\n",
    "    Estratégia de pivoteamento parcial\n",
    "    No início de cada eliminação de Gauss, trocando as linhas se necessário,\n",
    "    escolher para o pivô o maior 𝑎𝑖𝑗 da coluna 𝑗 (com 𝑖 ≥ 𝑗)."
   ]
  },
  {
   "cell_type": "code",
   "execution_count": 70,
   "metadata": {},
   "outputs": [],
   "source": [
    "def gauss_pivotparcial(mat,steps=False):\n",
    "\n",
    "    def maiorargpivot(mat,col):\n",
    "        \"\"\"Descobre o maior pivot da coluna atual e retorna seu index, \n",
    "        para realizar a permutação\n",
    "\n",
    "        Args:\n",
    "            mat ([np.ndarray]): [numpy matrix]\n",
    "            col ([int]): [column index]\n",
    "        \n",
    "        Returns:\n",
    "            Maior index da coluna\n",
    "        \"\"\"\n",
    "        ordenada=np.sort(np.abs(mat[:,col]))[::-1]\n",
    "\n",
    "        for i,c in enumerate(ordenada):\n",
    "            if np.where(np.abs(mat[:,col])==abs(c))[0][0]>=col: #Caso o maior valor esteja em posição válida para se tornar o novo pivot\n",
    "                return(np.where(np.abs(mat[:,col])==abs(c))[0][0]) #Retorna a posição\n",
    "\n",
    "\n",
    "    def pivotparcial(mat:np.array,row=0,col=0): \n",
    "\n",
    "        maior = maiorargpivot(mat,col) #Encontra o maior elemento da linha\n",
    "\n",
    "        if row<maior:\n",
    "            mat[row],mat[maior] = mat[maior].copy(),mat[row].copy()\n",
    "\n",
    "        mat[row] = mat[row]/mat[row,col]\n",
    "        for l in range(row+1,len(mat)):\n",
    "            if mat[l,col]!= 0:\n",
    "                mat[l] = mat[l] - mat[l,col]/mat[row,col] * mat[row]\n",
    "    \n",
    "    for c in range(len(mat)-1):\n",
    "        pivotparcial(mat,c,c)\n",
    "        if steps:\n",
    "            print(mat)\n",
    "    print(mat)\n",
    "    "
   ]
  },
  {
   "cell_type": "code",
   "execution_count": 71,
   "metadata": {},
   "outputs": [
    {
     "name": "stdout",
     "output_type": "stream",
     "text": [
      "[[ 0.  1.  2.  3.  4.]\n",
      " [ 2.  0.  1. -1.  0.]\n",
      " [ 3. -2.  0.  1.  2.]\n",
      " [ 0.  1. -2.  0.  2.]\n",
      " [ 1.  3. -2.  1.  0.]]\n",
      "[[ 1.         -0.6666667   0.          0.33333334  0.6666667 ]\n",
      " [ 0.          1.         -0.54545456  0.18181817 -0.18181819]\n",
      " [ 0.          0.          1.          1.1071428   1.6428571 ]\n",
      " [-0.         -0.         -0.          1.          1.0280373 ]\n",
      " [ 0.          0.          0.          0.          3.1028037 ]]\n"
     ]
    },
    {
     "data": {
      "text/plain": [
       "array([-1.26328711, -0.32866537,  0.05206533, -0.31325281,  3.2228916 ])"
      ]
     },
     "execution_count": 71,
     "metadata": {},
     "output_type": "execute_result"
    }
   ],
   "source": [
    "matriz5 = np.array([0,1,2,3,4,\n",
    "                    2,0,1,-1,0,\n",
    "                    3,-2,0,1,2,\n",
    "                    0,1,-2,0,2,\n",
    "                    1,3,-2,1,0\n",
    "                    ],dtype=np.float32).reshape(5,5)\n",
    "print(matriz5)\n",
    "res5 = np.array([1,-1,5,3,10])\n",
    "\n",
    "gauss_pivotparcial(matriz5)#,steps=True)\n",
    "np.linalg.solve(matriz5,res5)\n"
   ]
  },
  {
   "cell_type": "markdown",
   "metadata": {},
   "source": [
    "# Fatoração LU\n",
    "# 6)"
   ]
  },
  {
   "cell_type": "code",
   "execution_count": 72,
   "metadata": {},
   "outputs": [],
   "source": [
    "def fatoraLU(A):  \n",
    "    U = np.copy(A) \n",
    "    n = np.shape(U)[0] #nº de Linhas da matriz\n",
    "    L = np.eye(n) #Identidade\n",
    "    cont = 0 \n",
    "    for j in np.arange(n-1): #Pelas colunas\n",
    "        for i in np.arange(j+1,n):  #Pelas linhas\n",
    "\n",
    "            L[i,j] = U[i,j]/U[j,j] #representa o m # no L são salvos os multiplicadores da posição pelo pivot\n",
    "            U[i] = U[i] - L[i,j]*U[j]\n",
    "\n",
    "    return L, U\n",
    "\n",
    "\n",
    "\n"
   ]
  },
  {
   "cell_type": "code",
   "execution_count": 73,
   "metadata": {},
   "outputs": [
    {
     "name": "stdout",
     "output_type": "stream",
     "text": [
      "L:\n",
      "[[1.    0.    0.    0.   ]\n",
      " [0.5   1.    0.    0.   ]\n",
      " [1.5   0.5   1.    0.   ]\n",
      " [2.    0.5   0.143 1.   ]]\n",
      "U\n",
      "[[ 2.     2.     1.     1.   ]\n",
      " [ 0.    -2.     1.5   -1.5  ]\n",
      " [ 0.     0.    -5.25  -2.75 ]\n",
      " [ 0.     0.     0.     0.143]]\n",
      "A=LU\n",
      "[[ 2.  2.  1.  1.]\n",
      " [ 1. -1.  2. -1.]\n",
      " [ 3.  2. -3. -2.]\n",
      " [ 4.  3.  2.  1.]]\n"
     ]
    }
   ],
   "source": [
    "#Analisa a questão 2 por LU\n",
    "#Recria a matriz do exercício\n",
    "mat = np.array([2,2,1,1,\n",
    "                1,-1,2,-1,\n",
    "                3,2,-3,-2,\n",
    "                4,3,2,1],dtype='float32').reshape(4,4)\n",
    "\n",
    "l,u = fatoraLU(mat)\n",
    "print(\"L:\")\n",
    "print(np.around(l,3))\n",
    "print(\"U\")\n",
    "print(np.around(u,3))\n",
    "\n",
    "#Prova real\n",
    "print(\"A=LU\")\n",
    "print(np.around(l@u,3))\n"
   ]
  },
  {
   "cell_type": "markdown",
   "metadata": {},
   "source": [
    "# 8)"
   ]
  },
  {
   "cell_type": "code",
   "execution_count": 74,
   "metadata": {},
   "outputs": [],
   "source": [
    "mat8 = np.array([2,4,0,4,6,3,-6,-10,0]).reshape(3,3)\n",
    "l,u = fatoraLU(mat8)\n"
   ]
  },
  {
   "cell_type": "code",
   "execution_count": 75,
   "metadata": {},
   "outputs": [
    {
     "name": "stdout",
     "output_type": "stream",
     "text": [
      "l:\n",
      " [[ 1.  0.  0.]\n",
      " [ 2.  1.  0.]\n",
      " [-3. -1.  1.]]\n",
      "u:\n",
      " [[ 2  4  0]\n",
      " [ 0 -2  3]\n",
      " [ 0  0  3]]\n"
     ]
    }
   ],
   "source": [
    "#i)\n",
    "resulti = np.array([2,1,-6])\n",
    "\n",
    "#ii)\n",
    "resultii = np.array([1]*3)\n",
    "\n",
    "#iii) \n",
    "resultiii = np.array([2,2,0])\n",
    "\n",
    "#iv)\n",
    "resultiv = np.array([1,2,3])\n",
    "\n",
    "print('l:\\n',l)\n",
    "print('u:\\n',u)"
   ]
  },
  {
   "cell_type": "markdown",
   "metadata": {},
   "source": [
    "# Gauss - Jacobi\n",
    "\n",
    "    Transformar Ax = b em x = Cx + g\n",
    "    x**(k+1) = Cx**(k) + g\n",
    "\n",
    "    - Transforma A em uma matriz Diagonal + Matriz Diagonal nula\n",
    "    - Manipular\n",
    "\n",
    "https://prnt.sc/26i6nc6 Cálculos\n",
    "\n",
    "https://prnt.sc/26i6nvb Resumo\n",
    "\n"
   ]
  },
  {
   "cell_type": "code",
   "execution_count": 76,
   "metadata": {},
   "outputs": [
    {
     "name": "stdout",
     "output_type": "stream",
     "text": [
      "[ 0.94 -1.86  0.91]\n",
      "[ 0.981 -1.97   0.97 ]\n",
      "[ 0.997  -1.9902  0.9948]\n",
      "[ 0.99856 -1.99836  0.99766]\n",
      "[ 0.999906 -1.999244  0.999796]\n",
      "[ 0.9998692 -1.9999404  0.999792 ]\n",
      "[ 1.00000888 -1.99993224  1.00000828]\n",
      "[ 0.99998562 -2.00000343  0.9999779 ]\n"
     ]
    },
    {
     "data": {
      "text/plain": [
       "array([ 0.99998562, -2.00000343,  0.9999779 ])"
      ]
     },
     "execution_count": 76,
     "metadata": {},
     "output_type": "execute_result"
    }
   ],
   "source": [
    "def jacobi(A,x:np.ndarray,b:np.ndarray,precisao:float,xlist=None):\n",
    "    \"\"\"Realiza o método iterativo de Gauss-Jacobi para aproximar o valor de x uma vez\n",
    "\n",
    "    Args:\n",
    "        A (np.matrix): Original coef matrix of Ax = b\n",
    "        x (np.ndarray): Initial guess of the values that satisfies the linear system\n",
    "        b (np.ndarray): Vector of results from the linear system\n",
    "    \"\"\"\n",
    "\n",
    "    def maiorargpivot(mat,col):\n",
    "\n",
    "        \"\"\"Descobre o maior pivot da coluna atual e retorna seu index, \n",
    "        para realizar a permutação\n",
    "\n",
    "        Args:\n",
    "            mat ([np.ndarray]): [numpy matrix]\n",
    "            col ([int]): [column index]\n",
    "        \n",
    "        Returns:\n",
    "            Maior index da coluna\n",
    "        \"\"\"\n",
    "        ordenada=np.sort(np.abs(mat[:,col]))[::-1]\n",
    "\n",
    "        for i,c in enumerate(ordenada):\n",
    "            if np.where(np.abs(mat[:,col])==abs(c))[0][0]>=col: #Caso o maior valor esteja em posição válida para se tornar o novo pivot\n",
    "                return(np.where(np.abs(mat[:,col])==abs(c))[0][0]) #Retorna a posição\n",
    "    \n",
    "    if xlist is None:\n",
    "        xlist = []\n",
    "    if len(xlist)>1 and max(abs(xlist[-1] - xlist[-2]))<precisao: #Critério de parada\n",
    "        return x\n",
    "    \n",
    "    # Organiza a matriz de forma a satisfazer o critério de convergência da melhor forma\n",
    "    for ind,l in enumerate(A):\n",
    "        maior_da_coluna = maiorargpivot(A,ind)\n",
    "        if maior_da_coluna!= ind:\n",
    "            A[ind],A[maior_da_coluna] = A[maior_da_coluna].copy(),l.copy()\n",
    "\n",
    "    \n",
    "    # diagflat cria uma matriz com apenas a diagonal definida, restante 0. np.diagonal obtém um vetor que representa a diagonal da Matriz\n",
    "    \n",
    "    D = np.diagflat(np.diagonal(A)) #Matriz Diagonal com restante 0\n",
    "    M = A - D #Matriz com a diagonal zerada\n",
    "    Dinv = np.diagflat(1/np.diagonal(A)) #np.linalg.inv(D)\n",
    "    C = -(Dinv@M)\n",
    "    g = (Dinv@b)\n",
    "    x = C@x + g #Próximo x\n",
    "\n",
    "    print(x)\n",
    "    xlist.append(x)\n",
    "    \n",
    "    return jacobi(A,x,b,precisao,xlist) #Recursão\n",
    "\n",
    "\n",
    "exemplejacobi = np.array([10,2,1,1,5,1,2,3,10]).reshape(3,3)\n",
    "res = np.array([7,-8,6])\n",
    "jacobi(exemplejacobi,np.array([.7,-1.5,.6]),res,.0001)\n"
   ]
  },
  {
   "cell_type": "markdown",
   "metadata": {},
   "source": [
    "# Gauss - Seidel"
   ]
  },
  {
   "cell_type": "code",
   "execution_count": 77,
   "metadata": {},
   "outputs": [
    {
     "name": "stdout",
     "output_type": "stream",
     "text": [
      "[ 0.7 -1.5  0.6]\n",
      "[ 0.94   -1.908   0.9844]\n"
     ]
    },
    {
     "data": {
      "text/plain": [
       "array([ 0.98316  , -1.993512 ,  1.0014216])"
      ]
     },
     "execution_count": 77,
     "metadata": {},
     "output_type": "execute_result"
    }
   ],
   "source": [
    "def seidel(A,x:np.ndarray,b:np.ndarray,precisao:float,xlist=None):\n",
    "    \"\"\"Realiza o método iterativo de Gauss-Jacobi para aproximar o valor de x uma vez\n",
    "\n",
    "    Args:\n",
    "        A (np.matrix): Original coef matrix of Ax = b\n",
    "        x (np.ndarray): Initial guess of the values that satisfies the linear system\n",
    "        b (np.ndarray): Vector of results from the linear system\n",
    "    \"\"\"\n",
    "    \n",
    "    def maiorargpivot(mat,col):\n",
    "\n",
    "        \"\"\"Descobre o maior pivot da coluna atual e retorna seu index, \n",
    "        para realizar a permutação\n",
    "\n",
    "        Args:\n",
    "            mat ([np.ndarray]): [numpy matrix]\n",
    "            col ([int]): [column index]\n",
    "        \n",
    "        Returns:\n",
    "            Maior index da coluna\n",
    "        \"\"\"\n",
    "        ordenada=np.sort(np.abs(mat[:,col]))[::-1]\n",
    "\n",
    "        for i,c in enumerate(ordenada):\n",
    "            if np.where(np.abs(mat[:,col])==abs(c))[0][0]>=col: #Caso o maior valor esteja em posição válida para se tornar o novo pivot\n",
    "                return(np.where(np.abs(mat[:,col])==abs(c))[0][0]) #Retorna a posição\n",
    "    # Organiza a matriz de forma a satisfazer o critério de convergência da melhor forma\n",
    "    \n",
    "    if xlist is None:\n",
    "        xlist = []\n",
    "\n",
    "    for ind,l in enumerate(A):\n",
    "        maior_da_coluna = maiorargpivot(A,ind)\n",
    "        if maior_da_coluna!= ind:\n",
    "            A[ind],A[maior_da_coluna] = A[maior_da_coluna].copy(),l.copy()\n",
    "\n",
    "    if len(xlist)>1 and max(np.abs(xlist[-1] - xlist[-2]))<precisao: #Critério de parada\n",
    "        return xlist[-1]\n",
    "\n",
    "    # diagflat cria uma matriz com apenas a diagonal definida, restante 0. np.diagonal obtém um vetor que representa a diagonal da Matriz\n",
    "    D = np.diagflat(np.diagonal(A)) #Matriz Diagonal com restante 0\n",
    "    M = A - D # Matriz com a diagonal zerada\n",
    "    Dinv = np.diagflat(1/np.diagonal(A))\n",
    "    C = -(Dinv@M) # @ Representa uma multiplicação de matrizes, equivale a np.matmul (https://numpy.org/doc/stable/reference/generated/numpy.matmul.html)\n",
    "    g = (Dinv@b)\n",
    "\n",
    "    print(x)\n",
    "\n",
    "    #Iteração \n",
    "    for n in range(len(x)):\n",
    "        #Para cada iteração, utiliza o valor ja calculado, que foi salvo em x\n",
    "        x[n] = (Dinv[n,n]*(b[n]-sum(M[n]*x)))\n",
    "        \n",
    "    xlist.append(x)\n",
    "\n",
    "\n",
    "    return seidel(A,x,b,precisao,xlist) #Recursão\n",
    "\n",
    "\n",
    "exempleseidel = np.array([10,2,1,1,5,1,2,3,10],dtype = 'float').reshape(3,3)\n",
    "res = np.array([7,-8,6],dtype='float')\n",
    "seidel(exempleseidel,np.array([.7,-1.5,.6],dtype='float'),res,.001)\n",
    "\n"
   ]
  },
  {
   "cell_type": "markdown",
   "metadata": {},
   "source": [
    "# 10)"
   ]
  },
  {
   "cell_type": "code",
   "execution_count": 78,
   "metadata": {},
   "outputs": [
    {
     "name": "stdout",
     "output_type": "stream",
     "text": [
      "[0. 0. 0.]\n",
      "[1.2   1.08  0.972]\n"
     ]
    },
    {
     "data": {
      "text/plain": [
       "array([0.9948  , 1.00332 , 1.000188])"
      ]
     },
     "execution_count": 78,
     "metadata": {},
     "output_type": "execute_result"
    }
   ],
   "source": [
    "mat10i = np.array([10,1,1,1,10,1,1,1,10]).reshape(3,3)\n",
    "res10i = np.array([12]*3)\n",
    "seidel(mat10i,np.zeros(3),res10i,.0001)"
   ]
  },
  {
   "cell_type": "code",
   "execution_count": 79,
   "metadata": {},
   "outputs": [
    {
     "name": "stdout",
     "output_type": "stream",
     "text": [
      "[0.4 0.4 0.4 0.4]\n",
      "[0.35       0.4375     0.459375   0.36484375]\n",
      "[0.359375   0.4546875  0.45488281 0.3637207 ]\n"
     ]
    }
   ],
   "source": [
    "mat10ii = np.array([4,-1,0,0,-1,4,-1,0,0,-1,4,-1,0,0,-1,4]).reshape(4,4)\n",
    "res10ii = np.ones(4)\n",
    "print(seidel(mat10ii,np.array([.4,.4,.4,.4]),res10ii,.0001))"
   ]
  },
  {
   "cell_type": "markdown",
   "metadata": {},
   "source": [
    "# 11)"
   ]
  },
  {
   "cell_type": "code",
   "execution_count": 80,
   "metadata": {},
   "outputs": [
    {
     "name": "stdout",
     "output_type": "stream",
     "text": [
      "[ 0.26666667 -0.96000001]\n",
      "[ 0.9866667  -0.70666668]\n",
      "[ 0.90222225 -0.9946667 ]\n",
      "[ 0.99822226 -0.96088892]\n",
      "[ 0.986963   -0.99928892]\n",
      "[ 0.999763   -0.99478522]\n",
      "[ 0.99826177 -0.99990522]\n",
      "[ 0.99996844 -0.99930472]\n",
      "[ 0.99976827 -0.99998739]\n",
      "[ 0.99999583 -0.99990732]\n",
      "[ 0.99996914 -0.99999835]\n",
      "[ 0.99999948 -0.99998767]\n",
      "[ 0.99999592 -0.99999981]\n",
      "[ 0.99999997 -0.99999838]\n",
      "[ 0.99999997 -0.99999838]\n"
     ]
    },
    {
     "data": {
      "text/plain": [
       "array([ 1., -1.])"
      ]
     },
     "execution_count": 80,
     "metadata": {},
     "output_type": "execute_result"
    }
   ],
   "source": [
    "mat11 = np.array([3,1,2,5],dtype=np.float32).reshape(2,2)\n",
    "res11 = np.array([2,-3])\n",
    "\n",
    "print(jacobi(mat11,np.array([0.9,1.2]),res11,10**-5))\n",
    "np.linalg.solve(mat11,res11)"
   ]
  },
  {
   "cell_type": "markdown",
   "metadata": {},
   "source": [
    "# 12)"
   ]
  },
  {
   "cell_type": "code",
   "execution_count": 81,
   "metadata": {},
   "outputs": [
    {
     "name": "stdout",
     "output_type": "stream",
     "text": [
      "[113.49999858 100.         100.          96.15384936]\n",
      "[113.49999858 106.74999929  98.07692468  96.15384936]\n",
      "[116.87499823 105.78846163 101.45192433  94.30473842]\n",
      "[116.3942294  109.16346128 100.04660002  97.54993049]\n",
      "[118.08172922 108.22041471 103.35669588  96.19865708]\n",
      "[117.61020594 110.71921255 102.2095359   99.38144167]\n",
      "[118.85960486 109.90987092 105.05032711  98.27840318]\n",
      "[118.45493404 111.95496598 104.09413705 101.00993328]\n",
      "[119.47748157 111.27453554 106.48244963 100.09051973]\n",
      "[119.13726635 112.9799656  105.68252764 102.38697422]\n",
      "[119.98998138 112.409897   107.68346991 101.61781843]\n",
      "[119.70494708 113.83672565 107.01385771 103.54180145]\n",
      "[120.4183614  113.3594024  108.68926355 102.89794354]\n",
      "[120.17969978 114.55381248 108.12867297 104.50891075]\n",
      "[120.77690482 114.15418637 109.53136161 103.96988132]\n",
      "[120.57709177 115.15413321 109.06203385 105.31862045]\n",
      "[121.07706519 114.81956281 110.23637683 104.86734374]\n",
      "[120.90977998 115.65672101 109.84345327 105.99651972]\n",
      "[121.32835909 115.37661663 110.82662037 105.6187086 ]\n",
      "[121.1883069  116.07748973 110.49766261 106.5640616 ]\n",
      "[121.53874344 115.84298475 111.32077566 106.24775606]\n",
      "[121.42149096 116.42975955 111.04537041 107.03921094]\n",
      "[121.71487836 116.23343068 111.73448525 106.77439819]\n",
      "[121.61671392 116.7246818  111.50391443 107.43700863]\n",
      "[121.86233948 116.56031418 112.08084522 107.21530592]\n",
      "[121.78015567 116.97159235 111.88781005 107.77004708]\n",
      "[121.98579476 116.83398286 112.37081971 107.58443633]\n",
      "[121.91699001 117.17830723 112.20920959 108.04886871]\n",
      "[122.0891522  117.0630998  112.61358797 107.89347437]\n",
      "[122.03154848 117.35137009 112.47828708 108.28229974]\n",
      "[122.17568362 117.25491778 112.81683491 108.15220273]\n",
      "[122.12745747 117.49625927 112.70356026 108.4777295 ]\n",
      "[122.24812822 117.41550886 112.98699438 108.36881156]\n",
      "[122.20775301 117.6175613  112.89216021 108.64134438]\n",
      "[122.30877923 117.54995661 113.12945284 108.55015767]\n",
      "[122.27497689 117.71911604 113.05005714 108.77832367]\n",
      "[122.3595566  117.66251701 113.24871985 108.70198165]\n",
      "[122.33125709 117.80413823 113.18224933 108.89300349]\n",
      "[122.40206769 117.75675321 113.34857086 108.82908953]\n",
      "[122.37837519 117.87531928 113.29292137 108.98901408]\n",
      "[122.43765822 117.83564828 113.43216668 108.93550495]\n",
      "[122.41782272 117.93491245 113.38557661 109.06939468]\n",
      "[122.4674548  117.90169967 113.50215356 109.02459654]\n",
      "[122.45084841 117.98480418 113.4631481  109.13668976]\n",
      "[122.49240067 117.95699826 113.56074697 109.09918451]\n",
      "[122.47849771 118.02657382 113.52809138 109.19302958]\n",
      "[122.51328549 118.00329455 113.6098017  109.16162997]\n",
      "[122.50164585 118.0615436  113.58246226 109.24019759]\n",
      "[122.53077038 118.04205406 113.65087059 109.21390967]\n",
      "[122.52102561 118.09082049 113.62798186 109.27968691]\n",
      "[122.54540882 118.07450374 113.6852537  109.25767851]\n",
      "[122.53725045 118.11533126 113.66609112 109.31274759]\n",
      "[122.55766421 118.10167079 113.71403942 109.29432204]\n",
      "[122.55083397 118.13585182 113.69799641 109.34042617]\n",
      "[122.56792449 118.12441519 113.738139   109.3250002 ]\n",
      "[122.56220618 118.15303174 113.7247077  109.36359884]\n",
      "[122.57651445 118.14345694 113.75831529 109.35068413]\n",
      "[122.57172705 118.16741487 113.74707053 109.38299912]\n",
      "[122.58370602 118.15939879 113.775207   109.37218685]\n",
      "[122.57969798 118.17945651 113.76579282 109.39924115]\n",
      "[122.58972683 118.1727454  113.78934883 109.39018906]\n",
      "[122.58637128 118.18953783 113.78146723 109.41283906]\n",
      "[122.5947675  118.18391925 113.80118845 109.4052606 ]\n",
      "[122.59195821 118.19797797 113.79458993 109.42422331]\n",
      "[122.59898757 118.19327407 113.81110064 109.41787858]\n",
      "[122.59663561 118.2050441  113.80557633 109.43375427]\n",
      "[122.60252063 118.20110597 113.81939919 109.42844243]\n",
      "[122.60055157 118.21095991 113.8147742  109.44173364]\n",
      "[122.60547854 118.20766288 113.82634678 109.43728654]\n",
      "[122.60383002 118.21591266 113.82247471 109.44841401]\n",
      "[122.60795491 118.21315237 113.83216333 109.44469087]\n",
      "[122.60657476 118.22005912 113.82892162 109.45400686]\n",
      "[122.61002814 118.21774819 113.83703299 109.45088983]\n",
      "[122.60887268 118.22353057 113.83431901 109.45868922]\n",
      "[122.61176386 118.22159584 113.84110989 109.45607962]\n",
      "[122.6107965  118.22643688 113.83883773 109.46260932]\n",
      "[122.61321702 118.22481712 113.8445231  109.46042455]\n",
      "[122.61240714 118.22887006 113.84262083 109.46589125]\n",
      "[122.61443361 118.22751399 113.84738065 109.46406215]\n",
      "[122.61375557 118.23090713 113.84578807 109.4686389 ]\n",
      "[122.61545215 118.22977182 113.84977302 109.46710756]\n",
      "[122.61488449 118.23261258 113.84843969 109.47093925]\n",
      "[122.61630487 118.23166209 113.85177591 109.4696572 ]\n",
      "[122.61582963 118.23404039 113.85065965 109.47286511]\n",
      "[122.61701878 118.23324464 113.85345275 109.47179178]\n",
      "[122.6166209  118.23523576 113.85251821 109.47447745]\n",
      "[122.61761646 118.23456955 113.85485661 109.47357885]\n",
      "[122.61728336 118.23623654 113.8540742  109.47582732]\n",
      "[122.61811685 118.23567878 113.85603193 109.475075  ]\n",
      "[122.61783797 118.23707439 113.85537689 109.47695743]\n",
      "[122.61853577 118.23660743 113.85701591 109.47632759]\n",
      "[122.6183023  118.23777584 113.85646751 109.47790357]\n",
      "[122.6188865  118.2373849  113.8578397  109.47737626]\n",
      "[122.61869103 118.2383631  113.85738058 109.47869568]\n",
      "[122.61918013 118.23803581 113.85852939 109.47825421]\n",
      "[122.61901648 118.23885476 113.85814501 109.47935884]\n",
      "[122.61942596 118.23858075 113.8591068  109.47898924]\n"
     ]
    },
    {
     "data": {
      "text/plain": [
       "array([122.61942596, 118.23858075, 113.8591068 , 109.47898924])"
      ]
     },
     "execution_count": 81,
     "metadata": {},
     "output_type": "execute_result"
    }
   ],
   "source": [
    "lkc = np.array([100,-50,0,0,\n",
    "-50,100,-50,0,\n",
    "0,-50,100,-50,\n",
    "0,0,-50,52],dtype=np.float32).reshape(4,4)\n",
    "\n",
    "chute = np.array([100]*4)\n",
    "b = np.array([127*50,0,0,0]) \n",
    "\n",
    "jacobi(lkc,chute,b,precisao =.001)\n",
    "\n"
   ]
  },
  {
   "cell_type": "markdown",
   "metadata": {},
   "source": [
    "# 13)"
   ]
  },
  {
   "cell_type": "code",
   "execution_count": 82,
   "metadata": {},
   "outputs": [
    {
     "name": "stdout",
     "output_type": "stream",
     "text": [
      "[ 3.  1.  0. -1.]\n",
      "[1.75     1.3125   0.875    1.234375]\n",
      "[0.89453125 0.92871094 0.99726564 0.95512694]\n"
     ]
    }
   ],
   "source": [
    "mat13 = np.array([4,1,1,1,\n",
    "                2,-8,1,-1,\n",
    "                1,2,-5,1,\n",
    "                1,1,1,-4],dtype='float32').reshape(4,4)\n",
    "\n",
    "b13 = np.array([7,-6,-1,-1],dtype='float32')\n",
    "print(seidel(mat13,x=np.array([3,1,0,-1],dtype='float32'),b=b13,precisao=10**-4))"
   ]
  },
  {
   "cell_type": "markdown",
   "metadata": {},
   "source": [
    "# 14)"
   ]
  },
  {
   "cell_type": "code",
   "execution_count": 83,
   "metadata": {},
   "outputs": [
    {
     "name": "stdout",
     "output_type": "stream",
     "text": [
      "[2.00000003 1.44444446 3.42857163 3.00000005]\n",
      "[0.51746026 2.47619056 2.47619063 4.43968269]\n",
      "[1.39269842 1.6835979  3.32970548 3.6511112 ]\n",
      "[0.73505964 2.2213304  2.76471674 4.24073184]\n",
      "[1.18652577 1.84401817 3.16363658 3.83216095]\n",
      "[0.8697812  2.10841562 2.88519679 4.11759258]\n",
      "[1.09112294 1.92393768 3.08006188 3.91783223]\n",
      "[0.93632924 2.05308157 2.94392552 4.0574557 ]\n",
      "[1.04453726 1.96284721 3.03916532 3.95982727]\n",
      "[0.96886878 2.02596111 2.97259961 4.02808769]\n",
      "[1.02176993 1.98184218 3.01915141 3.9803615 ]\n",
      "[0.98478019 2.01269318 2.98660724 4.01373105]\n",
      "[1.01064197 1.99112418 3.00936326 3.99039966]\n",
      "[0.99255948 2.0062055  2.99345329 4.00671262]\n",
      "[1.00520232 1.99566114 3.00457756 3.99530686]\n",
      "[0.99636259 2.00303369 2.99679976 4.00328159]\n",
      "[1.00254317 1.99787896 3.00223791 3.99770579]\n",
      "[0.9982218  2.00148308 2.99843566 4.0016043 ]\n",
      "[1.00124323 1.99896315 3.00109414 3.99887852]\n",
      "[0.99913069 2.00072505 2.99923538 4.00078434]\n",
      "[1.00060774 1.99949316 3.000535   3.99945182]\n",
      "[0.99957501 2.00035448 2.99962632 4.0003835 ]\n",
      "[1.00029708 1.99975226 3.00026165 3.99973209]\n"
     ]
    },
    {
     "data": {
      "text/plain": [
       "array([1.00029708, 1.99975226, 3.00026165, 3.99973209])"
      ]
     },
     "execution_count": 83,
     "metadata": {},
     "output_type": "execute_result"
    }
   ],
   "source": [
    "mat14 = np.array([5,-1,2,-1,1,9,-3,4,0,3,-7,2,-2,2,-3,10],dtype='float32').reshape(4,4)\n",
    "b14= np.array([5,26,-7,33])\n",
    "x14=np.array([0,3,1,4])\n",
    "jacobi(mat14,x=x14,b=b14,precisao = 10**-3)"
   ]
  }
 ],
 "metadata": {
  "interpreter": {
   "hash": "9c464d06a4b2d4767f115b1ab41e495990683f3b61f9428babbb6293818e2cac"
  },
  "kernelspec": {
   "display_name": "Python 3.10.0 64-bit",
   "language": "python",
   "name": "python3"
  },
  "language_info": {
   "codemirror_mode": {
    "name": "ipython",
    "version": 3
   },
   "file_extension": ".py",
   "mimetype": "text/x-python",
   "name": "python",
   "nbconvert_exporter": "python",
   "pygments_lexer": "ipython3",
   "version": "3.10.0"
  },
  "orig_nbformat": 4
 },
 "nbformat": 4,
 "nbformat_minor": 2
}
