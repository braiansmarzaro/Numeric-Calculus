{
 "cells": [
  {
   "cell_type": "markdown",
   "metadata": {},
   "source": [
    "# Imports Base"
   ]
  },
  {
   "cell_type": "code",
   "execution_count": 45,
   "metadata": {},
   "outputs": [],
   "source": [
    "import numpy as np\n",
    "from fractions import Fraction\n",
    "import sympy as sy\n"
   ]
  },
  {
   "cell_type": "markdown",
   "metadata": {},
   "source": [
    "# 1)"
   ]
  },
  {
   "cell_type": "code",
   "execution_count": 46,
   "metadata": {},
   "outputs": [],
   "source": [
    "#Realiza o método de eliminação de gauss iterativamente. Considera que não há zeros na diagonal principal\n",
    "def pivotamento(mat):\n",
    "    def pivot(mat,col=0,row=0):\n",
    "\n",
    "        #Elimina a chance do elemento divisor ser 0\n",
    "        r=1        \n",
    "        while mat[row,col] == 0:\n",
    "            mat[:,col],mat[:,col+r] = mat[:,col+r].copy(),mat[:,col].copy()\n",
    "            r+=1\n",
    "        mat[row] = mat[row]/mat[row,col]\n",
    "\n",
    "        for l in range(row+1,len(mat)):\n",
    "            mat[l] = mat[l] - mat[l,col]/mat[row,col] * mat[row]\n",
    "            \n",
    "    for r in range(len(mat)):\n",
    "        pivot(mat,r,r)\n",
    "        print('\\n',mat)\n",
    "\n",
    "#Algoritmo utilizado na questão 2\n"
   ]
  },
  {
   "cell_type": "markdown",
   "metadata": {},
   "source": [
    "# 2)"
   ]
  },
  {
   "cell_type": "code",
   "execution_count": 47,
   "metadata": {},
   "outputs": [
    {
     "data": {
      "text/plain": [
       "array([[ 2.,  2.,  1.,  1.,  7.],\n",
       "       [ 1., -1.,  2., -1.,  1.],\n",
       "       [ 3.,  2., -3., -2.,  4.],\n",
       "       [ 4.,  3.,  2.,  1., 12.]], dtype=float32)"
      ]
     },
     "execution_count": 47,
     "metadata": {},
     "output_type": "execute_result"
    }
   ],
   "source": [
    "#Cria a matriz do exercício\n",
    "mat = np.array([2,2,1,1,7,\n",
    "                1,-1,2,-1,1,\n",
    "                3,2,-3,-2,4,\n",
    "                4,3,2,1,12],dtype=np.float32).reshape(4,5)\n",
    "mat"
   ]
  },
  {
   "cell_type": "code",
   "execution_count": 48,
   "metadata": {},
   "outputs": [
    {
     "name": "stdout",
     "output_type": "stream",
     "text": [
      "\n",
      " [[ 1.   1.   0.5  0.5  3.5]\n",
      " [ 0.  -2.   1.5 -1.5 -2.5]\n",
      " [ 0.  -1.  -4.5 -3.5 -6.5]\n",
      " [ 0.  -1.   0.  -1.  -2. ]]\n",
      "\n",
      " [[ 1.    1.    0.5   0.5   3.5 ]\n",
      " [-0.    1.   -0.75  0.75  1.25]\n",
      " [ 0.    0.   -5.25 -2.75 -5.25]\n",
      " [ 0.    0.   -0.75 -0.25 -0.75]]\n",
      "\n",
      " [[ 1.          1.          0.5         0.5         3.5       ]\n",
      " [-0.          1.         -0.75        0.75        1.25      ]\n",
      " [-0.         -0.          1.          0.52380955  1.        ]\n",
      " [ 0.          0.          0.          0.14285716  0.        ]]\n",
      "\n",
      " [[ 1.          1.          0.5         0.5         3.5       ]\n",
      " [-0.          1.         -0.75        0.75        1.25      ]\n",
      " [-0.         -0.          1.          0.52380955  1.        ]\n",
      " [ 0.          0.          0.          1.          0.        ]]\n"
     ]
    }
   ],
   "source": [
    "pivotamento(mat)"
   ]
  },
  {
   "cell_type": "markdown",
   "metadata": {},
   "source": [
    "# 5)\n",
    "    Estratégia de pivoteamento parcial\n",
    "    No início de cada eliminação de Gauss, trocando as linhas se necessário,\n",
    "    escolher para o pivô o maior 𝑎𝑖𝑗 da coluna 𝑗 (com 𝑖 ≥ 𝑗)."
   ]
  },
  {
   "cell_type": "code",
   "execution_count": 64,
   "metadata": {},
   "outputs": [
    {
     "name": "stdout",
     "output_type": "stream",
     "text": [
      "[[ 6.  8. 10.]\n",
      " [ 2.  4.  6.]]\n",
      "[[1.        1.3333334 1.6666666]\n",
      " [2.        4.        6.       ]]\n"
     ]
    },
    {
     "data": {
      "text/plain": [
       "array([[1.       , 1.3333334, 1.6666666],\n",
       "       [0.       , 1.3333333, 2.6666667]], dtype=float32)"
      ]
     },
     "execution_count": 64,
     "metadata": {},
     "output_type": "execute_result"
    }
   ],
   "source": [
    "def gauss_pivotparcial(mat):\n",
    "    def pivotparcial(mat:np.array,row=0,col=0):\n",
    "\n",
    "        maior = np.argmax(mat[row:,col]) #Encontra a linha com o maior pivot na coluna especificada\n",
    "        mat[col],mat[maior] = mat[maior].copy(),mat[col].copy()\n",
    "        print(mat)\n",
    "        '''   r=1\n",
    "            while mat[row,col] == 0:\n",
    "                mat[:,col],mat[:,col+r] = mat[:,col+r].copy(),mat[:,col].copy()\n",
    "                r+=1'''\n",
    "        mat[row] = mat[row]/mat[row,col]\n",
    "        print(mat)\n",
    "        for l in range(row+1,len(mat)):\n",
    "            mat[l] = mat[l] - mat[l,col]/mat[row,col] * mat[row]\n",
    "    \n",
    "    for c in range(len(mat)):\n",
    "        pivotparcial(mat,c,c)\n",
    "matriz = np.array([(2,4,6),(6,8,10)],dtype=np.float32)\n",
    "gauss_pivotparcial(matriz)\n",
    "matriz"
   ]
  },
  {
   "cell_type": "markdown",
   "metadata": {},
   "source": [
    "# Fatoração LU"
   ]
  },
  {
   "cell_type": "code",
   "execution_count": null,
   "metadata": {},
   "outputs": [],
   "source": [
    "def fatoraLU(A):  \n",
    "    U = np.copy(A)  \n",
    "    n = np.shape(U)[0]  \n",
    "    L = np.eye(n)  \n",
    "    for j in np.arange(n-1):  \n",
    "        for i in np.arange(j+1,n):  \n",
    "            L[i,j] = U[i,j]/U[j,j]  \n",
    "            for k in np.arange(j+1,n):  \n",
    "                U[i,k] = U[i,k] - L[i,j]*U[j,k]  \n",
    "            U[i,j] = 0  \n",
    "    return L, U"
   ]
  },
  {
   "cell_type": "markdown",
   "metadata": {},
   "source": [
    "# 8)"
   ]
  },
  {
   "cell_type": "code",
   "execution_count": null,
   "metadata": {},
   "outputs": [],
   "source": [
    "mat8 = np.array([2,4,0,4,6,3,-6,-10,0]).reshape(3,3)\n",
    "l,u = fatoraLU(mat8)"
   ]
  },
  {
   "cell_type": "code",
   "execution_count": null,
   "metadata": {},
   "outputs": [
    {
     "name": "stdout",
     "output_type": "stream",
     "text": [
      "[[ 1.  0.  0.]\n",
      " [ 2.  1.  0.]\n",
      " [-3. -1.  1.]]\n",
      "[[  2.   4.   0.]\n",
      " [  4.   6.   3.]\n",
      " [ -6. -10.   0.]]\n"
     ]
    }
   ],
   "source": [
    "#i)\n",
    "resulti = np.array([2,1,-6])\n",
    "\n"
   ]
  },
  {
   "cell_type": "code",
   "execution_count": null,
   "metadata": {},
   "outputs": [],
   "source": [
    "#ii)\n",
    "matii = np.array([2,4,0,4,6,3,-6,-10,0]).reshape(3,3)\n",
    "resultii = np.array([1]*3)\n",
    "\n",
    "l,u = fatoraLU(matii)"
   ]
  },
  {
   "cell_type": "code",
   "execution_count": null,
   "metadata": {},
   "outputs": [],
   "source": [
    "#iii) \n",
    "matiii = np.array([2,4,0,4,6,3,-6,-10,0]).reshape(3,3)\n",
    "resultiii = np.array([2,1,-6])\n",
    "\n",
    "l,u = fatoraLU(mati)"
   ]
  }
 ],
 "metadata": {
  "interpreter": {
   "hash": "9c464d06a4b2d4767f115b1ab41e495990683f3b61f9428babbb6293818e2cac"
  },
  "kernelspec": {
   "display_name": "Python 3.10.0 64-bit",
   "language": "python",
   "name": "python3"
  },
  "language_info": {
   "codemirror_mode": {
    "name": "ipython",
    "version": 3
   },
   "file_extension": ".py",
   "mimetype": "text/x-python",
   "name": "python",
   "nbconvert_exporter": "python",
   "pygments_lexer": "ipython3",
   "version": "3.10.0"
  },
  "orig_nbformat": 4
 },
 "nbformat": 4,
 "nbformat_minor": 2
}
