{
 "cells": [
  {
   "cell_type": "code",
   "execution_count": 111,
   "metadata": {},
   "outputs": [],
   "source": [
    "import numpy as np\n",
    "from fractions import Fraction\n",
    "import sympy as sy\n"
   ]
  },
  {
   "cell_type": "code",
   "execution_count": 112,
   "metadata": {},
   "outputs": [
    {
     "data": {
      "text/plain": [
       "array([[ 2.,  2.,  1.,  1.,  7.],\n",
       "       [ 1., -1.,  2., -1.,  1.],\n",
       "       [ 3.,  2., -3., -2.,  4.],\n",
       "       [ 4.,  3.,  2.,  1., 12.]], dtype=float32)"
      ]
     },
     "execution_count": 112,
     "metadata": {},
     "output_type": "execute_result"
    }
   ],
   "source": [
    "mat = np.array([2,2,1,1,7,\n",
    "                1,-1,2,-1,1,\n",
    "                3,2,-3,-2,4,\n",
    "                4,3,2,1,12],dtype=np.float32).reshape(4,5)\n",
    "mat"
   ]
  },
  {
   "cell_type": "code",
   "execution_count": 113,
   "metadata": {},
   "outputs": [
    {
     "name": "stdout",
     "output_type": "stream",
     "text": [
      "\n",
      " [[ 1.   1.   0.5  0.5  3.5]\n",
      " [ 0.  -2.   1.5 -1.5 -2.5]\n",
      " [ 0.  -1.  -4.5 -3.5 -6.5]\n",
      " [ 0.  -1.   0.  -1.  -2. ]]\n",
      "\n",
      " [[ 1.    1.    0.5   0.5   3.5 ]\n",
      " [-0.    1.   -0.75  0.75  1.25]\n",
      " [ 0.    0.   -5.25 -2.75 -5.25]\n",
      " [ 0.    0.   -0.75 -0.25 -0.75]]\n",
      "\n",
      " [[ 1.          1.          0.5         0.5         3.5       ]\n",
      " [-0.          1.         -0.75        0.75        1.25      ]\n",
      " [-0.         -0.          1.          0.52380955  1.        ]\n",
      " [ 0.          0.          0.          0.14285716  0.        ]]\n",
      "\n",
      " [[ 1.          1.          0.5         0.5         3.5       ]\n",
      " [-0.          1.         -0.75        0.75        1.25      ]\n",
      " [-0.         -0.          1.          0.52380955  1.        ]\n",
      " [ 0.          0.          0.          1.          0.        ]]\n"
     ]
    }
   ],
   "source": [
    "#Realiza o método de eliminação de gauss iterativamente\n",
    "def pivot(mat,col=0,row=0):\n",
    "    mat[row] = mat[row]/mat[row,col]\n",
    "\n",
    "    for l in range(row+1,len(mat)):\n",
    "        mat[l] = mat[l] - mat[l,col]/mat[row,col] * mat[row]\n",
    "\n",
    "for r in range(len(mat)):\n",
    "   \n",
    "    pivot(mat,r,r)\n",
    "    print('\\n',mat)"
   ]
  },
  {
   "cell_type": "code",
   "execution_count": 114,
   "metadata": {},
   "outputs": [
    {
     "data": {
      "text/plain": [
       "array([1., 2., 1., 0.], dtype=float32)"
      ]
     },
     "execution_count": 114,
     "metadata": {},
     "output_type": "execute_result"
    }
   ],
   "source": [
    "np.linalg.solve(mat[:,:-1],mat[:,-1])"
   ]
  },
  {
   "cell_type": "markdown",
   "metadata": {},
   "source": [
    "# Fatoração LU"
   ]
  },
  {
   "cell_type": "code",
   "execution_count": null,
   "metadata": {},
   "outputs": [],
   "source": []
  }
 ],
 "metadata": {
  "interpreter": {
   "hash": "9c464d06a4b2d4767f115b1ab41e495990683f3b61f9428babbb6293818e2cac"
  },
  "kernelspec": {
   "display_name": "Python 3.10.0 64-bit",
   "language": "python",
   "name": "python3"
  },
  "language_info": {
   "codemirror_mode": {
    "name": "ipython",
    "version": 3
   },
   "file_extension": ".py",
   "mimetype": "text/x-python",
   "name": "python",
   "nbconvert_exporter": "python",
   "pygments_lexer": "ipython3",
   "version": "3.10.0"
  },
  "orig_nbformat": 4
 },
 "nbformat": 4,
 "nbformat_minor": 2
}
