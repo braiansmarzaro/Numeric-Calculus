{
 "cells": [
  {
   "cell_type": "markdown",
   "metadata": {},
   "source": [
    "#Lista 1 Deivid Braian Smarzaro\n"
   ]
  },
  {
   "cell_type": "code",
   "execution_count": 12,
   "metadata": {},
   "outputs": [
    {
     "name": "stdout",
     "output_type": "stream",
     "text": [
      "10001000110000\n"
     ]
    },
    {
     "data": {
      "text/plain": [
       "8752"
      ]
     },
     "execution_count": 12,
     "metadata": {},
     "output_type": "execute_result"
    }
   ],
   "source": [
    "#1) Escreva um algoritmo que recebe como dado de entrada um número inteiro qualquer (na base 10) e fornece como saída o número na base binária.\n",
    "def dec_to_bin(num:int) -> str:\n",
    "    binary=''\n",
    "    while num>=1:\n",
    "        num,resto = divmod(num,2)\n",
    "        #print(num,resto) #Acompanha o desenvolvimento das divisões\n",
    "        binary+=str(resto)\n",
    "    return binary[::-1]\n",
    "\n",
    "num = 8752 #Valor teste\n",
    "print(dec_to_bin(num))\n",
    "int(dec_to_bin(num),2) #Prova do funcionamento\n"
   ]
  },
  {
   "cell_type": "code",
   "execution_count": 14,
   "metadata": {},
   "outputs": [
    {
     "name": "stdout",
     "output_type": "stream",
     "text": [
      "base 2\n",
      "101001001.100011110101110000101 Dizima\n",
      "base 8\n",
      "511.436560507534122\n",
      "base 16\n",
      "149.81551228 Dizima\n"
     ]
    }
   ],
   "source": [
    "#2) Converta o número 329,56 (base 10) para as bases 2, 8 e 16:\n",
    "def dec_to_base(num:int,base:int) -> str:\n",
    "    '''Define uma base para o valor decimal ser convertido'''\n",
    "\n",
    "    cumulative=''\n",
    "    while num>=1:\n",
    "        num,resto = divmod(num,base)\n",
    "        #print(num,resto) #Acompanha o desenvolvimento das divisões\n",
    "        cumulative+=str(resto)\n",
    "    return cumulative[::-1]\n",
    "\n",
    "def floatdec_to_base(num: float,base:int) -> str:\n",
    "    integer = dec_to_base(int(num),base)\n",
    "    remain = num%1\n",
    "    remainlist=[]\n",
    "    result =[integer+'.']\n",
    "    while remain!=0:\n",
    "        \n",
    "        remain*=base\n",
    "        result += [int(remain)]\n",
    "        remain%=1\n",
    "        if float(f'{remain:.2f}') in remainlist:\n",
    "            #print('Dizima encontrada')\n",
    "            result+=[' Dizima']\n",
    "            break\n",
    "        remainlist+=[float(f'{remain:.2f}')]\n",
    "\n",
    "        #print(result,remainlist[-1])\n",
    "    result = ''.join(list(map(str,result)))\n",
    "    print('base',base)\n",
    "    return result\n",
    "\n",
    "print(floatdec_to_base(329.56,2))\n",
    "print(floatdec_to_base(329.56,8))\n",
    "print(floatdec_to_base(329.56,16))\n"
   ]
  },
  {
   "cell_type": "code",
   "execution_count": 23,
   "metadata": {},
   "outputs": [
    {
     "name": "stdout",
     "output_type": "stream",
     "text": [
      "1100\n"
     ]
    }
   ],
   "source": [
    "#3) Descreva como são realizadas as operações básicas (adição, subtração, multiplicação e divisão) no sistema binário, resolvendo exemplos em cada caso.\n",
    "\n",
    "#Adição\n",
    "#Os valores são somados a partir do valor menos significativo, sendo que quando a soma ultrapassa 1, é passado o excedente para o proximo bit, por exemplo em 11+10, teremos  \"2\" 1, que resulta em 101\n",
    "\n",
    "def bin_add(b1:str,b2:str) -> str:\n",
    "    #iguala os binarios em bits\n",
    "    while len(b1) < len(b2):\n",
    "        b1 = \"0\" + b1\n",
    "\n",
    "    while len(bin2) < len(bin1):\n",
    "        b2 = \"0\" + b2\n",
    "    result = []\n",
    "    carry = False\n",
    "\n",
    "    for c in range(1,len(b1)+1):\n",
    "        count_ones = 0 #Acumula a soma no bit atual, contando com o carry\n",
    "\n",
    "        if b1[-c] == \"1\":\n",
    "          count_ones += 1\n",
    "        if b2[-c] == \"1\":\n",
    "          count_ones += 1\n",
    "        if carry:\n",
    "          count_ones += 1\n",
    "        \n",
    "        if count_ones % 2 == 0:\n",
    "          result.append(\"0\")\n",
    "        else:\n",
    "          result.append(\"1\")\n",
    "        if count_ones > 1:\n",
    "          carry = True\n",
    "        else:\n",
    "          carry = False\n",
    "\n",
    "    if carry:\n",
    "      result.append(\"1\")\n",
    "    result.reverse()\n",
    "    return \"\".join(result)\n",
    "\n",
    "print(bin_add(\"101\",\"111\"))\n",
    "\n",
    "#Subtração\n",
    "\n",
    "#Multiplicação\n",
    "\n",
    "#Divisão"
   ]
  },
  {
   "cell_type": "code",
   "execution_count": 23,
   "metadata": {},
   "outputs": [
    {
     "data": {
      "text/plain": [
       "119.9988"
      ]
     },
     "execution_count": 23,
     "metadata": {},
     "output_type": "execute_result"
    }
   ],
   "source": [
    "#4) Represente os números abaixo(dados na base 6), utilizando arredondamento se necessário, \n",
    "# no sistema de ponto flutuante 𝐹𝑃(6,5,−2,3):\n",
    "#m=.1*6**-2 = 0.002777777777777778\n",
    "#M=.55555*6**3 = 119.9988\n",
    "\n",
    "#a) 0.0055555\n",
    "a=.01000*6**0\n",
    "\n",
    "#b)1341.51\n",
    "b=.55555*6**3 #overflow\n",
    "\n",
    "#c)0.000123425\n",
    "\n",
    ".55555*6**3 \n"
   ]
  },
  {
   "cell_type": "code",
   "execution_count": null,
   "metadata": {},
   "outputs": [],
   "source": [
    "#6) Quantos números inteiros positivos podem ser representados em uma base 𝛽, cada um com 𝑛 algarismos significativos?"
   ]
  }
 ],
 "metadata": {
  "interpreter": {
   "hash": "9c464d06a4b2d4767f115b1ab41e495990683f3b61f9428babbb6293818e2cac"
  },
  "kernelspec": {
   "display_name": "Python 3.10.0 64-bit",
   "name": "python3"
  },
  "language_info": {
   "codemirror_mode": {
    "name": "ipython",
    "version": 3
   },
   "file_extension": ".py",
   "mimetype": "text/x-python",
   "name": "python",
   "nbconvert_exporter": "python",
   "pygments_lexer": "ipython3",
   "version": "3.10.0"
  },
  "orig_nbformat": 4
 },
 "nbformat": 4,
 "nbformat_minor": 2
}
