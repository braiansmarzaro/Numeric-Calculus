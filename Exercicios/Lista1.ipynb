{
 "cells": [
  {
   "cell_type": "markdown",
   "metadata": {},
   "source": [
    "#Lista 1 Deivid Braian Smarzaro\n"
   ]
  },
  {
   "cell_type": "code",
   "execution_count": 12,
   "metadata": {},
   "outputs": [
    {
     "name": "stdout",
     "output_type": "stream",
     "text": [
      "10001000110000\n"
     ]
    },
    {
     "data": {
      "text/plain": [
       "8752"
      ]
     },
     "execution_count": 12,
     "metadata": {},
     "output_type": "execute_result"
    }
   ],
   "source": [
    "#1) Escreva um algoritmo que recebe como dado de entrada um número inteiro qualquer (na base 10) e fornece como saída o número na base binária.\n",
    "def dec_to_bin(num:int) -> str:\n",
    "    binary=''\n",
    "    while num>=1:\n",
    "        num,resto = divmod(num,2)\n",
    "        #print(num,resto) #Acompanha o desenvolvimento das divisões\n",
    "        binary+=str(resto)\n",
    "    return binary[::-1]\n",
    "\n",
    "num = 8752 #Valor teste\n",
    "print(dec_to_bin(num))\n",
    "int(dec_to_bin(num),2) #Prova do funcionamento\n"
   ]
  },
  {
   "cell_type": "code",
   "execution_count": 14,
   "metadata": {},
   "outputs": [
    {
     "name": "stdout",
     "output_type": "stream",
     "text": [
      "base 2\n",
      "101001001.100011110101110000101 Dizima\n",
      "base 8\n",
      "511.436560507534122\n",
      "base 16\n",
      "149.81551228 Dizima\n"
     ]
    }
   ],
   "source": [
    "#2) Converta o número 329,56 (base 10) para as bases 2, 8 e 16:\n",
    "def dec_to_base(num:int,base:int) -> str:\n",
    "    '''Define uma base para o valor decimal ser convertido'''\n",
    "\n",
    "    cumulative=''\n",
    "    while num>=1:\n",
    "        num,resto = divmod(num,base)\n",
    "        #print(num,resto) #Acompanha o desenvolvimento das divisões\n",
    "        cumulative+=str(resto)\n",
    "    return cumulative[::-1]\n",
    "\n",
    "def floatdec_to_base(num: float,base:int) -> str:\n",
    "    integer = dec_to_base(int(num),base)\n",
    "    remain = num%1\n",
    "    remainlist=[]\n",
    "    result =[integer+'.']\n",
    "    while remain!=0:\n",
    "        \n",
    "        remain*=base\n",
    "        result += [int(remain)]\n",
    "        remain%=1\n",
    "        if float(f'{remain:.2f}') in remainlist:\n",
    "            #print('Dizima encontrada')\n",
    "            result+=[' Dizima']\n",
    "            break\n",
    "        remainlist+=[float(f'{remain:.2f}')]\n",
    "\n",
    "        #print(result,remainlist[-1])\n",
    "    result = ''.join(list(map(str,result)))\n",
    "    print('base',base)\n",
    "    return result\n",
    "\n",
    "print(floatdec_to_base(329.56,2))\n",
    "print(floatdec_to_base(329.56,8))\n",
    "print(floatdec_to_base(329.56,16))\n"
   ]
  },
  {
   "cell_type": "code",
   "execution_count": 23,
   "metadata": {},
   "outputs": [
    {
     "name": "stdout",
     "output_type": "stream",
     "text": [
      "1100\n"
     ]
    }
   ],
   "source": [
    "#3) Descreva como são realizadas as operações básicas (adição, subtração, multiplicação e divisão) no sistema binário, resolvendo exemplos em cada caso.\n",
    "\n",
    "#Adição\n",
    "#Os valores são somados a partir do valor menos significativo, sendo que quando a soma ultrapassa 1, é passado o excedente para o proximo bit, por exemplo em 11+10, teremos  \"2\" 1, que resulta em 101\n",
    "\n",
    "def bin_add(b1:str,b2:str) -> str:\n",
    "    #iguala os binarios em bits\n",
    "    while len(b1) < len(b2):\n",
    "        b1 = \"0\" + b1\n",
    "\n",
    "    while len(bin2) < len(bin1):\n",
    "        b2 = \"0\" + b2\n",
    "    result = []\n",
    "    carry = False\n",
    "\n",
    "    for c in range(1,len(b1)+1):\n",
    "        count_ones = 0 #Acumula a soma no bit atual, contando com o carry\n",
    "\n",
    "        if b1[-c] == \"1\":\n",
    "          count_ones += 1\n",
    "        if b2[-c] == \"1\":\n",
    "          count_ones += 1\n",
    "        if carry:\n",
    "          count_ones += 1\n",
    "        \n",
    "        if count_ones % 2 == 0:\n",
    "          result.append(\"0\")\n",
    "        else:\n",
    "          result.append(\"1\")\n",
    "        if count_ones > 1:\n",
    "          carry = True\n",
    "        else:\n",
    "          carry = False\n",
    "\n",
    "    if carry:\n",
    "      result.append(\"1\")\n",
    "    result.reverse()\n",
    "    return \"\".join(result)\n",
    "\n",
    "print(bin_add(\"101\",\"111\"))\n",
    "\n",
    "#Subtração\n",
    "\n",
    "#Multiplicação\n",
    "\n",
    "#Divisão"
   ]
  },
  {
   "cell_type": "code",
   "execution_count": 23,
   "metadata": {},
   "outputs": [
    {
     "data": {
      "text/plain": [
       "119.9988"
      ]
     },
     "execution_count": 23,
     "metadata": {},
     "output_type": "execute_result"
    }
   ],
   "source": [
    "#4) Represente os números abaixo(dados na base 6), utilizando arredondamento se necessário, \n",
    "# no sistema de ponto flutuante 𝐹𝑃(6,5,−2,3):\n",
    "#m=.1*6**-2 = 0.002777777777777778\n",
    "#M=.55555*6**3 = 119.9988\n",
    "\n",
    "#a) 0.0055555\n",
    "a=.55555*6**-2\n",
    "\n",
    "#b)1341.51\n",
    "b=.55555*6**3 #overflow\n",
    "\n",
    "#c)0.000123425\n",
    "\n",
    "c=.10000*6**-2 #underflow\n",
    "\n",
    "#d)0.0555555\n",
    "d= .10000*6**0\n",
    "\n",
    "#e) 13.053\n",
    "e= .13053*6**2"
   ]
  },
  {
   "cell_type": "markdown",
   "metadata": {},
   "source": [
    "### 6) Quantos números inteiros positivos podem ser representados em uma base 𝛽, cada um com 𝑛 algarismos significativos?\n",
    "    𝑁=(𝛽−1)*𝛽**(𝑛−1)*(𝑒2−𝑒1+1) + 1\n",
    "    sendo e2 o maior expoente do sistema FP e e1 o menor expoente do sistema FP"
   ]
  },
  {
   "cell_type": "markdown",
   "metadata": {},
   "source": [
    "## 7) Trabalhando   no   sistema   de   ponto   flutuante 𝐹𝑃(10,3,−2,2) e   uma   representação   por arredondamento, verifique se:\n",
    "    a) 15.9*(4.99  + 0.02) = ou != (15.9* 4.99) +  (15.9*0.02)\n",
    "    b) (0.123/7.97) *84.9 = ou !=(0.123*84.9) / 7.97\n",
    "\n",
    "### a)\n",
    "    a1 = 15.9*(5.01)\n",
    "    a1 = .79659 * 10**2 = .797 * 10**2\n",
    "\n",
    "    a2 = 79.341 + 0.318 = .793 * 10**2 + .318 * 10**0\n",
    "    a2 = .793 * 10**2 + .00318 * 10**2 \n",
    "    a2 = .79618 * 10**2 \n",
    "    a2 = .796 * 10**2\n",
    "\n",
    "    a1 == a2 -> False\n",
    "\n",
    "### b)\n",
    "    b1 = .154 * 10**-1 * .849 * 10**2\n",
    "    b1 = .131 * 10**1\n",
    "\n",
    "    b2 = 10.4427 / 7.97\n",
    "    b2 = .104 * 10**2 / .797 * 10**1\n",
    "    b2 = .130 * 10**1\n",
    "\n",
    "    b1 == b2 -> False"
   ]
  },
  {
   "cell_type": "markdown",
   "metadata": {},
   "source": [
    "## 8) Seja o sistema de aritmética de ponto flutuante 𝐹𝑃(10,4,−5,7). Dados os números: x = 0,7237×10^4, y = 0.2145×10^-3 e z = 0.2585×10^-1 Efetue as operações e obtenha o erro relativo em cada caso, supondo que x, y e z estão exatamente representados no sistema dado: \n",
    "### a)x + y + z  \n",
    "### b)(xy)/z"
   ]
  },
  {
   "cell_type": "markdown",
   "metadata": {},
   "source": [
    "# ERRADO \n",
    "    # underline representa o limite da mantissa\n",
    "    a = x + y + z = 0.7237 * 10**4 + 0.2145 * 10**-3 + 0.2585 * 10**-1\n",
    "    a = 0.7237 * 10**4 + .0000_0002145 * 10**4 + 0.0000_02585 * 10**4\n",
    "    a = 0.7237 * 10**4 + 0 +  0\n",
    "    a = 0.7237 * 10**4\n",
    "\n",
    "    b = (0.7237 * 10**4 * 0.2145 * 10**-3) / 0.2585 * 10**-1\n",
    "    b = (0.15523365 * 10**1) / (0.002585 * 10**1)\n",
    "    b = .6005 *10**-2"
   ]
  },
  {
   "cell_type": "code",
   "execution_count": 10,
   "metadata": {},
   "outputs": [
    {
     "data": {
      "text/plain": [
       "0.7237026064500001"
      ]
     },
     "execution_count": 10,
     "metadata": {},
     "output_type": "execute_result"
    }
   ],
   "source": [
    "0.7237+ .00000002145  + 0.000002585 "
   ]
  },
  {
   "cell_type": "markdown",
   "metadata": {},
   "source": [
    "## 9) Considere uma máquina cujo sistema de representação de números é definido por base decimal, 4 dígitos na mantissa (n = 4), e expoentes no intervalo (-5, 5). Pede-se:\n",
    "### a)Se a = 42451 e b=2 qual o resultado de a + b?\n",
    "### b)Determine S1, S2e S3, dados a seguir:𝑆1=42451+3+3+3+3+⋯+3,𝑆2=42451+(∑(𝑘=1 to 10)3) e   𝑆3=(∑(k=1 to 10)3)+42451"
   ]
  },
  {
   "cell_type": "markdown",
   "metadata": {},
   "source": [
    "### a)\n",
    "    a = .4245 * 10**5 + .2 * 10**1\n",
    "    a = .4245 * 10**5 + .0000_2 * 10**5\n",
    "    a = .4245 * 10**5\n",
    "\n",
    "### b)\n",
    "    s1 = .4245 * 10**5 + (.3000 * 10**1)*10\n",
    "    s1 = .4245 * 10**5 + .0003 * 10**5\n",
    "    s1 = .4248 * 10**5\n",
    "\n",
    "    s2 = .4245 * 10**5 + (.3000 * 10**1)*10\n",
    "    s2 = .4245 * 10**5 + .0003 * 10**5\n",
    "    s2 = .4248 * 10**5\n",
    "\n",
    "    s3 = (.3000 * 10**1)*10 + .4245 * 10**5\n"
   ]
  },
  {
   "cell_type": "markdown",
   "metadata": {},
   "source": [
    "## 10) A equação 1+x=1tem solução única em um computador com sistema𝐹𝑃(10,10,−99,99)?Explique\n",
    "\n",
    "Não, pois todos os elementos com expoente menor que -10, serão arredondados para zero, que seria uma solução da equação.\n",
    "\n",
    "0.9999999999 * 10**-11"
   ]
  },
  {
   "cell_type": "code",
   "execution_count": 8,
   "metadata": {},
   "outputs": [
    {
     "data": {
      "text/plain": [
       "'0.0000000000'"
      ]
     },
     "execution_count": 8,
     "metadata": {},
     "output_type": "execute_result"
    }
   ],
   "source": [
    "#Exemplo\n",
    "f'{0.9999999999 * 10**-11:.10f}'"
   ]
  }
 ],
 "metadata": {
  "interpreter": {
   "hash": "9c464d06a4b2d4767f115b1ab41e495990683f3b61f9428babbb6293818e2cac"
  },
  "kernelspec": {
   "display_name": "Python 3.10.0 64-bit",
   "name": "python3"
  },
  "language_info": {
   "codemirror_mode": {
    "name": "ipython",
    "version": 3
   },
   "file_extension": ".py",
   "mimetype": "text/x-python",
   "name": "python",
   "nbconvert_exporter": "python",
   "pygments_lexer": "ipython3",
   "version": "3.10.0"
  },
  "orig_nbformat": 4
 },
 "nbformat": 4,
 "nbformat_minor": 2
}
