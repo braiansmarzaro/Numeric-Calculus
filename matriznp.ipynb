{
 "cells": [
  {
   "cell_type": "markdown",
   "metadata": {},
   "source": [
    "# Estudo de sistemas lineares utilizando numpy\n",
    "### Com foco em sistemas de solução única"
   ]
  },
  {
   "cell_type": "code",
   "execution_count": 1,
   "metadata": {},
   "outputs": [],
   "source": [
    "import numpy as np"
   ]
  },
  {
   "cell_type": "code",
   "execution_count": 2,
   "metadata": {},
   "outputs": [],
   "source": [
    "#Definindo um sistema linear em numpy\n",
    "#x+2y+z=0\n",
    "#x-y-z=5\n",
    "\n",
    "sist = np.array([[1,2,1],[1,-1,-1]])\n",
    "resp = np.array([0,5])\n"
   ]
  },
  {
   "cell_type": "code",
   "execution_count": 3,
   "metadata": {},
   "outputs": [
    {
     "name": "stdout",
     "output_type": "stream",
     "text": [
      "69944.70165168893\n"
     ]
    },
    {
     "data": {
      "text/plain": [
       "array([[23.25633578, 55.94190495, 77.15113992],\n",
       "       [87.96326812, 76.6808474 , 52.69537056],\n",
       "       [80.14460318, 57.67133982,  4.10629736]])"
      ]
     },
     "execution_count": 3,
     "metadata": {},
     "output_type": "execute_result"
    }
   ],
   "source": [
    "#testando determinante\n",
    "\n",
    "rng = np.random.default_rng()\n",
    "mat=rng.random((3,3))*(100)\n",
    "print(np.linalg.det(mat))\n",
    "mat"
   ]
  },
  {
   "cell_type": "markdown",
   "metadata": {},
   "source": [
    "## Método de eliminação de Gauss\n",
    "\n",
    "O Método da Eliminação de Gauss consiste em transformar o sistema\n",
    "original em um sistema equivalente (que tem a mesma solução) com\n",
    "matriz dos coeficientes triangular superior.\n",
    "\n",
    "Pivô é o elemento base para zerar os elementos abaixo dele"
   ]
  },
  {
   "cell_type": "code",
   "execution_count": 4,
   "metadata": {},
   "outputs": [
    {
     "name": "stdout",
     "output_type": "stream",
     "text": [
      "[[23.25633578 55.94190495 77.15113992]\n",
      " [87.96326812 76.6808474  52.69537056]\n",
      " [80.14460318 57.67133982  4.10629736]]\n",
      "[[ 1.          2.40544794  3.31742458]\n",
      " [87.96326812 76.6808474  52.69537056]\n",
      " [80.14460318 57.67133982  4.10629736]]\n"
     ]
    }
   ],
   "source": [
    "#É possivel realizar operações elementares que nao alteram a solução do sistema, \n",
    "# como multiplicações, divisões por numero e soma e subtração de linhas\n",
    "\n",
    "#Usando a matriz mat, temos\n",
    "print(mat)\n",
    "\n",
    "mat[0]=mat[0]/min(mat[0])\n",
    "\n",
    "print(mat)"
   ]
  },
  {
   "cell_type": "markdown",
   "metadata": {},
   "source": [
    "# Fatoração LU\n",
    "  https://www.ufrgs.br/reamat/CalculoNumerico/livro-py/sdsl-fatoracao_lu.html"
   ]
  },
  {
   "cell_type": "code",
   "execution_count": 5,
   "metadata": {},
   "outputs": [],
   "source": [
    "def fatoraLU(A):  \n",
    "    U = np.copy(A)  \n",
    "    n = np.shape(U)[0]  \n",
    "    L = np.eye(n)\n",
    "    for j in np.arange(n-1):  \n",
    "        for i in np.arange(j+1,n):  \n",
    "            L[i,j] = U[i,j]/U[j,j]  \n",
    "            for k in np.arange(j+1,n):  \n",
    "                U[i,k] = U[i,k] - L[i,j]*U[j,k]  \n",
    "            U[i,j] = 0  \n",
    "    return L, U"
   ]
  },
  {
   "cell_type": "code",
   "execution_count": 12,
   "metadata": {},
   "outputs": [
    {
     "data": {
      "text/plain": [
       "array([14])"
      ]
     },
     "execution_count": 12,
     "metadata": {},
     "output_type": "execute_result"
    }
   ],
   "source": [
    "np.array([1,2,3])@np.array([[1],[2],[3]])"
   ]
  }
 ],
 "metadata": {
  "interpreter": {
   "hash": "9c464d06a4b2d4767f115b1ab41e495990683f3b61f9428babbb6293818e2cac"
  },
  "kernelspec": {
   "display_name": "Python 3.10.0 64-bit",
   "language": "python",
   "name": "python3"
  },
  "language_info": {
   "codemirror_mode": {
    "name": "ipython",
    "version": 3
   },
   "file_extension": ".py",
   "mimetype": "text/x-python",
   "name": "python",
   "nbconvert_exporter": "python",
   "pygments_lexer": "ipython3",
   "version": "3.10.0"
  },
  "orig_nbformat": 4
 },
 "nbformat": 4,
 "nbformat_minor": 2
}
