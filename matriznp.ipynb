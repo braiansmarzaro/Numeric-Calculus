{
 "cells": [
  {
   "cell_type": "markdown",
   "metadata": {},
   "source": [
    "# Estudo de sistemas lineares utilizando numpy\n",
    "### Com foco em sistemas de solução única"
   ]
  },
  {
   "cell_type": "code",
   "execution_count": 2,
   "metadata": {},
   "outputs": [],
   "source": [
    "import numpy as np"
   ]
  },
  {
   "cell_type": "code",
   "execution_count": 3,
   "metadata": {},
   "outputs": [],
   "source": [
    "#Definindo um sistema linear em numpy\n",
    "#x+2y+z=0\n",
    "#x-y-z=5\n",
    "\n",
    "sist = np.array([[1,2,1],[1,-1,-1]])\n",
    "resp = np.array([0,5])\n"
   ]
  },
  {
   "cell_type": "code",
   "execution_count": 28,
   "metadata": {},
   "outputs": [
    {
     "name": "stdout",
     "output_type": "stream",
     "text": [
      "338605.89470244094\n"
     ]
    },
    {
     "data": {
      "text/plain": [
       "array([[81.97979867, 99.99843194, 16.93535652],\n",
       "       [74.82710884, 84.02909178, 73.60607692],\n",
       "       [75.15283098, 17.72887444, 38.88737579]])"
      ]
     },
     "execution_count": 28,
     "metadata": {},
     "output_type": "execute_result"
    }
   ],
   "source": [
    "#testando determinante\n",
    "\n",
    "rng = np.random.default_rng()\n",
    "mat=rng.random((3,3))*(100)\n",
    "print(np.linalg.det(mat))\n",
    "mat"
   ]
  },
  {
   "cell_type": "markdown",
   "metadata": {},
   "source": [
    "## Método de eliminação de Gauss\n",
    "\n",
    "O Método da Eliminação de Gauss consiste em transformar o sistema\n",
    "original em um sistema equivalente (que tem a mesma solução) com\n",
    "matriz dos coeficientes triangular superior.\n",
    "\n",
    "Pivô é o elemento base para zerar os elementos abaixo dele"
   ]
  },
  {
   "cell_type": "code",
   "execution_count": 29,
   "metadata": {},
   "outputs": [
    {
     "name": "stdout",
     "output_type": "stream",
     "text": [
      "[[81.97979867 99.99843194 16.93535652]\n",
      " [74.82710884 84.02909178 73.60607692]\n",
      " [75.15283098 17.72887444 38.88737579]]\n",
      "[[ 4.84074832  5.90471372  1.        ]\n",
      " [74.82710884 84.02909178 73.60607692]\n",
      " [75.15283098 17.72887444 38.88737579]]\n"
     ]
    }
   ],
   "source": [
    "#É possivel realizar operações elementares que nao alteram a solução do sistema, \n",
    "# como multiplicações, divisões por numero e soma e subtração de linhas\n",
    "\n",
    "#Usando a matriz mat, temos\n",
    "print(mat)\n",
    "\n",
    "mat[0]=mat[0]/min(mat[0])\n",
    "\n",
    "print(mat)"
   ]
  }
 ],
 "metadata": {
  "interpreter": {
   "hash": "9c464d06a4b2d4767f115b1ab41e495990683f3b61f9428babbb6293818e2cac"
  },
  "kernelspec": {
   "display_name": "Python 3.10.0 64-bit",
   "language": "python",
   "name": "python3"
  },
  "language_info": {
   "codemirror_mode": {
    "name": "ipython",
    "version": 3
   },
   "file_extension": ".py",
   "mimetype": "text/x-python",
   "name": "python",
   "nbconvert_exporter": "python",
   "pygments_lexer": "ipython3",
   "version": "3.10.0"
  },
  "orig_nbformat": 4
 },
 "nbformat": 4,
 "nbformat_minor": 2
}
